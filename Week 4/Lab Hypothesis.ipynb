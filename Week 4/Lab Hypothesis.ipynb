{
 "cells": [
  {
   "cell_type": "markdown",
   "id": "62114eba",
   "metadata": {},
   "source": [
    "# Lab | Hypothesis Testing\n",
    "\n",
    "\n",
    "### Instructions\n",
    "\n",
    "1. It is assumed that the mean systolic blood pressure is `μ = 120 mm Hg`. In the Honolulu Heart Study, a sample of `n = 100` people had an average systolic blood pressure of 130.1 mm Hg with a standard deviation of 21.21 mm Hg. Is the group significantly different (with respect to systolic blood pressure!) from the regular population?\n",
    "\n",
    "   - Set up the hypothesis test.\n",
    "   - Write down all the steps followed for setting up the test.\n",
    "   - Calculate the test statistic by hand and also code it in Python. It should be 4.76190. What decision can you make based on this calculated value?\n",
    "\n",
    "Hint: here is the statistic [table](https://yuppal.people.ysu.edu/econ_3790/t-table.pdf ) \n"
   ]
  },
  {
   "cell_type": "markdown",
   "id": "d402f1ef",
   "metadata": {},
   "source": [
    "###  1.- Set H0&H1 Hypothesis"
   ]
  },
  {
   "cell_type": "markdown",
   "id": "08331f81",
   "metadata": {},
   "source": [
    "H0: mu = 120\n",
    "\n",
    "H1: mu != 120"
   ]
  },
  {
   "cell_type": "markdown",
   "id": "4a5ba564",
   "metadata": {},
   "source": [
    "## 2.- Calculate t-score"
   ]
  },
  {
   "cell_type": "code",
   "execution_count": 1,
   "id": "11c15555",
   "metadata": {},
   "outputs": [],
   "source": [
    "mu=120\n",
    "n=100\n",
    "xb=130.1\n",
    "stdv = 21.21"
   ]
  },
  {
   "cell_type": "code",
   "execution_count": 2,
   "id": "624c10ab",
   "metadata": {},
   "outputs": [
    {
     "data": {
      "text/plain": [
       "4.761904761904759"
      ]
     },
     "execution_count": 2,
     "metadata": {},
     "output_type": "execute_result"
    }
   ],
   "source": [
    "import numpy as np\n",
    "t_score = (xb-mu)/(stdv/np.sqrt(n))\n",
    "t_score"
   ]
  },
  {
   "cell_type": "markdown",
   "id": "85de1c4d",
   "metadata": {},
   "source": [
    "## 3.- Compare against critical value"
   ]
  },
  {
   "cell_type": "code",
   "execution_count": 3,
   "id": "9bc6ae71",
   "metadata": {},
   "outputs": [
    {
     "data": {
      "text/plain": [
       "1.9842169515086827"
      ]
     },
     "execution_count": 3,
     "metadata": {},
     "output_type": "execute_result"
    }
   ],
   "source": [
    "#Using scipy.stats\n",
    "import scipy.stats\n",
    "t_t=scipy.stats.t.ppf(q=1-.025,df=99) #from function\n",
    "t_t"
   ]
  },
  {
   "cell_type": "code",
   "execution_count": 4,
   "id": "1c8fb7d0",
   "metadata": {},
   "outputs": [
    {
     "name": "stdout",
     "output_type": "stream",
     "text": [
      "The critical value corresponding to a 0.95 area of a t distribution is: 1.98\n"
     ]
    }
   ],
   "source": [
    "# Value from t-table, degrees of freedom = 100-99=1\n",
    "#alpha level = Confidence level = 95%\n",
    "\n",
    "print(\"The critical value corresponding to a 0.95 area of a t distribution is: {:.2f}\".format(t_t))"
   ]
  },
  {
   "cell_type": "markdown",
   "id": "4c8b2022",
   "metadata": {},
   "source": [
    "**t > t-score:**\n",
    "\n",
    "**Reject the null hypothesis**"
   ]
  },
  {
   "cell_type": "markdown",
   "id": "bba9cadf",
   "metadata": {},
   "source": [
    "### Optional\n",
    "2. In a packing plant, a machine packs cartons with jars. It is supposed that a new machine will pack faster on the average than the machine currently used. To test that hypothesis, the times it takes each machine to pack ten cartons are recorded. The results, in seconds, are shown in the tables in the file `Data/machine.txt`. Assume that there is sufficient evidence to conduct the t test, does the data provide sufficient evidence to show if one machine is better than the other.\n",
    "\n",
    "Hint: use two sample t-test\n",
    "\n",
    "t= (sample_mean(x1) - sample_mean(x2)) / sqrt(square(s1)/n1  +  square(s2)/n2 )"
   ]
  },
  {
   "cell_type": "code",
   "execution_count": 5,
   "id": "cf735655",
   "metadata": {
    "scrolled": true
   },
   "outputs": [
    {
     "data": {
      "text/html": [
       "<div>\n",
       "<style scoped>\n",
       "    .dataframe tbody tr th:only-of-type {\n",
       "        vertical-align: middle;\n",
       "    }\n",
       "\n",
       "    .dataframe tbody tr th {\n",
       "        vertical-align: top;\n",
       "    }\n",
       "\n",
       "    .dataframe thead th {\n",
       "        text-align: right;\n",
       "    }\n",
       "</style>\n",
       "<table border=\"1\" class=\"dataframe\">\n",
       "  <thead>\n",
       "    <tr style=\"text-align: right;\">\n",
       "      <th></th>\n",
       "      <th>New Machine</th>\n",
       "      <th>Old Machine</th>\n",
       "    </tr>\n",
       "  </thead>\n",
       "  <tbody>\n",
       "    <tr>\n",
       "      <th>0</th>\n",
       "      <td>42.1</td>\n",
       "      <td>42.7</td>\n",
       "    </tr>\n",
       "    <tr>\n",
       "      <th>1</th>\n",
       "      <td>41.0</td>\n",
       "      <td>43.6</td>\n",
       "    </tr>\n",
       "    <tr>\n",
       "      <th>2</th>\n",
       "      <td>41.3</td>\n",
       "      <td>43.8</td>\n",
       "    </tr>\n",
       "    <tr>\n",
       "      <th>3</th>\n",
       "      <td>41.8</td>\n",
       "      <td>43.3</td>\n",
       "    </tr>\n",
       "    <tr>\n",
       "      <th>4</th>\n",
       "      <td>42.4</td>\n",
       "      <td>42.5</td>\n",
       "    </tr>\n",
       "    <tr>\n",
       "      <th>5</th>\n",
       "      <td>42.8</td>\n",
       "      <td>43.5</td>\n",
       "    </tr>\n",
       "    <tr>\n",
       "      <th>6</th>\n",
       "      <td>43.2</td>\n",
       "      <td>43.1</td>\n",
       "    </tr>\n",
       "    <tr>\n",
       "      <th>7</th>\n",
       "      <td>42.3</td>\n",
       "      <td>41.7</td>\n",
       "    </tr>\n",
       "    <tr>\n",
       "      <th>8</th>\n",
       "      <td>41.8</td>\n",
       "      <td>44.0</td>\n",
       "    </tr>\n",
       "    <tr>\n",
       "      <th>9</th>\n",
       "      <td>42.7</td>\n",
       "      <td>44.1</td>\n",
       "    </tr>\n",
       "  </tbody>\n",
       "</table>\n",
       "</div>"
      ],
      "text/plain": [
       "   New Machine  Old Machine\n",
       "0         42.1         42.7\n",
       "1         41.0         43.6\n",
       "2         41.3         43.8\n",
       "3         41.8         43.3\n",
       "4         42.4         42.5\n",
       "5         42.8         43.5\n",
       "6         43.2         43.1\n",
       "7         42.3         41.7\n",
       "8         41.8         44.0\n",
       "9         42.7         44.1"
      ]
     },
     "execution_count": 5,
     "metadata": {},
     "output_type": "execute_result"
    }
   ],
   "source": [
    "import pandas as pd\n",
    "times_df=pd.read_csv('LAb/Data/Data_Machine.txt',delimiter = \"\\t\")\n",
    "times_df.columns = ['New Machine','Old Machine']\n",
    "times_df"
   ]
  },
  {
   "cell_type": "code",
   "execution_count": 11,
   "id": "bef9fa86",
   "metadata": {},
   "outputs": [
    {
     "data": {
      "text/plain": [
       "0    42.1\n",
       "1    41.0\n",
       "2    41.3\n",
       "3    41.8\n",
       "4    42.4\n",
       "5    42.8\n",
       "6    43.2\n",
       "7    42.3\n",
       "8    41.8\n",
       "9    42.7\n",
       "Name: New Machine, dtype: float64"
      ]
     },
     "execution_count": 11,
     "metadata": {},
     "output_type": "execute_result"
    }
   ],
   "source": [
    "times_df['New Machine']"
   ]
  },
  {
   "cell_type": "code",
   "execution_count": 6,
   "id": "5d16c089",
   "metadata": {},
   "outputs": [
    {
     "name": "stdout",
     "output_type": "stream",
     "text": [
      "New machine has an avergae speed of: 42.14 with a stdev of 0.683\n",
      "Old machine has an avergae speed of: 43.23 with a stdev of 0.75\n"
     ]
    }
   ],
   "source": [
    "x1= times_df['New Machine']\n",
    "x2 = times_df['Old Machine']\n",
    "xb1 = x1.mean()\n",
    "xb2 = x2.mean()\n",
    "s1 = x1.std()\n",
    "s2= x2.std()\n",
    "n= len(times_df)\n",
    "print('New machine has an avergae speed of:' , xb1, 'with a stdev of', round(s1,3))\n",
    "print('Old machine has an avergae speed of:' , round(xb2,2), 'with a stdev of', round(s2,3))"
   ]
  },
  {
   "cell_type": "markdown",
   "id": "f03c1112",
   "metadata": {},
   "source": [
    "### Equal variances"
   ]
  },
  {
   "cell_type": "code",
   "execution_count": 7,
   "id": "66cb80ff",
   "metadata": {},
   "outputs": [
    {
     "data": {
      "text/plain": [
       "1.2038534728829622"
      ]
     },
     "execution_count": 7,
     "metadata": {},
     "output_type": "execute_result"
    }
   ],
   "source": [
    "var1 = np.var(x1)\n",
    "var2 = np.var(x2)\n",
    "var2/var1"
   ]
  },
  {
   "cell_type": "markdown",
   "id": "1ce82028",
   "metadata": {},
   "source": [
    "### Seting H0 & H1\n",
    "\n",
    "H0: xb1 - xb2 =0\n",
    "\n",
    "H1: xb1 - xb2 <0"
   ]
  },
  {
   "cell_type": "code",
   "execution_count": 8,
   "id": "b2c7f8cc",
   "metadata": {},
   "outputs": [
    {
     "data": {
      "text/plain": [
       "-3.397230706117603"
      ]
     },
     "execution_count": 8,
     "metadata": {},
     "output_type": "execute_result"
    }
   ],
   "source": [
    "#t= (sample_mean(x1) - sample_mean(x2)) / sqrt(square(s1)/n1 + square(s2)/n2 )\n",
    "t = (xb1 - xb2 )/(np.sqrt(pow(s1,2)/n + pow(s2,2)/n))\n",
    "t\n"
   ]
  },
  {
   "cell_type": "code",
   "execution_count": 9,
   "id": "f843de3e",
   "metadata": {},
   "outputs": [
    {
     "data": {
      "text/plain": [
       "Ttest_indResult(statistic=-3.3972307061176026, pvalue=0.0032111425007745158)"
      ]
     },
     "execution_count": 9,
     "metadata": {},
     "output_type": "execute_result"
    }
   ],
   "source": [
    "from scipy import stats\n",
    "stats.ttest_ind(x1, x2, equal_var=True)"
   ]
  },
  {
   "cell_type": "markdown",
   "id": "fc224a0e",
   "metadata": {},
   "source": [
    "Look for t-value in table\n",
    "\n",
    "degrees of freedom = (n1+n2) -2 = 18\n",
    "Confidence level = 95%\n",
    "\n",
    "t(.05,18) = **1.734**"
   ]
  },
  {
   "cell_type": "markdown",
   "id": "cc87d4ca",
   "metadata": {},
   "source": [
    " **if t stat > t-vale reject H0**\n",
    " \n",
    " -3.397 < 1.734\n",
    " \n",
    " **Fail to reject H0**"
   ]
  }
 ],
 "metadata": {
  "kernelspec": {
   "display_name": "Python 3 (ipykernel)",
   "language": "python",
   "name": "python3"
  },
  "language_info": {
   "codemirror_mode": {
    "name": "ipython",
    "version": 3
   },
   "file_extension": ".py",
   "mimetype": "text/x-python",
   "name": "python",
   "nbconvert_exporter": "python",
   "pygments_lexer": "ipython3",
   "version": "3.9.7"
  }
 },
 "nbformat": 4,
 "nbformat_minor": 5
}
