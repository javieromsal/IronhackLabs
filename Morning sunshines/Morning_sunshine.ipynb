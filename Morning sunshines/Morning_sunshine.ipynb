{
 "cells": [
  {
   "cell_type": "code",
   "execution_count": 2,
   "id": "a1506cfd",
   "metadata": {},
   "outputs": [],
   "source": [
    "import pandas as pd"
   ]
  },
  {
   "cell_type": "code",
   "execution_count": 17,
   "id": "28ae2939",
   "metadata": {},
   "outputs": [],
   "source": [
    "students_df= pd.read_csv('students.csv')"
   ]
  },
  {
   "cell_type": "code",
   "execution_count": 6,
   "id": "415fa743",
   "metadata": {},
   "outputs": [],
   "source": [
    "students=['Ahmet','Ajay','Aycha','Danilo','David','Duo','Erica','Hanna','Henrik','Laurens','Leo','Lukas','Markus','Miguel','Nilgun','Oksana','Pedro','Marcel','Poppy','Shola','Simone','Vladislav']"
   ]
  },
  {
   "cell_type": "code",
   "execution_count": 11,
   "id": "773496c9",
   "metadata": {},
   "outputs": [],
   "source": [
    "import random"
   ]
  },
  {
   "cell_type": "code",
   "execution_count": 18,
   "id": "969d9629",
   "metadata": {},
   "outputs": [
    {
     "data": {
      "text/plain": [
       "'Hanna'"
      ]
     },
     "execution_count": 18,
     "metadata": {},
     "output_type": "execute_result"
    }
   ],
   "source": [
    "random.choice(students)"
   ]
  },
  {
   "cell_type": "code",
   "execution_count": 19,
   "id": "bf251650",
   "metadata": {},
   "outputs": [],
   "source": [
    "movies=['Forrest Gump','Pulp Fiction','The Matrix','Life of Pi','Breakfast at Tiffanys','Harry Potter and the Goblet of Fire','The Unbearable Lightness of Being','Inception','101 Dalmatians','Shrek','American Psycho','La La Land','The Hunger Games','Clockwork Orange','The Silence of the Lambs','Vertigo','Goodfellas','Moonlight','Slumdog Millionaire','The Lion King']\n"
   ]
  },
  {
   "cell_type": "code",
   "execution_count": 22,
   "id": "08a01798",
   "metadata": {},
   "outputs": [
    {
     "data": {
      "text/plain": [
       "'Slumdog Millionaire'"
      ]
     },
     "execution_count": 22,
     "metadata": {},
     "output_type": "execute_result"
    }
   ],
   "source": [
    "random.choice(movies)"
   ]
  },
  {
   "cell_type": "code",
   "execution_count": 45,
   "id": "98ac2d76",
   "metadata": {},
   "outputs": [],
   "source": [
    "mov =[\"Mr. Bean's Holiday\", \"Batman Begins\", \"The Lord of the rings: the two towers\", \"Black Panther\", \"The tree of life\"]"
   ]
  },
  {
   "cell_type": "code",
   "execution_count": null,
   "id": "7a23e926",
   "metadata": {},
   "outputs": [],
   "source": []
  },
  {
   "cell_type": "code",
   "execution_count": null,
   "id": "e424cc0c",
   "metadata": {},
   "outputs": [],
   "source": []
  },
  {
   "cell_type": "code",
   "execution_count": null,
   "id": "109e2963",
   "metadata": {},
   "outputs": [],
   "source": []
  },
  {
   "cell_type": "code",
   "execution_count": null,
   "id": "4db7bb4f",
   "metadata": {},
   "outputs": [],
   "source": []
  },
  {
   "cell_type": "code",
   "execution_count": null,
   "id": "0ddd2437",
   "metadata": {},
   "outputs": [],
   "source": []
  },
  {
   "cell_type": "code",
   "execution_count": null,
   "id": "78101920",
   "metadata": {},
   "outputs": [],
   "source": []
  },
  {
   "cell_type": "code",
   "execution_count": null,
   "id": "b2640268",
   "metadata": {},
   "outputs": [],
   "source": []
  },
  {
   "cell_type": "code",
   "execution_count": 62,
   "id": "c84366fc",
   "metadata": {},
   "outputs": [
    {
     "data": {
      "text/plain": [
       "'The Lord of the rings: the two towers'"
      ]
     },
     "execution_count": 62,
     "metadata": {},
     "output_type": "execute_result"
    }
   ],
   "source": [
    "random.choice(mov)"
   ]
  },
  {
   "cell_type": "code",
   "execution_count": null,
   "id": "71408840",
   "metadata": {},
   "outputs": [],
   "source": []
  }
 ],
 "metadata": {
  "kernelspec": {
   "display_name": "Python 3 (ipykernel)",
   "language": "python",
   "name": "python3"
  },
  "language_info": {
   "codemirror_mode": {
    "name": "ipython",
    "version": 3
   },
   "file_extension": ".py",
   "mimetype": "text/x-python",
   "name": "python",
   "nbconvert_exporter": "python",
   "pygments_lexer": "ipython3",
   "version": "3.9.7"
  }
 },
 "nbformat": 4,
 "nbformat_minor": 5
}
