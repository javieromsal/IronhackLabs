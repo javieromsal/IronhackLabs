{
 "cells": [
  {
   "cell_type": "markdown",
   "id": "399642cd",
   "metadata": {},
   "source": [
    "# **Customer Analysis Case Study**"
   ]
  },
  {
   "cell_type": "code",
   "execution_count": 1,
   "id": "5ac17213",
   "metadata": {},
   "outputs": [],
   "source": [
    "import numpy as np\n",
    "import pandas as pd\n",
    "import matplotlib.pyplot as plt\n",
    "%matplotlib inline\n",
    "import seaborn as sns\n",
    "import statsmodels.api as sm\n",
    "from scipy.stats import boxcox\n",
    "pd.options.display.max_rows = 100\n",
    "## Install xlrd package to load Excel files\n",
    "#!conda install openpyxl\n",
    "#!conda install xlrd"
   ]
  },
  {
   "cell_type": "markdown",
   "id": "2808d024",
   "metadata": {},
   "source": [
    "# Data cleaning"
   ]
  },
  {
   "cell_type": "markdown",
   "id": "96640274",
   "metadata": {},
   "source": [
    "### Loading data"
   ]
  },
  {
   "cell_type": "code",
   "execution_count": 2,
   "id": "50c8f994",
   "metadata": {},
   "outputs": [],
   "source": [
    "file1 = pd.read_csv('Data/file1.csv')\n",
    "file2 = pd.read_csv('Data/file2.csv')\n",
    "file3 = pd.read_csv('Data/file3.csv')\n",
    "    "
   ]
  },
  {
   "cell_type": "markdown",
   "id": "78ee4d4e",
   "metadata": {},
   "source": [
    "### Standardizing header names"
   ]
  },
  {
   "cell_type": "code",
   "execution_count": 3,
   "id": "de18b307",
   "metadata": {},
   "outputs": [
    {
     "name": "stdout",
     "output_type": "stream",
     "text": [
      "Index(['Customer', 'ST', 'GENDER', 'Education', 'Customer Lifetime Value',\n",
      "       'Income', 'Monthly Premium Auto', 'Number of Open Complaints',\n",
      "       'Policy Type', 'Vehicle Class', 'Total Claim Amount'],\n",
      "      dtype='object')\n",
      "Index(['Customer', 'ST', 'GENDER', 'Education', 'Customer Lifetime Value',\n",
      "       'Income', 'Monthly Premium Auto', 'Number of Open Complaints',\n",
      "       'Total Claim Amount', 'Policy Type', 'Vehicle Class'],\n",
      "      dtype='object')\n",
      "Index(['Customer', 'State', 'Customer Lifetime Value', 'Education', 'Gender',\n",
      "       'Income', 'Monthly Premium Auto', 'Number of Open Complaints',\n",
      "       'Policy Type', 'Total Claim Amount', 'Vehicle Class'],\n",
      "      dtype='object')\n"
     ]
    }
   ],
   "source": [
    "# Printing column files\n",
    "print(file1.columns)\n",
    "print(file2.columns)\n",
    "print(file3.columns)"
   ]
  },
  {
   "cell_type": "code",
   "execution_count": 4,
   "id": "a180eef4",
   "metadata": {},
   "outputs": [
    {
     "name": "stdout",
     "output_type": "stream",
     "text": [
      "Index(['Customer', 'State', 'Gender', 'Education', 'Customer Lifetime Value',\n",
      "       'Income', 'Monthly Premium Auto', 'Number of Open Complaints',\n",
      "       'Policy Type', 'Vehicle Class', 'Total Claim Amount'],\n",
      "      dtype='object')\n",
      "Index(['Customer', 'State', 'Gender', 'Education', 'Customer Lifetime Value',\n",
      "       'Income', 'Monthly Premium Auto', 'Number of Open Complaints',\n",
      "       'Total Claim Amount', 'Policy Type', 'Vehicle Class'],\n",
      "      dtype='object')\n"
     ]
    }
   ],
   "source": [
    "# Changing column name GENDER to Gender\n",
    "file1.rename(columns={'ST':'State','GENDER':'Gender'}, inplace = True)\n",
    "print(file1.columns)\n",
    "file2.rename(columns={'ST':'State','GENDER':'Gender'}, inplace = True)\n",
    "print(file2.columns)"
   ]
  },
  {
   "cell_type": "markdown",
   "id": "4e398ae7",
   "metadata": {},
   "source": [
    "## Creating Data Frame"
   ]
  },
  {
   "cell_type": "code",
   "execution_count": 5,
   "id": "84689d4a",
   "metadata": {},
   "outputs": [
    {
     "data": {
      "text/html": [
       "<div>\n",
       "<style scoped>\n",
       "    .dataframe tbody tr th:only-of-type {\n",
       "        vertical-align: middle;\n",
       "    }\n",
       "\n",
       "    .dataframe tbody tr th {\n",
       "        vertical-align: top;\n",
       "    }\n",
       "\n",
       "    .dataframe thead th {\n",
       "        text-align: right;\n",
       "    }\n",
       "</style>\n",
       "<table border=\"1\" class=\"dataframe\">\n",
       "  <thead>\n",
       "    <tr style=\"text-align: right;\">\n",
       "      <th></th>\n",
       "      <th>Customer</th>\n",
       "      <th>State</th>\n",
       "      <th>Gender</th>\n",
       "      <th>Education</th>\n",
       "      <th>Customer Lifetime Value</th>\n",
       "      <th>Income</th>\n",
       "      <th>Monthly Premium Auto</th>\n",
       "      <th>Number of Open Complaints</th>\n",
       "      <th>Policy Type</th>\n",
       "      <th>Vehicle Class</th>\n",
       "      <th>Total Claim Amount</th>\n",
       "    </tr>\n",
       "  </thead>\n",
       "  <tbody>\n",
       "    <tr>\n",
       "      <th>0</th>\n",
       "      <td>RB50392</td>\n",
       "      <td>Washington</td>\n",
       "      <td>NaN</td>\n",
       "      <td>Master</td>\n",
       "      <td>NaN</td>\n",
       "      <td>0.0</td>\n",
       "      <td>1000.0</td>\n",
       "      <td>1/0/00</td>\n",
       "      <td>Personal Auto</td>\n",
       "      <td>Four-Door Car</td>\n",
       "      <td>2.704934</td>\n",
       "    </tr>\n",
       "    <tr>\n",
       "      <th>1</th>\n",
       "      <td>QZ44356</td>\n",
       "      <td>Arizona</td>\n",
       "      <td>F</td>\n",
       "      <td>Bachelor</td>\n",
       "      <td>697953.59%</td>\n",
       "      <td>0.0</td>\n",
       "      <td>94.0</td>\n",
       "      <td>1/0/00</td>\n",
       "      <td>Personal Auto</td>\n",
       "      <td>Four-Door Car</td>\n",
       "      <td>1131.464935</td>\n",
       "    </tr>\n",
       "    <tr>\n",
       "      <th>2</th>\n",
       "      <td>AI49188</td>\n",
       "      <td>Nevada</td>\n",
       "      <td>F</td>\n",
       "      <td>Bachelor</td>\n",
       "      <td>1288743.17%</td>\n",
       "      <td>48767.0</td>\n",
       "      <td>108.0</td>\n",
       "      <td>1/0/00</td>\n",
       "      <td>Personal Auto</td>\n",
       "      <td>Two-Door Car</td>\n",
       "      <td>566.472247</td>\n",
       "    </tr>\n",
       "    <tr>\n",
       "      <th>3</th>\n",
       "      <td>WW63253</td>\n",
       "      <td>California</td>\n",
       "      <td>M</td>\n",
       "      <td>Bachelor</td>\n",
       "      <td>764586.18%</td>\n",
       "      <td>0.0</td>\n",
       "      <td>106.0</td>\n",
       "      <td>1/0/00</td>\n",
       "      <td>Corporate Auto</td>\n",
       "      <td>SUV</td>\n",
       "      <td>529.881344</td>\n",
       "    </tr>\n",
       "    <tr>\n",
       "      <th>4</th>\n",
       "      <td>GA49547</td>\n",
       "      <td>Washington</td>\n",
       "      <td>M</td>\n",
       "      <td>High School or Below</td>\n",
       "      <td>536307.65%</td>\n",
       "      <td>36357.0</td>\n",
       "      <td>68.0</td>\n",
       "      <td>1/0/00</td>\n",
       "      <td>Personal Auto</td>\n",
       "      <td>Four-Door Car</td>\n",
       "      <td>17.269323</td>\n",
       "    </tr>\n",
       "    <tr>\n",
       "      <th>...</th>\n",
       "      <td>...</td>\n",
       "      <td>...</td>\n",
       "      <td>...</td>\n",
       "      <td>...</td>\n",
       "      <td>...</td>\n",
       "      <td>...</td>\n",
       "      <td>...</td>\n",
       "      <td>...</td>\n",
       "      <td>...</td>\n",
       "      <td>...</td>\n",
       "      <td>...</td>\n",
       "    </tr>\n",
       "    <tr>\n",
       "      <th>12069</th>\n",
       "      <td>LA72316</td>\n",
       "      <td>California</td>\n",
       "      <td>M</td>\n",
       "      <td>Bachelor</td>\n",
       "      <td>23405.98798</td>\n",
       "      <td>71941.0</td>\n",
       "      <td>73.0</td>\n",
       "      <td>0</td>\n",
       "      <td>Personal Auto</td>\n",
       "      <td>Four-Door Car</td>\n",
       "      <td>198.234764</td>\n",
       "    </tr>\n",
       "    <tr>\n",
       "      <th>12070</th>\n",
       "      <td>PK87824</td>\n",
       "      <td>California</td>\n",
       "      <td>F</td>\n",
       "      <td>College</td>\n",
       "      <td>3096.511217</td>\n",
       "      <td>21604.0</td>\n",
       "      <td>79.0</td>\n",
       "      <td>0</td>\n",
       "      <td>Corporate Auto</td>\n",
       "      <td>Four-Door Car</td>\n",
       "      <td>379.200000</td>\n",
       "    </tr>\n",
       "    <tr>\n",
       "      <th>12071</th>\n",
       "      <td>TD14365</td>\n",
       "      <td>California</td>\n",
       "      <td>M</td>\n",
       "      <td>Bachelor</td>\n",
       "      <td>8163.890428</td>\n",
       "      <td>0.0</td>\n",
       "      <td>85.0</td>\n",
       "      <td>3</td>\n",
       "      <td>Corporate Auto</td>\n",
       "      <td>Four-Door Car</td>\n",
       "      <td>790.784983</td>\n",
       "    </tr>\n",
       "    <tr>\n",
       "      <th>12072</th>\n",
       "      <td>UP19263</td>\n",
       "      <td>California</td>\n",
       "      <td>M</td>\n",
       "      <td>College</td>\n",
       "      <td>7524.442436</td>\n",
       "      <td>21941.0</td>\n",
       "      <td>96.0</td>\n",
       "      <td>0</td>\n",
       "      <td>Personal Auto</td>\n",
       "      <td>Four-Door Car</td>\n",
       "      <td>691.200000</td>\n",
       "    </tr>\n",
       "    <tr>\n",
       "      <th>12073</th>\n",
       "      <td>Y167826</td>\n",
       "      <td>California</td>\n",
       "      <td>M</td>\n",
       "      <td>College</td>\n",
       "      <td>2611.836866</td>\n",
       "      <td>0.0</td>\n",
       "      <td>77.0</td>\n",
       "      <td>0</td>\n",
       "      <td>Corporate Auto</td>\n",
       "      <td>Two-Door Car</td>\n",
       "      <td>369.600000</td>\n",
       "    </tr>\n",
       "  </tbody>\n",
       "</table>\n",
       "<p>12074 rows × 11 columns</p>\n",
       "</div>"
      ],
      "text/plain": [
       "      Customer       State Gender             Education  \\\n",
       "0      RB50392  Washington    NaN                Master   \n",
       "1      QZ44356     Arizona      F              Bachelor   \n",
       "2      AI49188      Nevada      F              Bachelor   \n",
       "3      WW63253  California      M              Bachelor   \n",
       "4      GA49547  Washington      M  High School or Below   \n",
       "...        ...         ...    ...                   ...   \n",
       "12069  LA72316  California      M              Bachelor   \n",
       "12070  PK87824  California      F               College   \n",
       "12071  TD14365  California      M              Bachelor   \n",
       "12072  UP19263  California      M               College   \n",
       "12073  Y167826  California      M               College   \n",
       "\n",
       "      Customer Lifetime Value   Income  Monthly Premium Auto  \\\n",
       "0                         NaN      0.0                1000.0   \n",
       "1                  697953.59%      0.0                  94.0   \n",
       "2                 1288743.17%  48767.0                 108.0   \n",
       "3                  764586.18%      0.0                 106.0   \n",
       "4                  536307.65%  36357.0                  68.0   \n",
       "...                       ...      ...                   ...   \n",
       "12069             23405.98798  71941.0                  73.0   \n",
       "12070             3096.511217  21604.0                  79.0   \n",
       "12071             8163.890428      0.0                  85.0   \n",
       "12072             7524.442436  21941.0                  96.0   \n",
       "12073             2611.836866      0.0                  77.0   \n",
       "\n",
       "      Number of Open Complaints     Policy Type  Vehicle Class  \\\n",
       "0                        1/0/00   Personal Auto  Four-Door Car   \n",
       "1                        1/0/00   Personal Auto  Four-Door Car   \n",
       "2                        1/0/00   Personal Auto   Two-Door Car   \n",
       "3                        1/0/00  Corporate Auto            SUV   \n",
       "4                        1/0/00   Personal Auto  Four-Door Car   \n",
       "...                         ...             ...            ...   \n",
       "12069                         0   Personal Auto  Four-Door Car   \n",
       "12070                         0  Corporate Auto  Four-Door Car   \n",
       "12071                         3  Corporate Auto  Four-Door Car   \n",
       "12072                         0   Personal Auto  Four-Door Car   \n",
       "12073                         0  Corporate Auto   Two-Door Car   \n",
       "\n",
       "       Total Claim Amount  \n",
       "0                2.704934  \n",
       "1             1131.464935  \n",
       "2              566.472247  \n",
       "3              529.881344  \n",
       "4               17.269323  \n",
       "...                   ...  \n",
       "12069          198.234764  \n",
       "12070          379.200000  \n",
       "12071          790.784983  \n",
       "12072          691.200000  \n",
       "12073          369.600000  \n",
       "\n",
       "[12074 rows x 11 columns]"
      ]
     },
     "execution_count": 5,
     "metadata": {},
     "output_type": "execute_result"
    }
   ],
   "source": [
    "# Concatenating files in to one\n",
    "df=pd.concat([file1,file2,file3], axis=0)\n",
    "# Reseting index\n",
    "df=df.reset_index(drop=True) \n",
    "df"
   ]
  },
  {
   "cell_type": "markdown",
   "id": "9bcaaab5",
   "metadata": {},
   "source": [
    "## Removing duplicates and unnecessary columns"
   ]
  },
  {
   "cell_type": "code",
   "execution_count": 6,
   "id": "6b8a10d6",
   "metadata": {
    "scrolled": true
   },
   "outputs": [
    {
     "data": {
      "text/html": [
       "<div>\n",
       "<style scoped>\n",
       "    .dataframe tbody tr th:only-of-type {\n",
       "        vertical-align: middle;\n",
       "    }\n",
       "\n",
       "    .dataframe tbody tr th {\n",
       "        vertical-align: top;\n",
       "    }\n",
       "\n",
       "    .dataframe thead th {\n",
       "        text-align: right;\n",
       "    }\n",
       "</style>\n",
       "<table border=\"1\" class=\"dataframe\">\n",
       "  <thead>\n",
       "    <tr style=\"text-align: right;\">\n",
       "      <th></th>\n",
       "      <th>Customer</th>\n",
       "      <th>State</th>\n",
       "      <th>Gender</th>\n",
       "      <th>Education</th>\n",
       "      <th>Customer Lifetime Value</th>\n",
       "      <th>Income</th>\n",
       "      <th>Monthly Premium Auto</th>\n",
       "      <th>Number of Open Complaints</th>\n",
       "      <th>Policy Type</th>\n",
       "      <th>Vehicle Class</th>\n",
       "      <th>Total Claim Amount</th>\n",
       "    </tr>\n",
       "  </thead>\n",
       "  <tbody>\n",
       "    <tr>\n",
       "      <th>0</th>\n",
       "      <td>RB50392</td>\n",
       "      <td>Washington</td>\n",
       "      <td>NaN</td>\n",
       "      <td>Master</td>\n",
       "      <td>NaN</td>\n",
       "      <td>0.0</td>\n",
       "      <td>1000.0</td>\n",
       "      <td>1/0/00</td>\n",
       "      <td>Personal Auto</td>\n",
       "      <td>Four-Door Car</td>\n",
       "      <td>2.704934</td>\n",
       "    </tr>\n",
       "    <tr>\n",
       "      <th>1</th>\n",
       "      <td>QZ44356</td>\n",
       "      <td>Arizona</td>\n",
       "      <td>F</td>\n",
       "      <td>Bachelor</td>\n",
       "      <td>697953.59%</td>\n",
       "      <td>0.0</td>\n",
       "      <td>94.0</td>\n",
       "      <td>1/0/00</td>\n",
       "      <td>Personal Auto</td>\n",
       "      <td>Four-Door Car</td>\n",
       "      <td>1131.464935</td>\n",
       "    </tr>\n",
       "    <tr>\n",
       "      <th>2</th>\n",
       "      <td>AI49188</td>\n",
       "      <td>Nevada</td>\n",
       "      <td>F</td>\n",
       "      <td>Bachelor</td>\n",
       "      <td>1288743.17%</td>\n",
       "      <td>48767.0</td>\n",
       "      <td>108.0</td>\n",
       "      <td>1/0/00</td>\n",
       "      <td>Personal Auto</td>\n",
       "      <td>Two-Door Car</td>\n",
       "      <td>566.472247</td>\n",
       "    </tr>\n",
       "    <tr>\n",
       "      <th>3</th>\n",
       "      <td>WW63253</td>\n",
       "      <td>California</td>\n",
       "      <td>M</td>\n",
       "      <td>Bachelor</td>\n",
       "      <td>764586.18%</td>\n",
       "      <td>0.0</td>\n",
       "      <td>106.0</td>\n",
       "      <td>1/0/00</td>\n",
       "      <td>Corporate Auto</td>\n",
       "      <td>SUV</td>\n",
       "      <td>529.881344</td>\n",
       "    </tr>\n",
       "    <tr>\n",
       "      <th>4</th>\n",
       "      <td>GA49547</td>\n",
       "      <td>Washington</td>\n",
       "      <td>M</td>\n",
       "      <td>High School or Below</td>\n",
       "      <td>536307.65%</td>\n",
       "      <td>36357.0</td>\n",
       "      <td>68.0</td>\n",
       "      <td>1/0/00</td>\n",
       "      <td>Personal Auto</td>\n",
       "      <td>Four-Door Car</td>\n",
       "      <td>17.269323</td>\n",
       "    </tr>\n",
       "    <tr>\n",
       "      <th>...</th>\n",
       "      <td>...</td>\n",
       "      <td>...</td>\n",
       "      <td>...</td>\n",
       "      <td>...</td>\n",
       "      <td>...</td>\n",
       "      <td>...</td>\n",
       "      <td>...</td>\n",
       "      <td>...</td>\n",
       "      <td>...</td>\n",
       "      <td>...</td>\n",
       "      <td>...</td>\n",
       "    </tr>\n",
       "    <tr>\n",
       "      <th>9130</th>\n",
       "      <td>LA72316</td>\n",
       "      <td>California</td>\n",
       "      <td>M</td>\n",
       "      <td>Bachelor</td>\n",
       "      <td>23405.98798</td>\n",
       "      <td>71941.0</td>\n",
       "      <td>73.0</td>\n",
       "      <td>0</td>\n",
       "      <td>Personal Auto</td>\n",
       "      <td>Four-Door Car</td>\n",
       "      <td>198.234764</td>\n",
       "    </tr>\n",
       "    <tr>\n",
       "      <th>9131</th>\n",
       "      <td>PK87824</td>\n",
       "      <td>California</td>\n",
       "      <td>F</td>\n",
       "      <td>College</td>\n",
       "      <td>3096.511217</td>\n",
       "      <td>21604.0</td>\n",
       "      <td>79.0</td>\n",
       "      <td>0</td>\n",
       "      <td>Corporate Auto</td>\n",
       "      <td>Four-Door Car</td>\n",
       "      <td>379.200000</td>\n",
       "    </tr>\n",
       "    <tr>\n",
       "      <th>9132</th>\n",
       "      <td>TD14365</td>\n",
       "      <td>California</td>\n",
       "      <td>M</td>\n",
       "      <td>Bachelor</td>\n",
       "      <td>8163.890428</td>\n",
       "      <td>0.0</td>\n",
       "      <td>85.0</td>\n",
       "      <td>3</td>\n",
       "      <td>Corporate Auto</td>\n",
       "      <td>Four-Door Car</td>\n",
       "      <td>790.784983</td>\n",
       "    </tr>\n",
       "    <tr>\n",
       "      <th>9133</th>\n",
       "      <td>UP19263</td>\n",
       "      <td>California</td>\n",
       "      <td>M</td>\n",
       "      <td>College</td>\n",
       "      <td>7524.442436</td>\n",
       "      <td>21941.0</td>\n",
       "      <td>96.0</td>\n",
       "      <td>0</td>\n",
       "      <td>Personal Auto</td>\n",
       "      <td>Four-Door Car</td>\n",
       "      <td>691.200000</td>\n",
       "    </tr>\n",
       "    <tr>\n",
       "      <th>9134</th>\n",
       "      <td>Y167826</td>\n",
       "      <td>California</td>\n",
       "      <td>M</td>\n",
       "      <td>College</td>\n",
       "      <td>2611.836866</td>\n",
       "      <td>0.0</td>\n",
       "      <td>77.0</td>\n",
       "      <td>0</td>\n",
       "      <td>Corporate Auto</td>\n",
       "      <td>Two-Door Car</td>\n",
       "      <td>369.600000</td>\n",
       "    </tr>\n",
       "  </tbody>\n",
       "</table>\n",
       "<p>9135 rows × 11 columns</p>\n",
       "</div>"
      ],
      "text/plain": [
       "     Customer       State Gender             Education  \\\n",
       "0     RB50392  Washington    NaN                Master   \n",
       "1     QZ44356     Arizona      F              Bachelor   \n",
       "2     AI49188      Nevada      F              Bachelor   \n",
       "3     WW63253  California      M              Bachelor   \n",
       "4     GA49547  Washington      M  High School or Below   \n",
       "...       ...         ...    ...                   ...   \n",
       "9130  LA72316  California      M              Bachelor   \n",
       "9131  PK87824  California      F               College   \n",
       "9132  TD14365  California      M              Bachelor   \n",
       "9133  UP19263  California      M               College   \n",
       "9134  Y167826  California      M               College   \n",
       "\n",
       "     Customer Lifetime Value   Income  Monthly Premium Auto  \\\n",
       "0                        NaN      0.0                1000.0   \n",
       "1                 697953.59%      0.0                  94.0   \n",
       "2                1288743.17%  48767.0                 108.0   \n",
       "3                 764586.18%      0.0                 106.0   \n",
       "4                 536307.65%  36357.0                  68.0   \n",
       "...                      ...      ...                   ...   \n",
       "9130             23405.98798  71941.0                  73.0   \n",
       "9131             3096.511217  21604.0                  79.0   \n",
       "9132             8163.890428      0.0                  85.0   \n",
       "9133             7524.442436  21941.0                  96.0   \n",
       "9134             2611.836866      0.0                  77.0   \n",
       "\n",
       "     Number of Open Complaints     Policy Type  Vehicle Class  \\\n",
       "0                       1/0/00   Personal Auto  Four-Door Car   \n",
       "1                       1/0/00   Personal Auto  Four-Door Car   \n",
       "2                       1/0/00   Personal Auto   Two-Door Car   \n",
       "3                       1/0/00  Corporate Auto            SUV   \n",
       "4                       1/0/00   Personal Auto  Four-Door Car   \n",
       "...                        ...             ...            ...   \n",
       "9130                         0   Personal Auto  Four-Door Car   \n",
       "9131                         0  Corporate Auto  Four-Door Car   \n",
       "9132                         3  Corporate Auto  Four-Door Car   \n",
       "9133                         0   Personal Auto  Four-Door Car   \n",
       "9134                         0  Corporate Auto   Two-Door Car   \n",
       "\n",
       "      Total Claim Amount  \n",
       "0               2.704934  \n",
       "1            1131.464935  \n",
       "2             566.472247  \n",
       "3             529.881344  \n",
       "4              17.269323  \n",
       "...                  ...  \n",
       "9130          198.234764  \n",
       "9131          379.200000  \n",
       "9132          790.784983  \n",
       "9133          691.200000  \n",
       "9134          369.600000  \n",
       "\n",
       "[9135 rows x 11 columns]"
      ]
     },
     "execution_count": 6,
     "metadata": {},
     "output_type": "execute_result"
    }
   ],
   "source": [
    "df.drop_duplicates(inplace=True,ignore_index=True) #ignore_index=True restes index\n",
    "df"
   ]
  },
  {
   "cell_type": "markdown",
   "id": "f35aad97",
   "metadata": {},
   "source": [
    "### Customer column"
   ]
  },
  {
   "cell_type": "code",
   "execution_count": 7,
   "id": "6371960f",
   "metadata": {
    "scrolled": true
   },
   "outputs": [
    {
     "data": {
      "text/plain": [
       "XY33610    2\n",
       "QK69627    2\n",
       "QA49556    2\n",
       "SP81997    2\n",
       "XZ34917    2\n",
       "          ..\n",
       "TN66124    1\n",
       "JV99867    1\n",
       "YK92213    1\n",
       "FR81224    1\n",
       "Y167826    1\n",
       "Name: Customer, Length: 9056, dtype: int64"
      ]
     },
     "execution_count": 7,
     "metadata": {},
     "output_type": "execute_result"
    }
   ],
   "source": [
    "df[\"Customer\"].value_counts()"
   ]
  },
  {
   "cell_type": "code",
   "execution_count": 8,
   "id": "2a36484c",
   "metadata": {
    "scrolled": true
   },
   "outputs": [
    {
     "data": {
      "text/html": [
       "<div>\n",
       "<style scoped>\n",
       "    .dataframe tbody tr th:only-of-type {\n",
       "        vertical-align: middle;\n",
       "    }\n",
       "\n",
       "    .dataframe tbody tr th {\n",
       "        vertical-align: top;\n",
       "    }\n",
       "\n",
       "    .dataframe thead th {\n",
       "        text-align: right;\n",
       "    }\n",
       "</style>\n",
       "<table border=\"1\" class=\"dataframe\">\n",
       "  <thead>\n",
       "    <tr style=\"text-align: right;\">\n",
       "      <th></th>\n",
       "      <th>Customer</th>\n",
       "      <th>State</th>\n",
       "      <th>Gender</th>\n",
       "      <th>Education</th>\n",
       "      <th>Customer Lifetime Value</th>\n",
       "      <th>Income</th>\n",
       "      <th>Monthly Premium Auto</th>\n",
       "      <th>Number of Open Complaints</th>\n",
       "      <th>Policy Type</th>\n",
       "      <th>Vehicle Class</th>\n",
       "      <th>Total Claim Amount</th>\n",
       "    </tr>\n",
       "  </thead>\n",
       "  <tbody>\n",
       "    <tr>\n",
       "      <th>1686</th>\n",
       "      <td>QK69627</td>\n",
       "      <td>Washington</td>\n",
       "      <td>F</td>\n",
       "      <td>High School or Below</td>\n",
       "      <td>938816.29%</td>\n",
       "      <td>75264.0</td>\n",
       "      <td>78.0</td>\n",
       "      <td>1/0/00</td>\n",
       "      <td>Personal Auto</td>\n",
       "      <td>Four-Door Car</td>\n",
       "      <td>343.340301</td>\n",
       "    </tr>\n",
       "    <tr>\n",
       "      <th>3180</th>\n",
       "      <td>QK69627</td>\n",
       "      <td>Washington</td>\n",
       "      <td>F</td>\n",
       "      <td>High School or Below</td>\n",
       "      <td>9388.162927</td>\n",
       "      <td>75264.0</td>\n",
       "      <td>78.0</td>\n",
       "      <td>0</td>\n",
       "      <td>Personal Auto</td>\n",
       "      <td>Four-Door Car</td>\n",
       "      <td>343.340301</td>\n",
       "    </tr>\n",
       "  </tbody>\n",
       "</table>\n",
       "</div>"
      ],
      "text/plain": [
       "     Customer       State Gender             Education  \\\n",
       "1686  QK69627  Washington      F  High School or Below   \n",
       "3180  QK69627  Washington      F  High School or Below   \n",
       "\n",
       "     Customer Lifetime Value   Income  Monthly Premium Auto  \\\n",
       "1686              938816.29%  75264.0                  78.0   \n",
       "3180             9388.162927  75264.0                  78.0   \n",
       "\n",
       "     Number of Open Complaints    Policy Type  Vehicle Class  \\\n",
       "1686                    1/0/00  Personal Auto  Four-Door Car   \n",
       "3180                         0  Personal Auto  Four-Door Car   \n",
       "\n",
       "      Total Claim Amount  \n",
       "1686          343.340301  \n",
       "3180          343.340301  "
      ]
     },
     "execution_count": 8,
     "metadata": {},
     "output_type": "execute_result"
    }
   ],
   "source": [
    "df.loc[df[\"Customer\"] == 'QK69627' ]"
   ]
  },
  {
   "cell_type": "markdown",
   "id": "46f0d16c",
   "metadata": {},
   "source": [
    "**Some 'Customer' column  values have more than one register per customer but they seem to be duplicate values**"
   ]
  },
  {
   "cell_type": "code",
   "execution_count": 9,
   "id": "0f0b5b95",
   "metadata": {},
   "outputs": [
    {
     "data": {
      "text/html": [
       "<div>\n",
       "<style scoped>\n",
       "    .dataframe tbody tr th:only-of-type {\n",
       "        vertical-align: middle;\n",
       "    }\n",
       "\n",
       "    .dataframe tbody tr th {\n",
       "        vertical-align: top;\n",
       "    }\n",
       "\n",
       "    .dataframe thead th {\n",
       "        text-align: right;\n",
       "    }\n",
       "</style>\n",
       "<table border=\"1\" class=\"dataframe\">\n",
       "  <thead>\n",
       "    <tr style=\"text-align: right;\">\n",
       "      <th></th>\n",
       "      <th>State</th>\n",
       "      <th>Gender</th>\n",
       "      <th>Education</th>\n",
       "      <th>Customer Lifetime Value</th>\n",
       "      <th>Income</th>\n",
       "      <th>Monthly Premium Auto</th>\n",
       "      <th>Number of Open Complaints</th>\n",
       "      <th>Policy Type</th>\n",
       "      <th>Vehicle Class</th>\n",
       "      <th>Total Claim Amount</th>\n",
       "    </tr>\n",
       "  </thead>\n",
       "  <tbody>\n",
       "    <tr>\n",
       "      <th>0</th>\n",
       "      <td>Washington</td>\n",
       "      <td>NaN</td>\n",
       "      <td>Master</td>\n",
       "      <td>NaN</td>\n",
       "      <td>0.0</td>\n",
       "      <td>1000.0</td>\n",
       "      <td>1/0/00</td>\n",
       "      <td>Personal Auto</td>\n",
       "      <td>Four-Door Car</td>\n",
       "      <td>2.704934</td>\n",
       "    </tr>\n",
       "    <tr>\n",
       "      <th>1</th>\n",
       "      <td>Arizona</td>\n",
       "      <td>F</td>\n",
       "      <td>Bachelor</td>\n",
       "      <td>697953.59%</td>\n",
       "      <td>0.0</td>\n",
       "      <td>94.0</td>\n",
       "      <td>1/0/00</td>\n",
       "      <td>Personal Auto</td>\n",
       "      <td>Four-Door Car</td>\n",
       "      <td>1131.464935</td>\n",
       "    </tr>\n",
       "    <tr>\n",
       "      <th>2</th>\n",
       "      <td>Nevada</td>\n",
       "      <td>F</td>\n",
       "      <td>Bachelor</td>\n",
       "      <td>1288743.17%</td>\n",
       "      <td>48767.0</td>\n",
       "      <td>108.0</td>\n",
       "      <td>1/0/00</td>\n",
       "      <td>Personal Auto</td>\n",
       "      <td>Two-Door Car</td>\n",
       "      <td>566.472247</td>\n",
       "    </tr>\n",
       "    <tr>\n",
       "      <th>3</th>\n",
       "      <td>California</td>\n",
       "      <td>M</td>\n",
       "      <td>Bachelor</td>\n",
       "      <td>764586.18%</td>\n",
       "      <td>0.0</td>\n",
       "      <td>106.0</td>\n",
       "      <td>1/0/00</td>\n",
       "      <td>Corporate Auto</td>\n",
       "      <td>SUV</td>\n",
       "      <td>529.881344</td>\n",
       "    </tr>\n",
       "    <tr>\n",
       "      <th>4</th>\n",
       "      <td>Washington</td>\n",
       "      <td>M</td>\n",
       "      <td>High School or Below</td>\n",
       "      <td>536307.65%</td>\n",
       "      <td>36357.0</td>\n",
       "      <td>68.0</td>\n",
       "      <td>1/0/00</td>\n",
       "      <td>Personal Auto</td>\n",
       "      <td>Four-Door Car</td>\n",
       "      <td>17.269323</td>\n",
       "    </tr>\n",
       "    <tr>\n",
       "      <th>...</th>\n",
       "      <td>...</td>\n",
       "      <td>...</td>\n",
       "      <td>...</td>\n",
       "      <td>...</td>\n",
       "      <td>...</td>\n",
       "      <td>...</td>\n",
       "      <td>...</td>\n",
       "      <td>...</td>\n",
       "      <td>...</td>\n",
       "      <td>...</td>\n",
       "    </tr>\n",
       "    <tr>\n",
       "      <th>9130</th>\n",
       "      <td>California</td>\n",
       "      <td>M</td>\n",
       "      <td>Bachelor</td>\n",
       "      <td>23405.98798</td>\n",
       "      <td>71941.0</td>\n",
       "      <td>73.0</td>\n",
       "      <td>0</td>\n",
       "      <td>Personal Auto</td>\n",
       "      <td>Four-Door Car</td>\n",
       "      <td>198.234764</td>\n",
       "    </tr>\n",
       "    <tr>\n",
       "      <th>9131</th>\n",
       "      <td>California</td>\n",
       "      <td>F</td>\n",
       "      <td>College</td>\n",
       "      <td>3096.511217</td>\n",
       "      <td>21604.0</td>\n",
       "      <td>79.0</td>\n",
       "      <td>0</td>\n",
       "      <td>Corporate Auto</td>\n",
       "      <td>Four-Door Car</td>\n",
       "      <td>379.200000</td>\n",
       "    </tr>\n",
       "    <tr>\n",
       "      <th>9132</th>\n",
       "      <td>California</td>\n",
       "      <td>M</td>\n",
       "      <td>Bachelor</td>\n",
       "      <td>8163.890428</td>\n",
       "      <td>0.0</td>\n",
       "      <td>85.0</td>\n",
       "      <td>3</td>\n",
       "      <td>Corporate Auto</td>\n",
       "      <td>Four-Door Car</td>\n",
       "      <td>790.784983</td>\n",
       "    </tr>\n",
       "    <tr>\n",
       "      <th>9133</th>\n",
       "      <td>California</td>\n",
       "      <td>M</td>\n",
       "      <td>College</td>\n",
       "      <td>7524.442436</td>\n",
       "      <td>21941.0</td>\n",
       "      <td>96.0</td>\n",
       "      <td>0</td>\n",
       "      <td>Personal Auto</td>\n",
       "      <td>Four-Door Car</td>\n",
       "      <td>691.200000</td>\n",
       "    </tr>\n",
       "    <tr>\n",
       "      <th>9134</th>\n",
       "      <td>California</td>\n",
       "      <td>M</td>\n",
       "      <td>College</td>\n",
       "      <td>2611.836866</td>\n",
       "      <td>0.0</td>\n",
       "      <td>77.0</td>\n",
       "      <td>0</td>\n",
       "      <td>Corporate Auto</td>\n",
       "      <td>Two-Door Car</td>\n",
       "      <td>369.600000</td>\n",
       "    </tr>\n",
       "  </tbody>\n",
       "</table>\n",
       "<p>9135 rows × 10 columns</p>\n",
       "</div>"
      ],
      "text/plain": [
       "           State Gender             Education Customer Lifetime Value  \\\n",
       "0     Washington    NaN                Master                     NaN   \n",
       "1        Arizona      F              Bachelor              697953.59%   \n",
       "2         Nevada      F              Bachelor             1288743.17%   \n",
       "3     California      M              Bachelor              764586.18%   \n",
       "4     Washington      M  High School or Below              536307.65%   \n",
       "...          ...    ...                   ...                     ...   \n",
       "9130  California      M              Bachelor             23405.98798   \n",
       "9131  California      F               College             3096.511217   \n",
       "9132  California      M              Bachelor             8163.890428   \n",
       "9133  California      M               College             7524.442436   \n",
       "9134  California      M               College             2611.836866   \n",
       "\n",
       "       Income  Monthly Premium Auto Number of Open Complaints     Policy Type  \\\n",
       "0         0.0                1000.0                    1/0/00   Personal Auto   \n",
       "1         0.0                  94.0                    1/0/00   Personal Auto   \n",
       "2     48767.0                 108.0                    1/0/00   Personal Auto   \n",
       "3         0.0                 106.0                    1/0/00  Corporate Auto   \n",
       "4     36357.0                  68.0                    1/0/00   Personal Auto   \n",
       "...       ...                   ...                       ...             ...   \n",
       "9130  71941.0                  73.0                         0   Personal Auto   \n",
       "9131  21604.0                  79.0                         0  Corporate Auto   \n",
       "9132      0.0                  85.0                         3  Corporate Auto   \n",
       "9133  21941.0                  96.0                         0   Personal Auto   \n",
       "9134      0.0                  77.0                         0  Corporate Auto   \n",
       "\n",
       "      Vehicle Class  Total Claim Amount  \n",
       "0     Four-Door Car            2.704934  \n",
       "1     Four-Door Car         1131.464935  \n",
       "2      Two-Door Car          566.472247  \n",
       "3               SUV          529.881344  \n",
       "4     Four-Door Car           17.269323  \n",
       "...             ...                 ...  \n",
       "9130  Four-Door Car          198.234764  \n",
       "9131  Four-Door Car          379.200000  \n",
       "9132  Four-Door Car          790.784983  \n",
       "9133  Four-Door Car          691.200000  \n",
       "9134   Two-Door Car          369.600000  \n",
       "\n",
       "[9135 rows x 10 columns]"
      ]
     },
     "execution_count": 9,
     "metadata": {},
     "output_type": "execute_result"
    }
   ],
   "source": [
    "# Remove 'Customer' column\n",
    "df.drop(columns=\"Customer\", inplace=True) \n",
    "df"
   ]
  },
  {
   "cell_type": "markdown",
   "id": "c396d7f2",
   "metadata": {},
   "source": [
    "### Header names to lower case"
   ]
  },
  {
   "cell_type": "code",
   "execution_count": 10,
   "id": "5d8b1369",
   "metadata": {},
   "outputs": [],
   "source": [
    "def lower_case_column_names(df): #function to change columns to lower case\n",
    "    df.columns=[i.lower() for i in df.columns] #list comprenhension\n",
    "    return df"
   ]
  },
  {
   "cell_type": "code",
   "execution_count": 11,
   "id": "9ae3bfc5",
   "metadata": {},
   "outputs": [
    {
     "data": {
      "text/html": [
       "<div>\n",
       "<style scoped>\n",
       "    .dataframe tbody tr th:only-of-type {\n",
       "        vertical-align: middle;\n",
       "    }\n",
       "\n",
       "    .dataframe tbody tr th {\n",
       "        vertical-align: top;\n",
       "    }\n",
       "\n",
       "    .dataframe thead th {\n",
       "        text-align: right;\n",
       "    }\n",
       "</style>\n",
       "<table border=\"1\" class=\"dataframe\">\n",
       "  <thead>\n",
       "    <tr style=\"text-align: right;\">\n",
       "      <th></th>\n",
       "      <th>state</th>\n",
       "      <th>gender</th>\n",
       "      <th>education</th>\n",
       "      <th>customer lifetime value</th>\n",
       "      <th>income</th>\n",
       "      <th>monthly premium auto</th>\n",
       "      <th>number of open complaints</th>\n",
       "      <th>policy type</th>\n",
       "      <th>vehicle class</th>\n",
       "      <th>total claim amount</th>\n",
       "    </tr>\n",
       "  </thead>\n",
       "  <tbody>\n",
       "    <tr>\n",
       "      <th>0</th>\n",
       "      <td>Washington</td>\n",
       "      <td>NaN</td>\n",
       "      <td>Master</td>\n",
       "      <td>NaN</td>\n",
       "      <td>0.0</td>\n",
       "      <td>1000.0</td>\n",
       "      <td>1/0/00</td>\n",
       "      <td>Personal Auto</td>\n",
       "      <td>Four-Door Car</td>\n",
       "      <td>2.704934</td>\n",
       "    </tr>\n",
       "    <tr>\n",
       "      <th>1</th>\n",
       "      <td>Arizona</td>\n",
       "      <td>F</td>\n",
       "      <td>Bachelor</td>\n",
       "      <td>697953.59%</td>\n",
       "      <td>0.0</td>\n",
       "      <td>94.0</td>\n",
       "      <td>1/0/00</td>\n",
       "      <td>Personal Auto</td>\n",
       "      <td>Four-Door Car</td>\n",
       "      <td>1131.464935</td>\n",
       "    </tr>\n",
       "    <tr>\n",
       "      <th>2</th>\n",
       "      <td>Nevada</td>\n",
       "      <td>F</td>\n",
       "      <td>Bachelor</td>\n",
       "      <td>1288743.17%</td>\n",
       "      <td>48767.0</td>\n",
       "      <td>108.0</td>\n",
       "      <td>1/0/00</td>\n",
       "      <td>Personal Auto</td>\n",
       "      <td>Two-Door Car</td>\n",
       "      <td>566.472247</td>\n",
       "    </tr>\n",
       "    <tr>\n",
       "      <th>3</th>\n",
       "      <td>California</td>\n",
       "      <td>M</td>\n",
       "      <td>Bachelor</td>\n",
       "      <td>764586.18%</td>\n",
       "      <td>0.0</td>\n",
       "      <td>106.0</td>\n",
       "      <td>1/0/00</td>\n",
       "      <td>Corporate Auto</td>\n",
       "      <td>SUV</td>\n",
       "      <td>529.881344</td>\n",
       "    </tr>\n",
       "    <tr>\n",
       "      <th>4</th>\n",
       "      <td>Washington</td>\n",
       "      <td>M</td>\n",
       "      <td>High School or Below</td>\n",
       "      <td>536307.65%</td>\n",
       "      <td>36357.0</td>\n",
       "      <td>68.0</td>\n",
       "      <td>1/0/00</td>\n",
       "      <td>Personal Auto</td>\n",
       "      <td>Four-Door Car</td>\n",
       "      <td>17.269323</td>\n",
       "    </tr>\n",
       "  </tbody>\n",
       "</table>\n",
       "</div>"
      ],
      "text/plain": [
       "        state gender             education customer lifetime value   income  \\\n",
       "0  Washington    NaN                Master                     NaN      0.0   \n",
       "1     Arizona      F              Bachelor              697953.59%      0.0   \n",
       "2      Nevada      F              Bachelor             1288743.17%  48767.0   \n",
       "3  California      M              Bachelor              764586.18%      0.0   \n",
       "4  Washington      M  High School or Below              536307.65%  36357.0   \n",
       "\n",
       "   monthly premium auto number of open complaints     policy type  \\\n",
       "0                1000.0                    1/0/00   Personal Auto   \n",
       "1                  94.0                    1/0/00   Personal Auto   \n",
       "2                 108.0                    1/0/00   Personal Auto   \n",
       "3                 106.0                    1/0/00  Corporate Auto   \n",
       "4                  68.0                    1/0/00   Personal Auto   \n",
       "\n",
       "   vehicle class  total claim amount  \n",
       "0  Four-Door Car            2.704934  \n",
       "1  Four-Door Car         1131.464935  \n",
       "2   Two-Door Car          566.472247  \n",
       "3            SUV          529.881344  \n",
       "4  Four-Door Car           17.269323  "
      ]
     },
     "execution_count": 11,
     "metadata": {},
     "output_type": "execute_result"
    }
   ],
   "source": [
    "df=lower_case_column_names(df) # Call function \n",
    "df.head()"
   ]
  },
  {
   "cell_type": "markdown",
   "id": "f3693f32",
   "metadata": {},
   "source": [
    "## Veryfing Columns data types"
   ]
  },
  {
   "cell_type": "code",
   "execution_count": 12,
   "id": "ddfbd48e",
   "metadata": {
    "scrolled": true
   },
   "outputs": [
    {
     "name": "stdout",
     "output_type": "stream",
     "text": [
      "<class 'pandas.core.frame.DataFrame'>\n",
      "RangeIndex: 9135 entries, 0 to 9134\n",
      "Data columns (total 10 columns):\n",
      " #   Column                     Non-Null Count  Dtype  \n",
      "---  ------                     --------------  -----  \n",
      " 0   state                      9134 non-null   object \n",
      " 1   gender                     9012 non-null   object \n",
      " 2   education                  9134 non-null   object \n",
      " 3   customer lifetime value    9127 non-null   object \n",
      " 4   income                     9134 non-null   float64\n",
      " 5   monthly premium auto       9134 non-null   float64\n",
      " 6   number of open complaints  9134 non-null   object \n",
      " 7   policy type                9134 non-null   object \n",
      " 8   vehicle class              9134 non-null   object \n",
      " 9   total claim amount         9134 non-null   float64\n",
      "dtypes: float64(3), object(7)\n",
      "memory usage: 713.8+ KB\n"
     ]
    }
   ],
   "source": [
    "df.info() #Get Data Frame info "
   ]
  },
  {
   "cell_type": "markdown",
   "id": "e5faa7ba",
   "metadata": {},
   "source": [
    " **Customer Lifetime Value and Number of Open Complaints column type should not be object**"
   ]
  },
  {
   "cell_type": "markdown",
   "id": "3d52799b",
   "metadata": {},
   "source": [
    "### Change \"customer lifetime value\" column data type"
   ]
  },
  {
   "cell_type": "code",
   "execution_count": 13,
   "id": "93de44a9",
   "metadata": {},
   "outputs": [
    {
     "data": {
      "text/plain": [
       "0               NaN\n",
       "1        697953.59%\n",
       "2       1288743.17%\n",
       "3        764586.18%\n",
       "4        536307.65%\n",
       "           ...     \n",
       "9130    23405.98798\n",
       "9131    3096.511217\n",
       "9132    8163.890428\n",
       "9133    7524.442436\n",
       "9134    2611.836866\n",
       "Name: customer lifetime value, Length: 9135, dtype: object"
      ]
     },
     "execution_count": 13,
     "metadata": {},
     "output_type": "execute_result"
    }
   ],
   "source": [
    "df[\"customer lifetime value\"]"
   ]
  },
  {
   "cell_type": "code",
   "execution_count": 14,
   "id": "4988567a",
   "metadata": {
    "scrolled": true
   },
   "outputs": [],
   "source": [
    "# Remove '%' and divide by 100 only strings\n",
    "df[\"customer lifetime value\"] = \\\n",
    "df[\"customer lifetime value\"].apply(lambda x : (pd.to_numeric(x.replace('%',\"\")))/100 if type(x)==str else x)"
   ]
  },
  {
   "cell_type": "code",
   "execution_count": 15,
   "id": "b5ab65fe",
   "metadata": {},
   "outputs": [
    {
     "data": {
      "text/plain": [
       "0                NaN\n",
       "1        6979.535900\n",
       "2       12887.431700\n",
       "3        7645.861800\n",
       "4        5363.076500\n",
       "            ...     \n",
       "9130    23405.987980\n",
       "9131     3096.511217\n",
       "9132     8163.890428\n",
       "9133     7524.442436\n",
       "9134     2611.836866\n",
       "Name: customer lifetime value, Length: 9135, dtype: float64"
      ]
     },
     "execution_count": 15,
     "metadata": {},
     "output_type": "execute_result"
    }
   ],
   "source": [
    "df[\"customer lifetime value\"]"
   ]
  },
  {
   "cell_type": "code",
   "execution_count": 16,
   "id": "7e16a9ca",
   "metadata": {},
   "outputs": [
    {
     "name": "stdout",
     "output_type": "stream",
     "text": [
      "<class 'pandas.core.frame.DataFrame'>\n",
      "RangeIndex: 9135 entries, 0 to 9134\n",
      "Data columns (total 10 columns):\n",
      " #   Column                     Non-Null Count  Dtype  \n",
      "---  ------                     --------------  -----  \n",
      " 0   state                      9134 non-null   object \n",
      " 1   gender                     9012 non-null   object \n",
      " 2   education                  9134 non-null   object \n",
      " 3   customer lifetime value    9127 non-null   float64\n",
      " 4   income                     9134 non-null   float64\n",
      " 5   monthly premium auto       9134 non-null   float64\n",
      " 6   number of open complaints  9134 non-null   object \n",
      " 7   policy type                9134 non-null   object \n",
      " 8   vehicle class              9134 non-null   object \n",
      " 9   total claim amount         9134 non-null   float64\n",
      "dtypes: float64(4), object(6)\n",
      "memory usage: 713.8+ KB\n"
     ]
    }
   ],
   "source": [
    "df.info()"
   ]
  },
  {
   "cell_type": "code",
   "execution_count": 17,
   "id": "25b55117",
   "metadata": {},
   "outputs": [],
   "source": [
    "# customer life time value column Data type is now float"
   ]
  },
  {
   "cell_type": "code",
   "execution_count": 18,
   "id": "59e7bae1",
   "metadata": {},
   "outputs": [
    {
     "data": {
      "text/plain": [
       "state                        0.010947\n",
       "gender                       1.346470\n",
       "education                    0.010947\n",
       "customer lifetime value      0.087575\n",
       "income                       0.010947\n",
       "monthly premium auto         0.010947\n",
       "number of open complaints    0.010947\n",
       "policy type                  0.010947\n",
       "vehicle class                0.010947\n",
       "total claim amount           0.010947\n",
       "dtype: float64"
      ]
     },
     "execution_count": 18,
     "metadata": {},
     "output_type": "execute_result"
    }
   ],
   "source": [
    "(df.isna().sum()/len(df))*100 #to get % of NaN"
   ]
  },
  {
   "cell_type": "markdown",
   "id": "22f0328f",
   "metadata": {},
   "source": [
    "### Change \"number of open complaints\" column data type"
   ]
  },
  {
   "cell_type": "code",
   "execution_count": 19,
   "id": "05011d3e",
   "metadata": {
    "scrolled": true
   },
   "outputs": [
    {
     "data": {
      "text/plain": [
       "0         5629\n",
       "1/0/00    1623\n",
       "1          765\n",
       "2          283\n",
       "1/1/00     247\n",
       "3          230\n",
       "4          119\n",
       "1/2/00      93\n",
       "1/3/00      60\n",
       "5           44\n",
       "1/4/00      29\n",
       "1/5/00      12\n",
       "Name: number of open complaints, dtype: int64"
      ]
     },
     "execution_count": 19,
     "metadata": {},
     "output_type": "execute_result"
    }
   ],
   "source": [
    "# Get a summary of 'number of open complaints' column\n",
    "df['number of open complaints'].value_counts() "
   ]
  },
  {
   "cell_type": "code",
   "execution_count": 20,
   "id": "6eaa271a",
   "metadata": {},
   "outputs": [],
   "source": [
    "# 1/x/00 should be x complaints"
   ]
  },
  {
   "cell_type": "code",
   "execution_count": 21,
   "id": "d9737a86",
   "metadata": {},
   "outputs": [],
   "source": [
    "# Get [2] value of string values with leng > 1\n",
    "df[\"number of open complaints\"] =\\\n",
    "df[\"number of open complaints\"].apply(lambda x: int(x[2]) if type(x)==str and len(x)>1 else x)"
   ]
  },
  {
   "cell_type": "code",
   "execution_count": 22,
   "id": "3e7ffd7b",
   "metadata": {},
   "outputs": [
    {
     "data": {
      "text/plain": [
       "0.0    7252\n",
       "1.0    1012\n",
       "2.0     376\n",
       "3.0     290\n",
       "4.0     148\n",
       "5.0      56\n",
       "Name: number of open complaints, dtype: int64"
      ]
     },
     "execution_count": 22,
     "metadata": {},
     "output_type": "execute_result"
    }
   ],
   "source": [
    "df['number of open complaints'].value_counts()"
   ]
  },
  {
   "cell_type": "code",
   "execution_count": 23,
   "id": "fce6c9eb",
   "metadata": {},
   "outputs": [],
   "source": [
    "# 'number of complaints'  data type column is now int and there are no longer 1/x/00"
   ]
  },
  {
   "cell_type": "code",
   "execution_count": 24,
   "id": "1410d92d",
   "metadata": {},
   "outputs": [
    {
     "name": "stdout",
     "output_type": "stream",
     "text": [
      "<class 'pandas.core.frame.DataFrame'>\n",
      "RangeIndex: 9135 entries, 0 to 9134\n",
      "Data columns (total 10 columns):\n",
      " #   Column                     Non-Null Count  Dtype  \n",
      "---  ------                     --------------  -----  \n",
      " 0   state                      9134 non-null   object \n",
      " 1   gender                     9012 non-null   object \n",
      " 2   education                  9134 non-null   object \n",
      " 3   customer lifetime value    9127 non-null   float64\n",
      " 4   income                     9134 non-null   float64\n",
      " 5   monthly premium auto       9134 non-null   float64\n",
      " 6   number of open complaints  9134 non-null   float64\n",
      " 7   policy type                9134 non-null   object \n",
      " 8   vehicle class              9134 non-null   object \n",
      " 9   total claim amount         9134 non-null   float64\n",
      "dtypes: float64(5), object(5)\n",
      "memory usage: 713.8+ KB\n"
     ]
    }
   ],
   "source": [
    "df.info()"
   ]
  },
  {
   "cell_type": "code",
   "execution_count": 25,
   "id": "6fdb52e9",
   "metadata": {},
   "outputs": [],
   "source": [
    "# All data type columns are correct now"
   ]
  },
  {
   "cell_type": "markdown",
   "id": "c40a6883",
   "metadata": {},
   "source": [
    "## Filtering data and Correcting typos "
   ]
  },
  {
   "cell_type": "markdown",
   "id": "3f94f411",
   "metadata": {},
   "source": [
    "### 'state' column"
   ]
  },
  {
   "cell_type": "code",
   "execution_count": 26,
   "id": "4a1efe1a",
   "metadata": {},
   "outputs": [
    {
     "data": {
      "text/plain": [
       "California    3030\n",
       "Oregon        2601\n",
       "Arizona       1629\n",
       "Nevada         882\n",
       "Washington     768\n",
       "Cali           120\n",
       "AZ              74\n",
       "WA              30\n",
       "Name: state, dtype: int64"
      ]
     },
     "execution_count": 26,
     "metadata": {},
     "output_type": "execute_result"
    }
   ],
   "source": [
    "df['state'].value_counts()"
   ]
  },
  {
   "cell_type": "code",
   "execution_count": 27,
   "id": "92d4e087",
   "metadata": {},
   "outputs": [],
   "source": [
    "# funtion to change typos to correct names\n",
    "def typos(x):\n",
    "    if x in ['Cali']:\n",
    "        return 'California'\n",
    "    elif x in ['AZ']:\n",
    "        return 'Arizona'\n",
    "    elif x in ['WA']:\n",
    "        return 'Washington'\n",
    "    else:\n",
    "        return x\n",
    "    "
   ]
  },
  {
   "cell_type": "code",
   "execution_count": 28,
   "id": "42ccecc1",
   "metadata": {},
   "outputs": [],
   "source": [
    "# Maping function to 'state' column\n",
    "df['state'] = list(map(typos, df['state']))"
   ]
  },
  {
   "cell_type": "code",
   "execution_count": 29,
   "id": "ebbe4fd7",
   "metadata": {},
   "outputs": [
    {
     "data": {
      "text/plain": [
       "California    3150\n",
       "Oregon        2601\n",
       "Arizona       1703\n",
       "Nevada         882\n",
       "Washington     798\n",
       "Name: state, dtype: int64"
      ]
     },
     "execution_count": 29,
     "metadata": {},
     "output_type": "execute_result"
    }
   ],
   "source": [
    "df['state'].value_counts()"
   ]
  },
  {
   "cell_type": "code",
   "execution_count": 30,
   "id": "90639d92",
   "metadata": {},
   "outputs": [],
   "source": [
    "# No more typos in  'state' column"
   ]
  },
  {
   "cell_type": "markdown",
   "id": "96173da6",
   "metadata": {},
   "source": [
    "### 'gender' column"
   ]
  },
  {
   "cell_type": "code",
   "execution_count": 31,
   "id": "158dfe3f",
   "metadata": {},
   "outputs": [
    {
     "data": {
      "text/plain": [
       "F         4557\n",
       "M         4368\n",
       "Male        40\n",
       "female      30\n",
       "Femal       17\n",
       "Name: gender, dtype: int64"
      ]
     },
     "execution_count": 31,
     "metadata": {},
     "output_type": "execute_result"
    }
   ],
   "source": [
    "# get summary of 'gender' column\n",
    "df['gender'].value_counts()"
   ]
  },
  {
   "cell_type": "markdown",
   "id": "20b69eb3",
   "metadata": {},
   "source": [
    "# Replace typos of 'gender' column\n"
   ]
  },
  {
   "cell_type": "code",
   "execution_count": 32,
   "id": "4920ee7f",
   "metadata": {},
   "outputs": [
    {
     "data": {
      "text/plain": [
       "F    4604\n",
       "M    4408\n",
       "Name: gender, dtype: int64"
      ]
     },
     "execution_count": 32,
     "metadata": {},
     "output_type": "execute_result"
    }
   ],
   "source": [
    "df['gender'] = df['gender'].replace(['Male'], 'M')\n",
    "df['gender'] = df['gender'].replace(['female', 'Femal'], 'F')\n",
    "df['gender'].value_counts()"
   ]
  },
  {
   "cell_type": "code",
   "execution_count": 33,
   "id": "44e7724d",
   "metadata": {},
   "outputs": [
    {
     "data": {
      "text/plain": [
       "123"
      ]
     },
     "execution_count": 33,
     "metadata": {},
     "output_type": "execute_result"
    }
   ],
   "source": [
    "df['gender'].isna().sum()"
   ]
  },
  {
   "cell_type": "markdown",
   "id": "314d2f5c",
   "metadata": {},
   "source": [
    "## Replacing null values for numerical columns"
   ]
  },
  {
   "cell_type": "code",
   "execution_count": 34,
   "id": "1b486424",
   "metadata": {},
   "outputs": [],
   "source": [
    "# Create a list of numerical columns \n",
    "#numerical_columns = ['customer lifetime value','income','monthly premium auto','number of open complaints','total claim amount']\n",
    "numerical_columns = df.select_dtypes(include=np.number).columns"
   ]
  },
  {
   "cell_type": "code",
   "execution_count": 35,
   "id": "2847beda",
   "metadata": {},
   "outputs": [
    {
     "data": {
      "text/plain": [
       "customer lifetime value      8\n",
       "income                       1\n",
       "monthly premium auto         1\n",
       "number of open complaints    1\n",
       "total claim amount           1\n",
       "dtype: int64"
      ]
     },
     "execution_count": 35,
     "metadata": {},
     "output_type": "execute_result"
    }
   ],
   "source": [
    "df[numerical_columns].isna().sum()"
   ]
  },
  {
   "cell_type": "code",
   "execution_count": 36,
   "id": "cbc08ad1",
   "metadata": {},
   "outputs": [],
   "source": [
    "# function to replace null values with means\n",
    "def mean_replace(column):\n",
    "    mean_value = np.mean(df[column]) #create a variable with the mean of that column\n",
    "    df[column] = df[column].fillna(mean_value) #replacing the null values with the mean\n",
    "    "
   ]
  },
  {
   "cell_type": "code",
   "execution_count": 37,
   "id": "553aa583",
   "metadata": {},
   "outputs": [],
   "source": [
    "# loop to run mean_replace function in all numerical columns\n",
    "for col in numerical_columns:   \n",
    "    mean_replace(col)"
   ]
  },
  {
   "cell_type": "code",
   "execution_count": 38,
   "id": "6f6b4500",
   "metadata": {},
   "outputs": [
    {
     "data": {
      "text/plain": [
       "customer lifetime value      0\n",
       "income                       0\n",
       "monthly premium auto         0\n",
       "number of open complaints    0\n",
       "total claim amount           0\n",
       "dtype: int64"
      ]
     },
     "execution_count": 38,
     "metadata": {},
     "output_type": "execute_result"
    }
   ],
   "source": [
    "df[numerical_columns].isna().sum()"
   ]
  },
  {
   "cell_type": "markdown",
   "id": "6dafe264",
   "metadata": {},
   "source": [
    "**'inciome' column 0's should be also treated as null values**"
   ]
  },
  {
   "cell_type": "code",
   "execution_count": 39,
   "id": "be53438e",
   "metadata": {},
   "outputs": [
    {
     "data": {
      "text/html": [
       "<div>\n",
       "<style scoped>\n",
       "    .dataframe tbody tr th:only-of-type {\n",
       "        vertical-align: middle;\n",
       "    }\n",
       "\n",
       "    .dataframe tbody tr th {\n",
       "        vertical-align: top;\n",
       "    }\n",
       "\n",
       "    .dataframe thead th {\n",
       "        text-align: right;\n",
       "    }\n",
       "</style>\n",
       "<table border=\"1\" class=\"dataframe\">\n",
       "  <thead>\n",
       "    <tr style=\"text-align: right;\">\n",
       "      <th></th>\n",
       "      <th>state</th>\n",
       "      <th>gender</th>\n",
       "      <th>education</th>\n",
       "      <th>customer lifetime value</th>\n",
       "      <th>income</th>\n",
       "      <th>monthly premium auto</th>\n",
       "      <th>number of open complaints</th>\n",
       "      <th>policy type</th>\n",
       "      <th>vehicle class</th>\n",
       "      <th>total claim amount</th>\n",
       "    </tr>\n",
       "  </thead>\n",
       "  <tbody>\n",
       "    <tr>\n",
       "      <th>0</th>\n",
       "      <td>Washington</td>\n",
       "      <td>NaN</td>\n",
       "      <td>Master</td>\n",
       "      <td>7977.832132</td>\n",
       "      <td>0.0</td>\n",
       "      <td>1000.0</td>\n",
       "      <td>0.0</td>\n",
       "      <td>Personal Auto</td>\n",
       "      <td>Four-Door Car</td>\n",
       "      <td>2.704934</td>\n",
       "    </tr>\n",
       "    <tr>\n",
       "      <th>1</th>\n",
       "      <td>Arizona</td>\n",
       "      <td>F</td>\n",
       "      <td>Bachelor</td>\n",
       "      <td>6979.535900</td>\n",
       "      <td>0.0</td>\n",
       "      <td>94.0</td>\n",
       "      <td>0.0</td>\n",
       "      <td>Personal Auto</td>\n",
       "      <td>Four-Door Car</td>\n",
       "      <td>1131.464935</td>\n",
       "    </tr>\n",
       "    <tr>\n",
       "      <th>2</th>\n",
       "      <td>Nevada</td>\n",
       "      <td>F</td>\n",
       "      <td>Bachelor</td>\n",
       "      <td>12887.431700</td>\n",
       "      <td>48767.0</td>\n",
       "      <td>108.0</td>\n",
       "      <td>0.0</td>\n",
       "      <td>Personal Auto</td>\n",
       "      <td>Two-Door Car</td>\n",
       "      <td>566.472247</td>\n",
       "    </tr>\n",
       "    <tr>\n",
       "      <th>3</th>\n",
       "      <td>California</td>\n",
       "      <td>M</td>\n",
       "      <td>Bachelor</td>\n",
       "      <td>7645.861800</td>\n",
       "      <td>0.0</td>\n",
       "      <td>106.0</td>\n",
       "      <td>0.0</td>\n",
       "      <td>Corporate Auto</td>\n",
       "      <td>SUV</td>\n",
       "      <td>529.881344</td>\n",
       "    </tr>\n",
       "    <tr>\n",
       "      <th>4</th>\n",
       "      <td>Washington</td>\n",
       "      <td>M</td>\n",
       "      <td>High School or Below</td>\n",
       "      <td>5363.076500</td>\n",
       "      <td>36357.0</td>\n",
       "      <td>68.0</td>\n",
       "      <td>0.0</td>\n",
       "      <td>Personal Auto</td>\n",
       "      <td>Four-Door Car</td>\n",
       "      <td>17.269323</td>\n",
       "    </tr>\n",
       "  </tbody>\n",
       "</table>\n",
       "</div>"
      ],
      "text/plain": [
       "        state gender             education  customer lifetime value   income  \\\n",
       "0  Washington    NaN                Master              7977.832132      0.0   \n",
       "1     Arizona      F              Bachelor              6979.535900      0.0   \n",
       "2      Nevada      F              Bachelor             12887.431700  48767.0   \n",
       "3  California      M              Bachelor              7645.861800      0.0   \n",
       "4  Washington      M  High School or Below              5363.076500  36357.0   \n",
       "\n",
       "   monthly premium auto  number of open complaints     policy type  \\\n",
       "0                1000.0                        0.0   Personal Auto   \n",
       "1                  94.0                        0.0   Personal Auto   \n",
       "2                 108.0                        0.0   Personal Auto   \n",
       "3                 106.0                        0.0  Corporate Auto   \n",
       "4                  68.0                        0.0   Personal Auto   \n",
       "\n",
       "   vehicle class  total claim amount  \n",
       "0  Four-Door Car            2.704934  \n",
       "1  Four-Door Car         1131.464935  \n",
       "2   Two-Door Car          566.472247  \n",
       "3            SUV          529.881344  \n",
       "4  Four-Door Car           17.269323  "
      ]
     },
     "execution_count": 39,
     "metadata": {},
     "output_type": "execute_result"
    }
   ],
   "source": [
    "df.head()"
   ]
  },
  {
   "cell_type": "code",
   "execution_count": 40,
   "id": "8a722819",
   "metadata": {},
   "outputs": [
    {
     "data": {
      "text/html": [
       "<div>\n",
       "<style scoped>\n",
       "    .dataframe tbody tr th:only-of-type {\n",
       "        vertical-align: middle;\n",
       "    }\n",
       "\n",
       "    .dataframe tbody tr th {\n",
       "        vertical-align: top;\n",
       "    }\n",
       "\n",
       "    .dataframe thead th {\n",
       "        text-align: right;\n",
       "    }\n",
       "</style>\n",
       "<table border=\"1\" class=\"dataframe\">\n",
       "  <thead>\n",
       "    <tr style=\"text-align: right;\">\n",
       "      <th></th>\n",
       "      <th>state</th>\n",
       "      <th>gender</th>\n",
       "      <th>education</th>\n",
       "      <th>customer lifetime value</th>\n",
       "      <th>income</th>\n",
       "      <th>monthly premium auto</th>\n",
       "      <th>number of open complaints</th>\n",
       "      <th>policy type</th>\n",
       "      <th>vehicle class</th>\n",
       "      <th>total claim amount</th>\n",
       "    </tr>\n",
       "  </thead>\n",
       "  <tbody>\n",
       "    <tr>\n",
       "      <th>0</th>\n",
       "      <td>Washington</td>\n",
       "      <td>NaN</td>\n",
       "      <td>Master</td>\n",
       "      <td>7977.832132</td>\n",
       "      <td>NaN</td>\n",
       "      <td>1000.0</td>\n",
       "      <td>0.0</td>\n",
       "      <td>Personal Auto</td>\n",
       "      <td>Four-Door Car</td>\n",
       "      <td>2.704934</td>\n",
       "    </tr>\n",
       "    <tr>\n",
       "      <th>1</th>\n",
       "      <td>Arizona</td>\n",
       "      <td>F</td>\n",
       "      <td>Bachelor</td>\n",
       "      <td>6979.535900</td>\n",
       "      <td>NaN</td>\n",
       "      <td>94.0</td>\n",
       "      <td>0.0</td>\n",
       "      <td>Personal Auto</td>\n",
       "      <td>Four-Door Car</td>\n",
       "      <td>1131.464935</td>\n",
       "    </tr>\n",
       "    <tr>\n",
       "      <th>2</th>\n",
       "      <td>Nevada</td>\n",
       "      <td>F</td>\n",
       "      <td>Bachelor</td>\n",
       "      <td>12887.431700</td>\n",
       "      <td>48767.0</td>\n",
       "      <td>108.0</td>\n",
       "      <td>0.0</td>\n",
       "      <td>Personal Auto</td>\n",
       "      <td>Two-Door Car</td>\n",
       "      <td>566.472247</td>\n",
       "    </tr>\n",
       "    <tr>\n",
       "      <th>3</th>\n",
       "      <td>California</td>\n",
       "      <td>M</td>\n",
       "      <td>Bachelor</td>\n",
       "      <td>7645.861800</td>\n",
       "      <td>NaN</td>\n",
       "      <td>106.0</td>\n",
       "      <td>0.0</td>\n",
       "      <td>Corporate Auto</td>\n",
       "      <td>SUV</td>\n",
       "      <td>529.881344</td>\n",
       "    </tr>\n",
       "    <tr>\n",
       "      <th>4</th>\n",
       "      <td>Washington</td>\n",
       "      <td>M</td>\n",
       "      <td>High School or Below</td>\n",
       "      <td>5363.076500</td>\n",
       "      <td>36357.0</td>\n",
       "      <td>68.0</td>\n",
       "      <td>0.0</td>\n",
       "      <td>Personal Auto</td>\n",
       "      <td>Four-Door Car</td>\n",
       "      <td>17.269323</td>\n",
       "    </tr>\n",
       "  </tbody>\n",
       "</table>\n",
       "</div>"
      ],
      "text/plain": [
       "        state gender             education  customer lifetime value   income  \\\n",
       "0  Washington    NaN                Master              7977.832132      NaN   \n",
       "1     Arizona      F              Bachelor              6979.535900      NaN   \n",
       "2      Nevada      F              Bachelor             12887.431700  48767.0   \n",
       "3  California      M              Bachelor              7645.861800      NaN   \n",
       "4  Washington      M  High School or Below              5363.076500  36357.0   \n",
       "\n",
       "   monthly premium auto  number of open complaints     policy type  \\\n",
       "0                1000.0                        0.0   Personal Auto   \n",
       "1                  94.0                        0.0   Personal Auto   \n",
       "2                 108.0                        0.0   Personal Auto   \n",
       "3                 106.0                        0.0  Corporate Auto   \n",
       "4                  68.0                        0.0   Personal Auto   \n",
       "\n",
       "   vehicle class  total claim amount  \n",
       "0  Four-Door Car            2.704934  \n",
       "1  Four-Door Car         1131.464935  \n",
       "2   Two-Door Car          566.472247  \n",
       "3            SUV          529.881344  \n",
       "4  Four-Door Car           17.269323  "
      ]
     },
     "execution_count": 40,
     "metadata": {},
     "output_type": "execute_result"
    }
   ],
   "source": [
    "# Converting to 0 to nulls\n",
    "df['income']= [x if x!=0 else None for x in df['income']]\n",
    "df.head()"
   ]
  },
  {
   "cell_type": "code",
   "execution_count": 41,
   "id": "400c2ecb",
   "metadata": {},
   "outputs": [],
   "source": [
    "# filling null values of 'income' column with mean\n",
    "mean_value = np.mean(df['income'])\n",
    "df['income'] = df['income'].fillna(mean_value)"
   ]
  },
  {
   "cell_type": "code",
   "execution_count": 42,
   "id": "7cdf7294",
   "metadata": {},
   "outputs": [
    {
     "data": {
      "text/html": [
       "<div>\n",
       "<style scoped>\n",
       "    .dataframe tbody tr th:only-of-type {\n",
       "        vertical-align: middle;\n",
       "    }\n",
       "\n",
       "    .dataframe tbody tr th {\n",
       "        vertical-align: top;\n",
       "    }\n",
       "\n",
       "    .dataframe thead th {\n",
       "        text-align: right;\n",
       "    }\n",
       "</style>\n",
       "<table border=\"1\" class=\"dataframe\">\n",
       "  <thead>\n",
       "    <tr style=\"text-align: right;\">\n",
       "      <th></th>\n",
       "      <th>state</th>\n",
       "      <th>gender</th>\n",
       "      <th>education</th>\n",
       "      <th>customer lifetime value</th>\n",
       "      <th>income</th>\n",
       "      <th>monthly premium auto</th>\n",
       "      <th>number of open complaints</th>\n",
       "      <th>policy type</th>\n",
       "      <th>vehicle class</th>\n",
       "      <th>total claim amount</th>\n",
       "    </tr>\n",
       "  </thead>\n",
       "  <tbody>\n",
       "    <tr>\n",
       "      <th>0</th>\n",
       "      <td>Washington</td>\n",
       "      <td>NaN</td>\n",
       "      <td>Master</td>\n",
       "      <td>7977.832132</td>\n",
       "      <td>50508.694321</td>\n",
       "      <td>1000.0</td>\n",
       "      <td>0.0</td>\n",
       "      <td>Personal Auto</td>\n",
       "      <td>Four-Door Car</td>\n",
       "      <td>2.704934</td>\n",
       "    </tr>\n",
       "    <tr>\n",
       "      <th>1</th>\n",
       "      <td>Arizona</td>\n",
       "      <td>F</td>\n",
       "      <td>Bachelor</td>\n",
       "      <td>6979.535900</td>\n",
       "      <td>50508.694321</td>\n",
       "      <td>94.0</td>\n",
       "      <td>0.0</td>\n",
       "      <td>Personal Auto</td>\n",
       "      <td>Four-Door Car</td>\n",
       "      <td>1131.464935</td>\n",
       "    </tr>\n",
       "    <tr>\n",
       "      <th>2</th>\n",
       "      <td>Nevada</td>\n",
       "      <td>F</td>\n",
       "      <td>Bachelor</td>\n",
       "      <td>12887.431700</td>\n",
       "      <td>48767.000000</td>\n",
       "      <td>108.0</td>\n",
       "      <td>0.0</td>\n",
       "      <td>Personal Auto</td>\n",
       "      <td>Two-Door Car</td>\n",
       "      <td>566.472247</td>\n",
       "    </tr>\n",
       "    <tr>\n",
       "      <th>3</th>\n",
       "      <td>California</td>\n",
       "      <td>M</td>\n",
       "      <td>Bachelor</td>\n",
       "      <td>7645.861800</td>\n",
       "      <td>50508.694321</td>\n",
       "      <td>106.0</td>\n",
       "      <td>0.0</td>\n",
       "      <td>Corporate Auto</td>\n",
       "      <td>SUV</td>\n",
       "      <td>529.881344</td>\n",
       "    </tr>\n",
       "    <tr>\n",
       "      <th>4</th>\n",
       "      <td>Washington</td>\n",
       "      <td>M</td>\n",
       "      <td>High School or Below</td>\n",
       "      <td>5363.076500</td>\n",
       "      <td>36357.000000</td>\n",
       "      <td>68.0</td>\n",
       "      <td>0.0</td>\n",
       "      <td>Personal Auto</td>\n",
       "      <td>Four-Door Car</td>\n",
       "      <td>17.269323</td>\n",
       "    </tr>\n",
       "  </tbody>\n",
       "</table>\n",
       "</div>"
      ],
      "text/plain": [
       "        state gender             education  customer lifetime value  \\\n",
       "0  Washington    NaN                Master              7977.832132   \n",
       "1     Arizona      F              Bachelor              6979.535900   \n",
       "2      Nevada      F              Bachelor             12887.431700   \n",
       "3  California      M              Bachelor              7645.861800   \n",
       "4  Washington      M  High School or Below              5363.076500   \n",
       "\n",
       "         income  monthly premium auto  number of open complaints  \\\n",
       "0  50508.694321                1000.0                        0.0   \n",
       "1  50508.694321                  94.0                        0.0   \n",
       "2  48767.000000                 108.0                        0.0   \n",
       "3  50508.694321                 106.0                        0.0   \n",
       "4  36357.000000                  68.0                        0.0   \n",
       "\n",
       "      policy type  vehicle class  total claim amount  \n",
       "0   Personal Auto  Four-Door Car            2.704934  \n",
       "1   Personal Auto  Four-Door Car         1131.464935  \n",
       "2   Personal Auto   Two-Door Car          566.472247  \n",
       "3  Corporate Auto            SUV          529.881344  \n",
       "4   Personal Auto  Four-Door Car           17.269323  "
      ]
     },
     "execution_count": 42,
     "metadata": {},
     "output_type": "execute_result"
    }
   ],
   "source": [
    "df.head()"
   ]
  },
  {
   "cell_type": "markdown",
   "id": "90a61913",
   "metadata": {},
   "source": [
    "## Bucketing the data - Write a function to replace column \"State\" to different zones. California as West Region, Oregon as North West, and Washington as East, and Arizona and Nevada as Central"
   ]
  },
  {
   "cell_type": "code",
   "execution_count": 43,
   "id": "19352e97",
   "metadata": {
    "scrolled": true
   },
   "outputs": [
    {
     "data": {
      "text/plain": [
       "{'California': 'West Region',\n",
       " 'Oregon': 'North West',\n",
       " 'Washington': 'East',\n",
       " 'Arizona': 'Central',\n",
       " 'Nevada': 'Central'}"
      ]
     },
     "execution_count": 43,
     "metadata": {},
     "output_type": "execute_result"
    }
   ],
   "source": [
    "# Crate a dictionary with the states zone\n",
    "State_dic = {'California':'West Region','Oregon':'North West','Washington':'East','Arizona':'Central','Nevada':'Central'}\n",
    "State_dic "
   ]
  },
  {
   "cell_type": "code",
   "execution_count": 44,
   "id": "4ec79332",
   "metadata": {},
   "outputs": [
    {
     "data": {
      "text/plain": [
       "West Region    3150\n",
       "North West     2601\n",
       "Central        2585\n",
       "East            798\n",
       "Name: state, dtype: int64"
      ]
     },
     "execution_count": 44,
     "metadata": {},
     "output_type": "execute_result"
    }
   ],
   "source": [
    "df['state']= df['state'].replace(State_dic) # Replace 'state' values with dictionary\n",
    "df['state'].value_counts()\n"
   ]
  },
  {
   "cell_type": "markdown",
   "id": "3ec03344",
   "metadata": {},
   "source": [
    "## (Optional) In the column `Vehicle Class`, nerge the two categories `Luxury SUV` and `Luxury Car` into one category named `Luxury Vehicle"
   ]
  },
  {
   "cell_type": "code",
   "execution_count": 45,
   "id": "fd40c277",
   "metadata": {},
   "outputs": [
    {
     "data": {
      "text/plain": [
       "Four-Door Car    4640\n",
       "Two-Door Car     1895\n",
       "SUV              1773\n",
       "Sports Car        483\n",
       "Luxury SUV        182\n",
       "Luxury Car        161\n",
       "Name: vehicle class, dtype: int64"
      ]
     },
     "execution_count": 45,
     "metadata": {},
     "output_type": "execute_result"
    }
   ],
   "source": [
    "df['vehicle class'].value_counts()"
   ]
  },
  {
   "cell_type": "code",
   "execution_count": 46,
   "id": "1f434743",
   "metadata": {},
   "outputs": [],
   "source": [
    "df['vehicle class'] = df['vehicle class'].replace(['Luxury SUV','Luxury Car'],'Luxury Vehicle')\n"
   ]
  },
  {
   "cell_type": "code",
   "execution_count": 48,
   "id": "150f0ef7",
   "metadata": {},
   "outputs": [
    {
     "data": {
      "text/plain": [
       "Four-Door Car     4640\n",
       "Two-Door Car      1895\n",
       "SUV               1773\n",
       "Sports Car         483\n",
       "Luxury Vehicle     343\n",
       "Name: vehicle class, dtype: int64"
      ]
     },
     "execution_count": 48,
     "metadata": {},
     "output_type": "execute_result"
    }
   ],
   "source": [
    "df['vehicle class'].value_counts()"
   ]
  },
  {
   "cell_type": "markdown",
   "id": "e260df3e",
   "metadata": {},
   "source": [
    "## - (Optional) Removing outliers using 1.5*IQR technique for all numerical columns."
   ]
  },
  {
   "cell_type": "code",
   "execution_count": 49,
   "id": "870a664c",
   "metadata": {},
   "outputs": [],
   "source": [
    "import matplotlib.pyplot as plt\n",
    "%matplotlib inline"
   ]
  },
  {
   "cell_type": "code",
   "execution_count": 50,
   "id": "78808bd5",
   "metadata": {},
   "outputs": [],
   "source": [
    "# function to get IQR of a column\n",
    "def out_iqr(column):\n",
    "    df.sort_values(column)\n",
    "    Q1 = df[column].quantile([.25]) # get 1st quartile\n",
    "    Q3 = df[column].quantile([.75]) # get 2nd quartile\n",
    "    IQR = np.array(Q3) - np.array(Q1) # get IQR\n",
    "    lower_range = int((np.array(Q1)) - (1.5 * IQR)) #lower range\n",
    "    upper_range = int((np.array(Q3)) + (1.5 * IQR)) #upper range\n",
    "    return lower_range ,upper_range"
   ]
  },
  {
   "cell_type": "code",
   "execution_count": 51,
   "id": "4080ba4d",
   "metadata": {},
   "outputs": [
    {
     "data": {
      "text/plain": [
       "(-7775, 104578)"
      ]
     },
     "execution_count": 51,
     "metadata": {},
     "output_type": "execute_result"
    }
   ],
   "source": [
    "out_iqr('income') #will retunr 2 values"
   ]
  },
  {
   "cell_type": "markdown",
   "id": "f6d47ebf",
   "metadata": {},
   "source": [
    "def outlier_treatment(col):\n",
    "    sorted(col)\n",
    "    Q1,Q3 = np.percentile(col, [25,75])\n",
    "    IQR = Q3 - Q1\n",
    "    lower_range = Q1 - (1.5 * IQR)\n",
    "    lower_range\n",
    "    upper_range = Q3 + (1.5 * IQR)\n",
    "    return lower_range,upper_range"
   ]
  },
  {
   "cell_type": "code",
   "execution_count": 52,
   "id": "1176e767",
   "metadata": {
    "scrolled": true
   },
   "outputs": [
    {
     "name": "stdout",
     "output_type": "stream",
     "text": [
      "customer lifetime value : 817 outliers\n",
      "income : 0 outliers\n",
      "monthly premium auto : 310 outliers\n",
      "number of open complaints : 1616 outliers\n",
      "total claim amount : 166 outliers\n"
     ]
    },
    {
     "name": "stderr",
     "output_type": "stream",
     "text": [
      "C:\\Users\\javie\\anaconda3\\lib\\site-packages\\pandas\\core\\indexing.py:1773: SettingWithCopyWarning: \n",
      "A value is trying to be set on a copy of a slice from a DataFrame.\n",
      "Try using .loc[row_indexer,col_indexer] = value instead\n",
      "\n",
      "See the caveats in the documentation: https://pandas.pydata.org/pandas-docs/stable/user_guide/indexing.html#returning-a-view-versus-a-copy\n",
      "  self._setitem_single_column(ilocs[0], value, pi)\n"
     ]
    }
   ],
   "source": [
    "# loop to run out_iqr function in all numerical columns\n",
    "for col in numerical_columns: #numerical_columns previusly defined\n",
    "    lowerbound,upperbound = out_iqr(col) # get IQR bouns of a column with out_iqr function\n",
    "    outliers = df[col][(df[col] < lowerbound)|(df[col]>upperbound)] # defining outliers\n",
    "    print(col,\":\",len(outliers),\"outliers\")\n",
    "    df.loc[:,[col]]= df[col].drop(outliers.index) # removing outliers from column\n",
    "    df=df.dropna()\n",
    "    \n"
   ]
  },
  {
   "cell_type": "code",
   "execution_count": 53,
   "id": "a19a584a",
   "metadata": {
    "scrolled": true
   },
   "outputs": [
    {
     "name": "stdout",
     "output_type": "stream",
     "text": [
      "<class 'pandas.core.frame.DataFrame'>\n",
      "Int64Index: 6112 entries, 2 to 9134\n",
      "Data columns (total 10 columns):\n",
      " #   Column                     Non-Null Count  Dtype  \n",
      "---  ------                     --------------  -----  \n",
      " 0   state                      6112 non-null   object \n",
      " 1   gender                     6112 non-null   object \n",
      " 2   education                  6112 non-null   object \n",
      " 3   customer lifetime value    6112 non-null   float64\n",
      " 4   income                     6112 non-null   float64\n",
      " 5   monthly premium auto       6112 non-null   float64\n",
      " 6   number of open complaints  6112 non-null   float64\n",
      " 7   policy type                6112 non-null   object \n",
      " 8   vehicle class              6112 non-null   object \n",
      " 9   total claim amount         6112 non-null   float64\n",
      "dtypes: float64(5), object(5)\n",
      "memory usage: 525.2+ KB\n"
     ]
    }
   ],
   "source": [
    "df.info()"
   ]
  },
  {
   "cell_type": "code",
   "execution_count": 55,
   "id": "16d01724",
   "metadata": {},
   "outputs": [
    {
     "data": {
      "text/html": [
       "<div>\n",
       "<style scoped>\n",
       "    .dataframe tbody tr th:only-of-type {\n",
       "        vertical-align: middle;\n",
       "    }\n",
       "\n",
       "    .dataframe tbody tr th {\n",
       "        vertical-align: top;\n",
       "    }\n",
       "\n",
       "    .dataframe thead th {\n",
       "        text-align: right;\n",
       "    }\n",
       "</style>\n",
       "<table border=\"1\" class=\"dataframe\">\n",
       "  <thead>\n",
       "    <tr style=\"text-align: right;\">\n",
       "      <th></th>\n",
       "      <th>state</th>\n",
       "      <th>gender</th>\n",
       "      <th>education</th>\n",
       "      <th>customer lifetime value</th>\n",
       "      <th>income</th>\n",
       "      <th>monthly premium auto</th>\n",
       "      <th>number of open complaints</th>\n",
       "      <th>policy type</th>\n",
       "      <th>vehicle class</th>\n",
       "      <th>total claim amount</th>\n",
       "    </tr>\n",
       "  </thead>\n",
       "  <tbody>\n",
       "    <tr>\n",
       "      <th>0</th>\n",
       "      <td>Central</td>\n",
       "      <td>F</td>\n",
       "      <td>Bachelor</td>\n",
       "      <td>12887.431700</td>\n",
       "      <td>48767.000000</td>\n",
       "      <td>108.0</td>\n",
       "      <td>0.0</td>\n",
       "      <td>Personal Auto</td>\n",
       "      <td>Two-Door Car</td>\n",
       "      <td>566.472247</td>\n",
       "    </tr>\n",
       "    <tr>\n",
       "      <th>1</th>\n",
       "      <td>West Region</td>\n",
       "      <td>M</td>\n",
       "      <td>Bachelor</td>\n",
       "      <td>7645.861800</td>\n",
       "      <td>50508.694321</td>\n",
       "      <td>106.0</td>\n",
       "      <td>0.0</td>\n",
       "      <td>Corporate Auto</td>\n",
       "      <td>SUV</td>\n",
       "      <td>529.881344</td>\n",
       "    </tr>\n",
       "    <tr>\n",
       "      <th>2</th>\n",
       "      <td>East</td>\n",
       "      <td>M</td>\n",
       "      <td>High School or Below</td>\n",
       "      <td>5363.076500</td>\n",
       "      <td>36357.000000</td>\n",
       "      <td>68.0</td>\n",
       "      <td>0.0</td>\n",
       "      <td>Personal Auto</td>\n",
       "      <td>Four-Door Car</td>\n",
       "      <td>17.269323</td>\n",
       "    </tr>\n",
       "    <tr>\n",
       "      <th>3</th>\n",
       "      <td>North West</td>\n",
       "      <td>F</td>\n",
       "      <td>Bachelor</td>\n",
       "      <td>8256.297800</td>\n",
       "      <td>62902.000000</td>\n",
       "      <td>69.0</td>\n",
       "      <td>0.0</td>\n",
       "      <td>Personal Auto</td>\n",
       "      <td>Two-Door Car</td>\n",
       "      <td>159.383042</td>\n",
       "    </tr>\n",
       "    <tr>\n",
       "      <th>4</th>\n",
       "      <td>North West</td>\n",
       "      <td>F</td>\n",
       "      <td>College</td>\n",
       "      <td>5380.898600</td>\n",
       "      <td>55350.000000</td>\n",
       "      <td>67.0</td>\n",
       "      <td>0.0</td>\n",
       "      <td>Corporate Auto</td>\n",
       "      <td>Four-Door Car</td>\n",
       "      <td>321.600000</td>\n",
       "    </tr>\n",
       "    <tr>\n",
       "      <th>...</th>\n",
       "      <td>...</td>\n",
       "      <td>...</td>\n",
       "      <td>...</td>\n",
       "      <td>...</td>\n",
       "      <td>...</td>\n",
       "      <td>...</td>\n",
       "      <td>...</td>\n",
       "      <td>...</td>\n",
       "      <td>...</td>\n",
       "      <td>...</td>\n",
       "    </tr>\n",
       "    <tr>\n",
       "      <th>6107</th>\n",
       "      <td>West Region</td>\n",
       "      <td>M</td>\n",
       "      <td>College</td>\n",
       "      <td>5032.165498</td>\n",
       "      <td>66367.000000</td>\n",
       "      <td>64.0</td>\n",
       "      <td>0.0</td>\n",
       "      <td>Personal Auto</td>\n",
       "      <td>Two-Door Car</td>\n",
       "      <td>307.200000</td>\n",
       "    </tr>\n",
       "    <tr>\n",
       "      <th>6108</th>\n",
       "      <td>West Region</td>\n",
       "      <td>F</td>\n",
       "      <td>College</td>\n",
       "      <td>4100.398533</td>\n",
       "      <td>47761.000000</td>\n",
       "      <td>104.0</td>\n",
       "      <td>0.0</td>\n",
       "      <td>Personal Auto</td>\n",
       "      <td>Four-Door Car</td>\n",
       "      <td>541.282007</td>\n",
       "    </tr>\n",
       "    <tr>\n",
       "      <th>6109</th>\n",
       "      <td>West Region</td>\n",
       "      <td>F</td>\n",
       "      <td>College</td>\n",
       "      <td>3096.511217</td>\n",
       "      <td>21604.000000</td>\n",
       "      <td>79.0</td>\n",
       "      <td>0.0</td>\n",
       "      <td>Corporate Auto</td>\n",
       "      <td>Four-Door Car</td>\n",
       "      <td>379.200000</td>\n",
       "    </tr>\n",
       "    <tr>\n",
       "      <th>6110</th>\n",
       "      <td>West Region</td>\n",
       "      <td>M</td>\n",
       "      <td>College</td>\n",
       "      <td>7524.442436</td>\n",
       "      <td>21941.000000</td>\n",
       "      <td>96.0</td>\n",
       "      <td>0.0</td>\n",
       "      <td>Personal Auto</td>\n",
       "      <td>Four-Door Car</td>\n",
       "      <td>691.200000</td>\n",
       "    </tr>\n",
       "    <tr>\n",
       "      <th>6111</th>\n",
       "      <td>West Region</td>\n",
       "      <td>M</td>\n",
       "      <td>College</td>\n",
       "      <td>2611.836866</td>\n",
       "      <td>50508.694321</td>\n",
       "      <td>77.0</td>\n",
       "      <td>0.0</td>\n",
       "      <td>Corporate Auto</td>\n",
       "      <td>Two-Door Car</td>\n",
       "      <td>369.600000</td>\n",
       "    </tr>\n",
       "  </tbody>\n",
       "</table>\n",
       "<p>6112 rows × 10 columns</p>\n",
       "</div>"
      ],
      "text/plain": [
       "            state gender             education  customer lifetime value  \\\n",
       "0         Central      F              Bachelor             12887.431700   \n",
       "1     West Region      M              Bachelor              7645.861800   \n",
       "2            East      M  High School or Below              5363.076500   \n",
       "3      North West      F              Bachelor              8256.297800   \n",
       "4      North West      F               College              5380.898600   \n",
       "...           ...    ...                   ...                      ...   \n",
       "6107  West Region      M               College              5032.165498   \n",
       "6108  West Region      F               College              4100.398533   \n",
       "6109  West Region      F               College              3096.511217   \n",
       "6110  West Region      M               College              7524.442436   \n",
       "6111  West Region      M               College              2611.836866   \n",
       "\n",
       "            income  monthly premium auto  number of open complaints  \\\n",
       "0     48767.000000                 108.0                        0.0   \n",
       "1     50508.694321                 106.0                        0.0   \n",
       "2     36357.000000                  68.0                        0.0   \n",
       "3     62902.000000                  69.0                        0.0   \n",
       "4     55350.000000                  67.0                        0.0   \n",
       "...            ...                   ...                        ...   \n",
       "6107  66367.000000                  64.0                        0.0   \n",
       "6108  47761.000000                 104.0                        0.0   \n",
       "6109  21604.000000                  79.0                        0.0   \n",
       "6110  21941.000000                  96.0                        0.0   \n",
       "6111  50508.694321                  77.0                        0.0   \n",
       "\n",
       "         policy type  vehicle class  total claim amount  \n",
       "0      Personal Auto   Two-Door Car          566.472247  \n",
       "1     Corporate Auto            SUV          529.881344  \n",
       "2      Personal Auto  Four-Door Car           17.269323  \n",
       "3      Personal Auto   Two-Door Car          159.383042  \n",
       "4     Corporate Auto  Four-Door Car          321.600000  \n",
       "...              ...            ...                 ...  \n",
       "6107   Personal Auto   Two-Door Car          307.200000  \n",
       "6108   Personal Auto  Four-Door Car          541.282007  \n",
       "6109  Corporate Auto  Four-Door Car          379.200000  \n",
       "6110   Personal Auto  Four-Door Car          691.200000  \n",
       "6111  Corporate Auto   Two-Door Car          369.600000  \n",
       "\n",
       "[6112 rows x 10 columns]"
      ]
     },
     "execution_count": 55,
     "metadata": {},
     "output_type": "execute_result"
    }
   ],
   "source": [
    "df=df.reset_index(drop=True) \n",
    "df"
   ]
  },
  {
   "cell_type": "markdown",
   "id": "505753f0",
   "metadata": {},
   "source": [
    "### Standardize 'education' column"
   ]
  },
  {
   "cell_type": "code",
   "execution_count": 56,
   "id": "270c28a6",
   "metadata": {
    "scrolled": true
   },
   "outputs": [
    {
     "data": {
      "text/plain": [
       "College                 1813\n",
       "Bachelor                1798\n",
       "High School or Below    1731\n",
       "Master                   508\n",
       "Doctor                   246\n",
       "Bachelors                 16\n",
       "Name: education, dtype: int64"
      ]
     },
     "execution_count": 56,
     "metadata": {},
     "output_type": "execute_result"
    }
   ],
   "source": [
    "df['education'].value_counts()"
   ]
  },
  {
   "cell_type": "code",
   "execution_count": 57,
   "id": "41eb7217",
   "metadata": {},
   "outputs": [
    {
     "data": {
      "text/plain": [
       "Bachelor                1814\n",
       "College                 1813\n",
       "High School or Below    1731\n",
       "Master                   508\n",
       "Doctor                   246\n",
       "Name: education, dtype: int64"
      ]
     },
     "execution_count": 57,
     "metadata": {},
     "output_type": "execute_result"
    }
   ],
   "source": [
    "df['education'] = df['education'].replace('Bachelors','Bachelor')\n",
    "df['education'].value_counts()"
   ]
  },
  {
   "cell_type": "code",
   "execution_count": null,
   "id": "dade6118",
   "metadata": {},
   "outputs": [],
   "source": []
  }
 ],
 "metadata": {
  "kernelspec": {
   "display_name": "Python 3 (ipykernel)",
   "language": "python",
   "name": "python3"
  },
  "language_info": {
   "codemirror_mode": {
    "name": "ipython",
    "version": 3
   },
   "file_extension": ".py",
   "mimetype": "text/x-python",
   "name": "python",
   "nbconvert_exporter": "python",
   "pygments_lexer": "ipython3",
   "version": "3.9.7"
  }
 },
 "nbformat": 4,
 "nbformat_minor": 5
}
