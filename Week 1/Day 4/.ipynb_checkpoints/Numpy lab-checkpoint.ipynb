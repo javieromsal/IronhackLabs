{
 "cells": [
  {
   "cell_type": "markdown",
   "id": "f4dd0253",
   "metadata": {},
   "source": [
    "\n",
    "# numpy exercises\n",
    "\n",
    "This is a collection of exercises that have been collected in the numpy mailing list, on stack overflow\n",
    "and in the numpy documentation. The goal of this collection is to offer a quick reference for both old\n",
    "and new users but also to provide a set of exercises for those who teach.\n",
    "\n",
    "\n",
    "If you find an error or think you've a better way to solve some of them, feel\n",
    "free to open an issue at <https://github.com/rougier/numpy-100>.\n",
    "File automatically generated. See the documentation to update questions/answers/hints programmatically.\n",
    "\n",
    "#### 1. Import the numpy package under the name `np` (★☆☆)\n",
    "`hint: import … as`\n",
    "\n",
    "#### 2. Create a null vector of size 10 (★☆☆)\n",
    "`hint: np.zeros`\n",
    "\n",
    "#### 3. Create a null vector of size 10 but the fifth value which is 1 (★☆☆)\n",
    "`hint: array[4]`\n",
    "\n",
    "#### 4. Create a vector with values ranging from 10 to 49 (★☆☆)\n",
    "`hint: arange`\n",
    "\n",
    "#### 5. Create a 3x3 matrix with values ranging from 0 to 8 (★☆☆)\n",
    "`hint: reshape`\n",
    "\n",
    "#### 6. Find indices of non-zero elements from [1,2,0,0,4,0] (★☆☆)\n",
    "`hint: np.nonzero`\n",
    "\n",
    "#### 7. Create a 3x3 identity matrix (★☆☆)\n",
    "`hint: np.eye`\n",
    "\n",
    "#### 8. Create a 3x3x3 array with random values (★☆☆)\n",
    "`hint: np.random.random`\n",
    "\n",
    "#### 9. Create a 10x10 array with random values and find the minimum and maximum values (★☆☆)\n",
    "`hint: min, max`\n",
    "\n",
    "#### 10. Create a random vector of size 30 and find the mean value (★☆☆)\n",
    "`hint: mean`\n",
    "\n",
    "#### 11. Create a 5x5 matrix with values 1,2,3,4 just below the diagonal (★☆☆)\n",
    "`hint: np.diag`\n",
    "\n",
    "#### 12. Normalize a 5x5 random matrix (★☆☆)\n",
    "`hint: (x -mean)/std`\n",
    "\n",
    "#### 13. How to find common values between two arrays? (★☆☆)\n",
    "`hint: np.intersect1d`\n",
    "\n",
    "#### 14. Create a random vector of size 10 and sort it (★★☆)\n",
    "`hint: sort`\n",
    "\n",
    "#### 15. Create random vector of size 10 and replace the maximum value by 0 (★★☆)\n",
    "`hint: argmax`\n",
    "\n",
    "#### 16. Subtract the mean of each row of a matrix (★★☆)\n",
    "`hint: mean(axis=,keepdims=)`\n",
    "\n",
    "#### 17. How to get the n largest values of an array (★★★)\n",
    "`Z = np.arange(10000)\n",
    "np.random.shuffle(Z)\n",
    "n = 5\n",
    "hint: np.argsort | np.argpartition`\n",
    "\n",
    "#### 18. Create a random 5*3 matrix and replace items that are larger than 4 by their squares ( Example:  6 --> 36) \n",
    "`hint: np.where`\n"
   ]
  },
  {
   "cell_type": "markdown",
   "id": "aafcf11e",
   "metadata": {},
   "source": [
    "1. Import the numpy package under the name"
   ]
  },
  {
   "cell_type": "code",
   "execution_count": 1,
   "id": "18284c49",
   "metadata": {},
   "outputs": [],
   "source": [
    "import numpy as np"
   ]
  },
  {
   "cell_type": "markdown",
   "id": "8b22d0b8",
   "metadata": {},
   "source": [
    "2. Create a null vector of size 10"
   ]
  },
  {
   "cell_type": "code",
   "execution_count": 3,
   "id": "b7266b01",
   "metadata": {},
   "outputs": [
    {
     "name": "stdout",
     "output_type": "stream",
     "text": [
      "[0. 0. 0. 0. 0. 0. 0. 0. 0. 0.]\n"
     ]
    }
   ],
   "source": [
    "null_v = np.zeros(10)\n",
    "print(null_v)"
   ]
  },
  {
   "cell_type": "markdown",
   "id": "ef6fcdfb",
   "metadata": {},
   "source": [
    "3. Create a null vector of size 10 but the fifth value which is 1 (★☆☆)\n",
    "hint: array[4]"
   ]
  },
  {
   "cell_type": "code",
   "execution_count": 10,
   "id": "82dee52d",
   "metadata": {},
   "outputs": [
    {
     "data": {
      "text/plain": [
       "array([0, 0, 0, 0, 1, 0, 0, 0, 0, 0])"
      ]
     },
     "execution_count": 10,
     "metadata": {},
     "output_type": "execute_result"
    }
   ],
   "source": [
    "(np.arange(10)==4).astype(int)"
   ]
  },
  {
   "cell_type": "markdown",
   "id": "d0aaed14",
   "metadata": {},
   "source": [
    "5. Create a 3x3 matrix with values ranging from 0 to 8 (★☆☆)\n",
    "hint: reshape"
   ]
  },
  {
   "cell_type": "code",
   "execution_count": 12,
   "id": "ee89ff01",
   "metadata": {},
   "outputs": [
    {
     "data": {
      "text/plain": [
       "array([[0, 1, 2],\n",
       "       [3, 4, 5],\n",
       "       [6, 7, 8]])"
      ]
     },
     "execution_count": 12,
     "metadata": {},
     "output_type": "execute_result"
    }
   ],
   "source": [
    "np.arange(0,9).reshape((3,3))"
   ]
  },
  {
   "cell_type": "markdown",
   "id": "36c08ddc",
   "metadata": {},
   "source": [
    "6. Find indices of non-zero elements from [1,2,0,0,4,0] (★☆☆)¶\n",
    "hint: np.nonzero"
   ]
  },
  {
   "cell_type": "code",
   "execution_count": 14,
   "id": "d1f32321",
   "metadata": {},
   "outputs": [
    {
     "data": {
      "text/plain": [
       "array([1, 2, 0, 0, 4, 0])"
      ]
     },
     "execution_count": 14,
     "metadata": {},
     "output_type": "execute_result"
    }
   ],
   "source": [
    "a = np.array([1,2,0,0,4,0])\n",
    "a"
   ]
  },
  {
   "cell_type": "code",
   "execution_count": 16,
   "id": "3495a8e9",
   "metadata": {},
   "outputs": [
    {
     "data": {
      "text/plain": [
       "(array([0, 1, 4], dtype=int64),)"
      ]
     },
     "execution_count": 16,
     "metadata": {},
     "output_type": "execute_result"
    }
   ],
   "source": [
    "np.nonzero(a) #gives the coordenates of values that are not zero in the array"
   ]
  },
  {
   "cell_type": "markdown",
   "id": "36846421",
   "metadata": {},
   "source": [
    "7. Create a 3x3 identity matrix (★☆☆)\n",
    "hint: np.eye"
   ]
  },
  {
   "cell_type": "code",
   "execution_count": 17,
   "id": "86b79719",
   "metadata": {},
   "outputs": [
    {
     "data": {
      "text/plain": [
       "array([[1., 0., 0.],\n",
       "       [0., 1., 0.],\n",
       "       [0., 0., 1.]])"
      ]
     },
     "execution_count": 17,
     "metadata": {},
     "output_type": "execute_result"
    }
   ],
   "source": [
    "np.identity(3)"
   ]
  },
  {
   "cell_type": "code",
   "execution_count": 19,
   "id": "2fe18204",
   "metadata": {},
   "outputs": [
    {
     "data": {
      "text/plain": [
       "array([[1., 0., 0.],\n",
       "       [0., 1., 0.],\n",
       "       [0., 0., 1.]])"
      ]
     },
     "execution_count": 19,
     "metadata": {},
     "output_type": "execute_result"
    }
   ],
   "source": [
    "np.eye(3)"
   ]
  },
  {
   "cell_type": "markdown",
   "id": "de11736d",
   "metadata": {},
   "source": [
    "8. Create a 3x3x3 array with random values (★☆☆)\n",
    "hint: np.random.random"
   ]
  },
  {
   "cell_type": "code",
   "execution_count": 23,
   "id": "482d73c4",
   "metadata": {},
   "outputs": [
    {
     "data": {
      "text/plain": [
       "array([[[0.56114955, 0.01514419, 0.70773573],\n",
       "        [0.32058132, 0.28154709, 0.3587988 ],\n",
       "        [0.3256614 , 0.38635494, 0.55059914]],\n",
       "\n",
       "       [[0.4439411 , 0.67813282, 0.43094779],\n",
       "        [0.65075071, 0.70858411, 0.03396184],\n",
       "        [0.87526916, 0.41667953, 0.54200583]],\n",
       "\n",
       "       [[0.32131349, 0.50683993, 0.1576133 ],\n",
       "        [0.92811605, 0.45544201, 0.34654828],\n",
       "        [0.55212725, 0.3671197 , 0.97960396]]])"
      ]
     },
     "execution_count": 23,
     "metadata": {},
     "output_type": "execute_result"
    }
   ],
   "source": [
    "np.random.random((3,3,3))"
   ]
  },
  {
   "cell_type": "markdown",
   "id": "1383f2bf",
   "metadata": {},
   "source": [
    "9. Create a 10x10 array with random values and find the minimum and maximum values (★☆☆)\n",
    "hint: min, max"
   ]
  },
  {
   "cell_type": "code",
   "execution_count": 28,
   "id": "abcabc15",
   "metadata": {},
   "outputs": [
    {
     "data": {
      "text/plain": [
       "array([[0.54329109, 0.72895073, 0.01688145, 0.3303388 , 0.36872182,\n",
       "        0.04830367, 0.10453019, 0.09743752, 0.24540331, 0.87348935],\n",
       "       [0.05161164, 0.06048134, 0.23874011, 0.20369919, 0.17453362,\n",
       "        0.4153501 , 0.94173812, 0.46691528, 0.95997821, 0.99981377],\n",
       "       [0.72631715, 0.48422867, 0.12686103, 0.10540475, 0.04226596,\n",
       "        0.244131  , 0.07151706, 0.99556762, 0.20132616, 0.88245121],\n",
       "       [0.24522681, 0.11543404, 0.59220196, 0.70826194, 0.13028934,\n",
       "        0.11850709, 0.00372051, 0.56942472, 0.48184031, 0.34116267],\n",
       "       [0.26471783, 0.34771782, 0.9207149 , 0.98316199, 0.97648642,\n",
       "        0.0427551 , 0.80801819, 0.86668909, 0.51798327, 0.7153192 ],\n",
       "       [0.19054784, 0.64362849, 0.54668746, 0.55958402, 0.19326741,\n",
       "        0.32445955, 0.18190523, 0.61739294, 0.28793773, 0.1343628 ],\n",
       "       [0.32677088, 0.17852022, 0.41733021, 0.37654918, 0.45613382,\n",
       "        0.24486177, 0.70496897, 0.11983588, 0.3189468 , 0.77762613],\n",
       "       [0.06439634, 0.99494058, 0.09342071, 0.76451194, 0.15471825,\n",
       "        0.55747376, 0.58333095, 0.55829379, 0.72258813, 0.69842575],\n",
       "       [0.06804872, 0.59190834, 0.6998112 , 0.61764291, 0.72817849,\n",
       "        0.18621344, 0.08981249, 0.39880984, 0.2331309 , 0.76592168],\n",
       "       [0.4228247 , 0.80132534, 0.42519952, 0.5182754 , 0.46108182,\n",
       "        0.47988   , 0.14044635, 0.76619194, 0.88326352, 0.85484266]])"
      ]
     },
     "execution_count": 28,
     "metadata": {},
     "output_type": "execute_result"
    }
   ],
   "source": [
    "np.random.seed(333)\n",
    "b = np.random.random((10,10))\n",
    "b"
   ]
  },
  {
   "cell_type": "code",
   "execution_count": 33,
   "id": "50faca29",
   "metadata": {},
   "outputs": [
    {
     "name": "stdout",
     "output_type": "stream",
     "text": [
      "0.9998137663042677\n",
      "0.003720511157856099\n"
     ]
    }
   ],
   "source": [
    "print(np.max( b ))\n",
    "print(np.min(b))\n"
   ]
  },
  {
   "cell_type": "markdown",
   "id": "fbf9b669",
   "metadata": {},
   "source": [
    "10. Create a random vector of size 30 and find the mean value (★☆☆)\n",
    "hint: mean"
   ]
  },
  {
   "cell_type": "code",
   "execution_count": 37,
   "id": "d83559e2",
   "metadata": {},
   "outputs": [
    {
     "data": {
      "text/plain": [
       "array([0.82010739, 0.09782832, 0.81567415, 0.4331293 , 0.90437766,\n",
       "       0.29861264, 0.82434214, 0.52145497, 0.8174183 , 0.53615202,\n",
       "       0.89423525, 0.37313058, 0.86599288, 0.03853851, 0.96446364,\n",
       "       0.76663197, 0.96761053, 0.07583492, 0.40560189, 0.0902261 ,\n",
       "       0.95124847, 0.9935168 , 0.95612384, 0.31139517, 0.39496594,\n",
       "       0.30627315, 0.54239328, 0.28961745, 0.0337392 , 0.94811169])"
      ]
     },
     "execution_count": 37,
     "metadata": {},
     "output_type": "execute_result"
    }
   ],
   "source": [
    "np.random.seed(70000)\n",
    "c = np.random.random(30)\n",
    "c"
   ]
  },
  {
   "cell_type": "code",
   "execution_count": 38,
   "id": "fc4af42c",
   "metadata": {},
   "outputs": [
    {
     "data": {
      "text/plain": [
       "0.5746249381544449"
      ]
     },
     "execution_count": 38,
     "metadata": {},
     "output_type": "execute_result"
    }
   ],
   "source": [
    "np.mean(c)"
   ]
  },
  {
   "cell_type": "markdown",
   "id": "671bf2a0",
   "metadata": {},
   "source": [
    "11. Create a 5x5 matrix with values 1,2,3,4 just below the diagonal (★☆☆)\n",
    "hint: np.diag"
   ]
  },
  {
   "cell_type": "code",
   "execution_count": 48,
   "id": "41d67362",
   "metadata": {},
   "outputs": [
    {
     "data": {
      "text/plain": [
       "array([[0, 0, 0, 0, 0],\n",
       "       [1, 0, 0, 0, 0],\n",
       "       [0, 2, 0, 0, 0],\n",
       "       [0, 0, 3, 0, 0],\n",
       "       [0, 0, 0, 4, 0]])"
      ]
     },
     "execution_count": 48,
     "metadata": {},
     "output_type": "execute_result"
    }
   ],
   "source": [
    "np.diag(1+np.arange(4), k =-1) # 'k='' is not necesary, k>0 for diagonals above the main diagonal, \n",
    "#k<0 for diagonals below the main diagonal.\n",
    "\n",
    "#1+ so the values star in 1 not in 0"
   ]
  },
  {
   "cell_type": "markdown",
   "id": "6b4e8d38",
   "metadata": {},
   "source": [
    "12. Normalize a 5x5 random matrix (★☆☆)\n",
    "hint: (x -mean)/std"
   ]
  },
  {
   "cell_type": "code",
   "execution_count": 50,
   "id": "6064df75",
   "metadata": {},
   "outputs": [
    {
     "data": {
      "text/plain": [
       "array([[0.94174746, 0.39105879, 0.05816787, 0.02507077, 0.53458217],\n",
       "       [0.44231089, 0.69021013, 0.3084805 , 0.3634608 , 0.64434605],\n",
       "       [0.29353533, 0.7384209 , 0.01085233, 0.55136738, 0.22354734],\n",
       "       [0.54064204, 0.08773082, 0.25946603, 0.41612141, 0.50597117],\n",
       "       [0.13981042, 0.76991768, 0.46417968, 0.82710643, 0.51305521]])"
      ]
     },
     "execution_count": 50,
     "metadata": {},
     "output_type": "execute_result"
    }
   ],
   "source": [
    "np.random.seed(1524)\n",
    "d = np.random.random((5,5))\n",
    "d"
   ]
  },
  {
   "cell_type": "code",
   "execution_count": 54,
   "id": "d0a5aebd",
   "metadata": {},
   "outputs": [
    {
     "data": {
      "text/plain": [
       "0.429646384350438"
      ]
     },
     "execution_count": 54,
     "metadata": {},
     "output_type": "execute_result"
    }
   ],
   "source": [
    "xb = np.mean(d)\n",
    "xb"
   ]
  },
  {
   "cell_type": "code",
   "execution_count": 56,
   "id": "ec92b157",
   "metadata": {},
   "outputs": [
    {
     "data": {
      "text/plain": [
       "0.2518964872166595"
      ]
     },
     "execution_count": 56,
     "metadata": {},
     "output_type": "execute_result"
    }
   ],
   "source": [
    "sigma = np.std(d)\n",
    "sigma"
   ]
  },
  {
   "cell_type": "code",
   "execution_count": 62,
   "id": "28083cc8",
   "metadata": {},
   "outputs": [],
   "source": [
    "d_max= np.max(d)\n",
    "d_min = np.min(d)"
   ]
  },
  {
   "cell_type": "code",
   "execution_count": 64,
   "id": "a940d61f",
   "metadata": {},
   "outputs": [
    {
     "data": {
      "text/plain": [
       "array([[ 1.06257691,  0.4270929 ,  0.04294325,  0.00474984,  0.59271608],\n",
       "       [ 0.48623683,  0.77230772,  0.33179916,  0.39524536,  0.71938147],\n",
       "       [ 0.31455272,  0.82794202, -0.01165795,  0.61208589,  0.23378795],\n",
       "       [ 0.59970906,  0.07705833,  0.27523742,  0.45601468,  0.55969955],\n",
       "       [ 0.13715717,  0.86428869,  0.51147298,  0.93028339,  0.5678744 ]])"
      ]
     },
     "execution_count": 64,
     "metadata": {},
     "output_type": "execute_result"
    }
   ],
   "source": [
    "d= (d - d_min)/(d_max - d_min)\n",
    "d"
   ]
  },
  {
   "cell_type": "markdown",
   "id": "f5926718",
   "metadata": {},
   "source": [
    "13. How to find common values between two arrays? (★☆☆)¶\n",
    "hint: np.intersect1d\n"
   ]
  },
  {
   "cell_type": "markdown",
   "id": "e3ff0e93",
   "metadata": {},
   "source": [
    "np.intersect1d(array1, array2)"
   ]
  },
  {
   "cell_type": "markdown",
   "id": "879acd21",
   "metadata": {},
   "source": [
    "14. Create a random vector of size 10 and sort it (★★☆)\n",
    "hint: sort"
   ]
  },
  {
   "cell_type": "code",
   "execution_count": 70,
   "id": "abcec752",
   "metadata": {},
   "outputs": [
    {
     "data": {
      "text/plain": [
       "array([0.57954883, 0.88180274, 0.85104674, 0.44244095, 0.51484843,\n",
       "       0.95682045, 0.87932914, 0.87057705, 0.14249652, 0.33547195])"
      ]
     },
     "execution_count": 70,
     "metadata": {},
     "output_type": "execute_result"
    }
   ],
   "source": [
    "np.random.seed(77546)\n",
    "e = np.random.random((10))\n",
    "e"
   ]
  },
  {
   "cell_type": "code",
   "execution_count": 71,
   "id": "ecee7c00",
   "metadata": {},
   "outputs": [
    {
     "data": {
      "text/plain": [
       "array([0.14249652, 0.33547195, 0.44244095, 0.51484843, 0.57954883,\n",
       "       0.85104674, 0.87057705, 0.87932914, 0.88180274, 0.95682045])"
      ]
     },
     "execution_count": 71,
     "metadata": {},
     "output_type": "execute_result"
    }
   ],
   "source": [
    "np.sort(e)"
   ]
  },
  {
   "cell_type": "markdown",
   "id": "20408cd5",
   "metadata": {},
   "source": [
    "15. Create random vector of size 10 and replace the maximum value by 0 (★★☆)\n",
    "hint: argmax"
   ]
  },
  {
   "cell_type": "code",
   "execution_count": 72,
   "id": "fded78e0",
   "metadata": {},
   "outputs": [
    {
     "data": {
      "text/plain": [
       "array([0.99548984, 0.20044008, 0.64525236, 0.05201115, 0.30476065,\n",
       "       0.31441259, 0.34411116, 0.06052971, 0.12114764, 0.08085325])"
      ]
     },
     "execution_count": 72,
     "metadata": {},
     "output_type": "execute_result"
    }
   ],
   "source": [
    "np.random.seed(777777)\n",
    "f = np.random.random((10))\n",
    "f"
   ]
  },
  {
   "cell_type": "code",
   "execution_count": 75,
   "id": "70ad0c71",
   "metadata": {},
   "outputs": [
    {
     "data": {
      "text/plain": [
       "array([0.        , 0.20044008, 0.64525236, 0.05201115, 0.30476065,\n",
       "       0.31441259, 0.34411116, 0.06052971, 0.12114764, 0.08085325])"
      ]
     },
     "execution_count": 75,
     "metadata": {},
     "output_type": "execute_result"
    }
   ],
   "source": [
    "f[f.argmax()] = 0\n",
    "f"
   ]
  },
  {
   "cell_type": "markdown",
   "id": "d338711e",
   "metadata": {},
   "source": [
    "16. Subtract the mean of each row of a matrix (★★☆)\n",
    "hint: mean(axis=,keepdims=)"
   ]
  },
  {
   "cell_type": "code",
   "execution_count": 79,
   "id": "e587603a",
   "metadata": {},
   "outputs": [
    {
     "data": {
      "text/plain": [
       "array([[0.24095773, 0.12145201, 0.50082199],\n",
       "       [0.49083586, 0.94609061, 0.0919834 ],\n",
       "       [0.50555674, 0.80277107, 0.86662215]])"
      ]
     },
     "execution_count": 79,
     "metadata": {},
     "output_type": "execute_result"
    }
   ],
   "source": [
    "np.random.seed(12345689)\n",
    "g = np.random.random((3,3))\n",
    "g"
   ]
  },
  {
   "cell_type": "code",
   "execution_count": 81,
   "id": "419fb68a",
   "metadata": {},
   "outputs": [
    {
     "data": {
      "text/plain": [
       "array([[-0.04678618, -0.1662919 ,  0.21307808],\n",
       "       [-0.01880076,  0.43645399, -0.41765323],\n",
       "       [-0.21942658,  0.07778775,  0.14163883]])"
      ]
     },
     "execution_count": 81,
     "metadata": {},
     "output_type": "execute_result"
    }
   ],
   "source": [
    "h = g - g.mean(axis=1, keepdims=True)\n",
    "h"
   ]
  },
  {
   "cell_type": "markdown",
   "id": "6e8e48d4",
   "metadata": {},
   "source": [
    "17. How to get the n largest values of an array (★★★)\n",
    "Z = np.arange(10000)\n",
    "np.random.shuffle(Z)\n",
    "n = 5\n",
    "hint: np.argsort | np.argpartition"
   ]
  },
  {
   "cell_type": "code",
   "execution_count": 88,
   "id": "4872d083",
   "metadata": {},
   "outputs": [
    {
     "data": {
      "text/plain": [
       "array([0.45727946, 0.73408585, 0.39878132, 0.0895491 , 0.2439955 ])"
      ]
     },
     "execution_count": 88,
     "metadata": {},
     "output_type": "execute_result"
    }
   ],
   "source": [
    "np.random.seed(48353854)\n",
    "i = np.random.random((5))\n",
    "i"
   ]
  },
  {
   "cell_type": "code",
   "execution_count": 89,
   "id": "1b88e138",
   "metadata": {},
   "outputs": [
    {
     "data": {
      "text/plain": [
       "array([3, 4, 2, 0, 1], dtype=int64)"
      ]
     },
     "execution_count": 89,
     "metadata": {},
     "output_type": "execute_result"
    }
   ],
   "source": [
    "j = np.argsort(i)\n",
    "j"
   ]
  },
  {
   "cell_type": "code",
   "execution_count": 93,
   "id": "1c72cb1f",
   "metadata": {},
   "outputs": [
    {
     "data": {
      "text/plain": [
       "array([3, 4, 2, 0, 1], dtype=int64)"
      ]
     },
     "execution_count": 93,
     "metadata": {},
     "output_type": "execute_result"
    }
   ],
   "source": [
    "k = np.argpartition(j,3)\n",
    "k"
   ]
  },
  {
   "cell_type": "markdown",
   "id": "13730a60",
   "metadata": {},
   "source": [
    "18. Create a random 5*3 matrix and replace items that are larger than 4 by their squares ( Example: 6 --> 36)\n",
    "hint: np.where"
   ]
  },
  {
   "cell_type": "code",
   "execution_count": 98,
   "id": "70f24cdb",
   "metadata": {},
   "outputs": [
    {
     "data": {
      "text/plain": [
       "array([0, 1, 2, 3, 4, 5, 6, 7, 8, 9])"
      ]
     },
     "execution_count": 98,
     "metadata": {},
     "output_type": "execute_result"
    }
   ],
   "source": [
    "l = np.arange(10)\n",
    "l"
   ]
  },
  {
   "cell_type": "code",
   "execution_count": 99,
   "id": "a9ffc766",
   "metadata": {},
   "outputs": [
    {
     "data": {
      "text/plain": [
       "array([ 0,  1,  2,  3, 16, 25, 36, 49, 64, 81])"
      ]
     },
     "execution_count": 99,
     "metadata": {},
     "output_type": "execute_result"
    }
   ],
   "source": [
    "np.where(l < 4,l,l*l)\n"
   ]
  },
  {
   "cell_type": "code",
   "execution_count": null,
   "id": "d089210d",
   "metadata": {},
   "outputs": [],
   "source": []
  }
 ],
 "metadata": {
  "kernelspec": {
   "display_name": "Python 3 (ipykernel)",
   "language": "python",
   "name": "python3"
  },
  "language_info": {
   "codemirror_mode": {
    "name": "ipython",
    "version": 3
   },
   "file_extension": ".py",
   "mimetype": "text/x-python",
   "name": "python",
   "nbconvert_exporter": "python",
   "pygments_lexer": "ipython3",
   "version": "3.9.7"
  }
 },
 "nbformat": 4,
 "nbformat_minor": 5
}
