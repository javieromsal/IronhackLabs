{
 "cells": [
  {
   "cell_type": "markdown",
   "id": "d0128eb3",
   "metadata": {},
   "source": [
    "# Rock Papper Scissors game"
   ]
  },
  {
   "cell_type": "code",
   "execution_count": 63,
   "id": "cd69ac7f",
   "metadata": {},
   "outputs": [],
   "source": [
    "import random"
   ]
  },
  {
   "cell_type": "code",
   "execution_count": 64,
   "id": "2d567759",
   "metadata": {},
   "outputs": [
    {
     "name": "stdout",
     "output_type": "stream",
     "text": [
      "Enter a choice(rock, paper, scissors):rock\n"
     ]
    }
   ],
   "source": [
    "# User input\n",
    "user_input= input(\"Enter a choice(rock, paper, scissors):\")"
   ]
  },
  {
   "cell_type": "code",
   "execution_count": 65,
   "id": "7dc4eab8",
   "metadata": {},
   "outputs": [
    {
     "data": {
      "text/plain": [
       "'rock'"
      ]
     },
     "execution_count": 65,
     "metadata": {},
     "output_type": "execute_result"
    }
   ],
   "source": [
    "user_input"
   ]
  },
  {
   "cell_type": "markdown",
   "id": "76829a5d",
   "metadata": {},
   "source": [
    "### Computer Choose"
   ]
  },
  {
   "cell_type": "code",
   "execution_count": 66,
   "id": "7fa030a7",
   "metadata": {},
   "outputs": [],
   "source": [
    "options=[\"rock\",\"paper\",\"scissors\"]\n",
    "computer=random.choice(options)"
   ]
  },
  {
   "cell_type": "code",
   "execution_count": 67,
   "id": "b98a9f4f",
   "metadata": {},
   "outputs": [
    {
     "name": "stdout",
     "output_type": "stream",
     "text": [
      "user: rock, computer: paper\n"
     ]
    }
   ],
   "source": [
    "print(f'user: {user_input}, computer: {computer}')"
   ]
  },
  {
   "cell_type": "code",
   "execution_count": 68,
   "id": "753e3187",
   "metadata": {},
   "outputs": [
    {
     "name": "stdout",
     "output_type": "stream",
     "text": [
      "paper cover rock! You lose :(\n"
     ]
    }
   ],
   "source": [
    "if user_input == computer:\n",
    "    print(f'Tie! Both selected {user_input}')\n",
    "elif user_input == 'rock':\n",
    "    if computer == 'scissors':\n",
    "          print(\"rock beats scissors! User win!\")\n",
    "    else:\n",
    "          print(\"paper cover rock! You lose :(\")\n",
    "elif user_input ==\"paper\":\n",
    "    if computer == 'rock':\n",
    "          print('paper covers rock! You win!')\n",
    "    else:\n",
    "          print('scissors cuts paper! You lose :(')\n",
    "elif user_input == \"scissors\":\n",
    "    if computer =='paper':\n",
    "          print('scissors cuts paper! You win!')\n",
    "    else:\n",
    "        print('rock beats scissors! You lose :(')\n",
    "          \n",
    "          "
   ]
  },
  {
   "cell_type": "code",
   "execution_count": 69,
   "id": "e5bd6dc5",
   "metadata": {},
   "outputs": [
    {
     "name": "stdout",
     "output_type": "stream",
     "text": [
      "Enter a choice(rock, paper, scissors):rock\n",
      "user: rock, computer: rock\n",
      "Tie! Both selected rock\n"
     ]
    }
   ],
   "source": [
    "#All code together\n",
    "user_input= input(\"Enter a choice(rock, paper, scissors):\")\n",
    "options=[\"rock\",\"paper\",\"scissors\"]\n",
    "computer=random.choice(options)\n",
    "\n",
    "print(f'user: {user_input}, computer: {computer}')\n",
    "\n",
    "if user_input == computer:\n",
    "    print(f'Tie! Both selected {user_input}')\n",
    "elif user_input == 'rock':\n",
    "    if computer == 'scissors':\n",
    "          print(\"rock beats scissors! User win!\")\n",
    "    else:\n",
    "          print(\"paper cover rock! You lose :(\")\n",
    "elif user_input ==\"paper\":\n",
    "    if computer == 'rock':\n",
    "          print('paper covers rock! You win!')\n",
    "    else:\n",
    "          print('scissors cuts paper! You lose :(')\n",
    "elif user_input == \"scissors\":\n",
    "    if computer =='paper':\n",
    "          print('scissors cuts paper! You win!')\n",
    "    else:\n",
    "        print('rock beats scissors! You lose :(')"
   ]
  },
  {
   "cell_type": "markdown",
   "id": "4a0dc9fe",
   "metadata": {},
   "source": [
    "### Play more than one round"
   ]
  },
  {
   "cell_type": "code",
   "execution_count": 70,
   "id": "498feb89",
   "metadata": {},
   "outputs": [
    {
     "name": "stdout",
     "output_type": "stream",
     "text": [
      "Enter a choice(rock, paper, scissors):rock\n",
      "user: rock, computer: paper\n",
      "paper cover rock! You lose :(\n",
      "Another round? (y/n):y\n",
      "Enter a choice(rock, paper, scissors):paper\n",
      "user: paper, computer: rock\n",
      "paper covers rock! You win!\n",
      "Another round? (y/n):n\n"
     ]
    }
   ],
   "source": [
    "while True:\n",
    "\n",
    "    user_input= input(\"Enter a choice(rock, paper, scissors):\")\n",
    "    options=[\"rock\",\"paper\",\"scissors\"]\n",
    "    computer=random.choice(options)\n",
    "\n",
    "    print(f'user: {user_input}, computer: {computer}')\n",
    "\n",
    "    if user_input == computer:\n",
    "        print(f'Tie! Both selected {user_input}')\n",
    "    elif user_input == 'rock':\n",
    "        if computer == 'scissors':\n",
    "              print(\"rock beats scissors! User win!\")\n",
    "        else:\n",
    "              print(\"paper cover rock! You lose :(\")\n",
    "    elif user_input ==\"paper\":\n",
    "        if computer == 'rock':\n",
    "              print('paper covers rock! You win!')\n",
    "        else:\n",
    "              print('scissors cuts paper! You lose :(')\n",
    "    elif user_input == \"scissors\":\n",
    "        if computer =='paper':\n",
    "              print('scissors cuts paper! You win!')\n",
    "        else:\n",
    "            print('rock beats scissors! You lose :(')\n",
    "    next_round=input(\"Another round? (y/n):\")\n",
    "    if next_round.lower() != \"y\":\n",
    "        break"
   ]
  },
  {
   "cell_type": "markdown",
   "id": "60f00a80",
   "metadata": {},
   "source": [
    "## Using function"
   ]
  },
  {
   "cell_type": "code",
   "execution_count": 8,
   "id": "c32920bc",
   "metadata": {},
   "outputs": [],
   "source": [
    "# Defining a dictionary with which item loses to another\n",
    "\n",
    "loses_to = {\"rock\":\"scissors\",\"paper\":\"rock\",\"scissors\":\"paper\"}"
   ]
  },
  {
   "cell_type": "code",
   "execution_count": 9,
   "id": "66cc90df",
   "metadata": {},
   "outputs": [
    {
     "data": {
      "text/plain": [
       "'rock'"
      ]
     },
     "execution_count": 9,
     "metadata": {},
     "output_type": "execute_result"
    }
   ],
   "source": [
    "loses_to[\"paper\"]"
   ]
  },
  {
   "cell_type": "code",
   "execution_count": 10,
   "id": "2db9f8c3",
   "metadata": {},
   "outputs": [],
   "source": [
    "def play(player1,player2):\n",
    "    if player2==loses_to[player1]:\n",
    "        return f'{player1} beats {player2}! player1 wins'\n",
    "    if player1==loses_to[player2]:\n",
    "        return f'{player2} beats {player1}! player2 wins'\n",
    "    if player1==player2:\n",
    "        return \"It's a tie!\""
   ]
  },
  {
   "cell_type": "code",
   "execution_count": 11,
   "id": "aa557d3e",
   "metadata": {},
   "outputs": [
    {
     "data": {
      "text/plain": [
       "'paper beats rock! player2 wins'"
      ]
     },
     "execution_count": 11,
     "metadata": {},
     "output_type": "execute_result"
    }
   ],
   "source": [
    "play(\"rock\",\"paper\")"
   ]
  },
  {
   "cell_type": "code",
   "execution_count": 12,
   "id": "5486681a",
   "metadata": {},
   "outputs": [
    {
     "name": "stdout",
     "output_type": "stream",
     "text": [
      "Enter a choice for player 1 (rock, paper, scissors):rock\n",
      "Enter a choice for player 2 (rock, paper, scissors):paper\n"
     ]
    }
   ],
   "source": [
    "player1 = input(\"Enter a choice for player 1 (rock, paper, scissors):\")\n",
    "player2 = input(\"Enter a choice for player 2 (rock, paper, scissors):\")\n"
   ]
  },
  {
   "cell_type": "code",
   "execution_count": 13,
   "id": "c33108b4",
   "metadata": {},
   "outputs": [
    {
     "data": {
      "text/plain": [
       "'paper beats rock! player2 wins'"
      ]
     },
     "execution_count": 13,
     "metadata": {},
     "output_type": "execute_result"
    }
   ],
   "source": [
    "play(player1,player2)"
   ]
  },
  {
   "cell_type": "markdown",
   "id": "04c8f4ea",
   "metadata": {},
   "source": [
    "### Improved function"
   ]
  },
  {
   "cell_type": "code",
   "execution_count": 14,
   "id": "ddf49739",
   "metadata": {},
   "outputs": [],
   "source": [
    "#Remove the final 'if' block \n",
    "\n",
    "def play2(player1,player2):\n",
    "    if player2==loses_to[player1]:\n",
    "        return f'{player1} beats {player2}! player1 wins'\n",
    "    if player1==loses_to[player2]:\n",
    "        return f'{player2} beats {player1}! player2 wins'\n",
    "    return \"It's a tie!\""
   ]
  },
  {
   "cell_type": "code",
   "execution_count": 15,
   "id": "4f2e2d00",
   "metadata": {},
   "outputs": [
    {
     "data": {
      "text/plain": [
       "'paper beats rock! player2 wins'"
      ]
     },
     "execution_count": 15,
     "metadata": {},
     "output_type": "execute_result"
    }
   ],
   "source": [
    "play2(player1,player2)"
   ]
  },
  {
   "cell_type": "markdown",
   "id": "77f03b09",
   "metadata": {},
   "source": [
    "## Function #2"
   ]
  },
  {
   "cell_type": "code",
   "execution_count": 1,
   "id": "a83bc4b2",
   "metadata": {},
   "outputs": [
    {
     "name": "stdout",
     "output_type": "stream",
     "text": [
      "0 0\n",
      "Rounds to play: 3\n",
      "Please input your choice of rock, paper or scissors by entering the correspondin string.rock\n",
      "CPU\n",
      "Rounds to play: 2\n",
      "Please input your choice of rock, paper or scissors by entering the correspondin string.rock\n",
      "CPU\n",
      "Rounds to play: 1\n",
      "Please input your choice of rock, paper or scissors by entering the correspondin string.rock\n",
      "TIE\n",
      "TIE - repeat!\n",
      "Rounds to play: 1\n",
      "Please input your choice of rock, paper or scissors by entering the correspondin string.rock\n",
      "CPU\n",
      "Rounds to play: 0\n",
      "Please input your choice of rock, paper or scissors by entering the correspondin string.rock\n",
      "TIE\n",
      "TIE - repeat!\n",
      "Rounds to play: 0\n",
      "Please input your choice of rock, paper or scissors by entering the correspondin string.rock\n",
      "USER\n",
      "-1\n",
      "2.0\n",
      "USER wins the battle!\n"
     ]
    },
    {
     "data": {
      "text/plain": [
       "'USER'"
      ]
     },
     "execution_count": 1,
     "metadata": {},
     "output_type": "execute_result"
    }
   ],
   "source": [
    "rounds_to_win=3\n",
    "n_rounds = 3\n",
    "gestures = ['rock', 'paper', 'scissors']\n",
    "import random\n",
    "def compare(gestures):\n",
    "    done = False\n",
    "    while not done:\n",
    "        choice_user = input(\"Please input your choice of rock, paper or scissors by entering the correspondin string.\")\n",
    "        if choice_user in gestures:\n",
    "            done = True\n",
    "        else:\n",
    "            print(\"Incorrect input.\")\n",
    "            done = False\n",
    "    choice_cpu = random.choice(gestures)\n",
    "    if choice_cpu == choice_user:\n",
    "        #print(\"It's a TIE!\")\n",
    "        return \"TIE\"\n",
    "    elif choice_cpu == \"rock\" and choice_user == \"scissors\":\n",
    "        #print(\"Computer wins!\")\n",
    "        return \"CPU\"\n",
    "    elif choice_cpu == \"paper\" and choice_user == \"rock\":\n",
    "        #print(\"Computer wins!\")\n",
    "        return \"CPU\"\n",
    "    elif choice_cpu == \"scissors\" and choice_user == \"paper\":\n",
    "        #print(\"Computer wins!\")\n",
    "        return \"CPU\"\n",
    "    else:\n",
    "        #print(\"User wins!\")\n",
    "        return \"USER\"\n",
    "cpu_score = 0\n",
    "player_score = 0\n",
    "def rps_game(total_rounds_to_play, cpu_score, player_score):\n",
    "    #global cpu_score = 0\n",
    "    #global player_score = 0\n",
    "    #winner = \"\"\n",
    "    while total_rounds_to_play >= 0:\n",
    "        print(\"Rounds to play:\" ,total_rounds_to_play)\n",
    "        round_winner = compare(gestures)\n",
    "        print(round_winner)\n",
    "        if round_winner == \"USER\":\n",
    "            player_score += 1\n",
    "            total_rounds_to_play -= 1\n",
    "            print(total_rounds_to_play)\n",
    "            print(player_score)\n",
    "        elif round_winner == \"CPU\":\n",
    "            cpu_score += 1\n",
    "            total_rounds_to_play -= 1\n",
    "        else:\n",
    "            player_score += 0.5\n",
    "            cpu_score += 0.5\n",
    "            print(\"TIE - repeat!\")\n",
    "    if player_score >= rounds_to_win/2:\n",
    "        winner = \"USER\"\n",
    "        print(f\"{winner} wins the battle!\")\n",
    "    elif cpu_score >= rounds_to_win/2:\n",
    "        winner = \"CPU\"\n",
    "    return winner\n",
    "    print(f\"{winner} wins the battle!\")\n",
    "print(cpu_score, player_score)\n",
    "rps_game(n_rounds, cpu_score, player_score)"
   ]
  },
  {
   "cell_type": "code",
   "execution_count": 24,
   "id": "2dabd616",
   "metadata": {},
   "outputs": [],
   "source": [
    "def player_choice():\n",
    "    global x\n",
    "    gestures=[\"rock\",\"paper\",\"scissors\"]\n",
    "    \"\"\"ask player for input to play the game\"\"\"\n",
    "    x = input(\"Enter your gesture: \")\n",
    "    while x not in gestures:\n",
    "        print(\"You can only choose rock, paper or scissors.\")\n",
    "        x = input(\"Enter your gesture: \")\n",
    "    else:\n",
    "        return x"
   ]
  },
  {
   "cell_type": "code",
   "execution_count": 25,
   "id": "7dd6f4fc",
   "metadata": {
    "scrolled": true
   },
   "outputs": [
    {
     "name": "stdout",
     "output_type": "stream",
     "text": [
      "Enter your gesture: rock\n"
     ]
    },
    {
     "data": {
      "text/plain": [
       "'rock'"
      ]
     },
     "execution_count": 25,
     "metadata": {},
     "output_type": "execute_result"
    }
   ],
   "source": [
    "player_choice()"
   ]
  },
  {
   "cell_type": "code",
   "execution_count": 26,
   "id": "bb118ba6",
   "metadata": {},
   "outputs": [
    {
     "data": {
      "text/plain": [
       "'rock'"
      ]
     },
     "execution_count": 26,
     "metadata": {},
     "output_type": "execute_result"
    }
   ],
   "source": [
    "x"
   ]
  },
  {
   "cell_type": "raw",
   "id": "7ac32d95",
   "metadata": {},
   "source": [
    "savedchoice=player_choice()"
   ]
  },
  {
   "cell_type": "code",
   "execution_count": 19,
   "id": "3c40565f",
   "metadata": {},
   "outputs": [
    {
     "data": {
      "text/plain": [
       "False"
      ]
     },
     "execution_count": 19,
     "metadata": {},
     "output_type": "execute_result"
    }
   ],
   "source": [
    "player_choice== 'rock'"
   ]
  },
  {
   "cell_type": "code",
   "execution_count": 51,
   "id": "64465271",
   "metadata": {},
   "outputs": [
    {
     "data": {
      "text/plain": [
       "'rock'"
      ]
     },
     "execution_count": 51,
     "metadata": {},
     "output_type": "execute_result"
    }
   ],
   "source": [
    "savedchoice"
   ]
  },
  {
   "cell_type": "code",
   "execution_count": 1,
   "id": "2ac6d834",
   "metadata": {},
   "outputs": [],
   "source": [
    "def comp():\n",
    "    global computer\n",
    "    computer = input('For computer: rock, paper or scissors? ')\n",
    "    return computer"
   ]
  },
  {
   "cell_type": "code",
   "execution_count": 2,
   "id": "bf80d5ee",
   "metadata": {},
   "outputs": [],
   "source": [
    "def pl():\n",
    "    global player\n",
    "    player = input('Which gesture do you want to show: rock, paper or scissors? ')\n",
    "    return player"
   ]
  },
  {
   "cell_type": "code",
   "execution_count": 3,
   "id": "c8ebb33e",
   "metadata": {
    "scrolled": false
   },
   "outputs": [
    {
     "name": "stdout",
     "output_type": "stream",
     "text": [
      "Which gesture do you want to show: rock, paper or scissors? rock\n"
     ]
    },
    {
     "data": {
      "text/plain": [
       "'rock'"
      ]
     },
     "execution_count": 3,
     "metadata": {},
     "output_type": "execute_result"
    }
   ],
   "source": [
    "pl()"
   ]
  },
  {
   "cell_type": "code",
   "execution_count": 4,
   "id": "1fb503f3",
   "metadata": {
    "scrolled": true
   },
   "outputs": [
    {
     "name": "stdout",
     "output_type": "stream",
     "text": [
      "For computer: rock, paper or scissors? paper\n"
     ]
    },
    {
     "data": {
      "text/plain": [
       "'paper'"
      ]
     },
     "execution_count": 4,
     "metadata": {},
     "output_type": "execute_result"
    }
   ],
   "source": [
    "comp()"
   ]
  },
  {
   "cell_type": "code",
   "execution_count": 5,
   "id": "e5fe36a2",
   "metadata": {},
   "outputs": [
    {
     "data": {
      "text/plain": [
       "'paper'"
      ]
     },
     "execution_count": 5,
     "metadata": {},
     "output_type": "execute_result"
    }
   ],
   "source": [
    "computer"
   ]
  },
  {
   "cell_type": "code",
   "execution_count": 6,
   "id": "39b62b37",
   "metadata": {},
   "outputs": [],
   "source": [
    "def game():\n",
    "    if player == computer:\n",
    "        return (0, 'It is a tie') #It is a tie\n",
    "    elif player == 'rock':\n",
    "        if computer == 'scissors':\n",
    "            return (2, 'You won!') #Player wins\n",
    "        else:\n",
    "            return (1, 'Computer won!') #Computer wins\n",
    "    elif player == 'paper':\n",
    "        if computer == 'rock':\n",
    "            return (2, 'You won!') #Player wins\n",
    "        else:\n",
    "            return (1, 'Computer won!') #Computer wins\n",
    "    elif player == 'scissors':\n",
    "        if computer == 'paper':\n",
    "            return (2, 'You won!') #Player wins\n",
    "        else:\n",
    "            return (1, 'Computer won!') #Computer wins"
   ]
  },
  {
   "cell_type": "code",
   "execution_count": 7,
   "id": "1d32ab6e",
   "metadata": {},
   "outputs": [
    {
     "data": {
      "text/plain": [
       "(1, 'Computer won!')"
      ]
     },
     "execution_count": 7,
     "metadata": {},
     "output_type": "execute_result"
    }
   ],
   "source": [
    "game()"
   ]
  },
  {
   "cell_type": "markdown",
   "id": "e6875e17",
   "metadata": {},
   "source": [
    "## Lab"
   ]
  },
  {
   "cell_type": "code",
   "execution_count": 27,
   "id": "038fa53d",
   "metadata": {},
   "outputs": [],
   "source": [
    "import random"
   ]
  },
  {
   "cell_type": "code",
   "execution_count": 28,
   "id": "babd87c9",
   "metadata": {},
   "outputs": [],
   "source": [
    "gestures = [\"rock\",\"paper\",\"scissors\"]"
   ]
  },
  {
   "cell_type": "markdown",
   "id": "9ce8e35d",
   "metadata": {},
   "source": [
    "Create a variable called n_rounds to store the maximum number of rounds to play in a game."
   ]
  },
  {
   "cell_type": "code",
   "execution_count": 29,
   "id": "32027c5a",
   "metadata": {},
   "outputs": [],
   "source": [
    "n_rounds=3"
   ]
  },
  {
   "cell_type": "markdown",
   "id": "54b70c86",
   "metadata": {},
   "source": [
    "Create a variable called rounds_to_win to store the number of rounds that a player must win to win the game"
   ]
  },
  {
   "cell_type": "code",
   "execution_count": 30,
   "id": "6e27f1f8",
   "metadata": {},
   "outputs": [],
   "source": [
    "rounds_to_win=2"
   ]
  },
  {
   "cell_type": "markdown",
   "id": "e3529b1a",
   "metadata": {},
   "source": [
    "Create two variables to store the number of rounds that the computer and the player have won. Call these variables cpu_score and player_score."
   ]
  },
  {
   "cell_type": "code",
   "execution_count": null,
   "id": "0b3afd69",
   "metadata": {},
   "outputs": [],
   "source": []
  },
  {
   "cell_type": "code",
   "execution_count": null,
   "id": "d740d505",
   "metadata": {},
   "outputs": [],
   "source": []
  },
  {
   "cell_type": "code",
   "execution_count": 33,
   "id": "8b996705",
   "metadata": {},
   "outputs": [
    {
     "name": "stdout",
     "output_type": "stream",
     "text": [
      "How many games do you want to play:\n",
      "4\n",
      "Your turn:\n",
      "paper\n",
      "Game nº 1: M:lizard - H:paper. Accumulated results: ['machine']\n",
      "Your turn:\n"
     ]
    },
    {
     "ename": "KeyboardInterrupt",
     "evalue": "Interrupted by user",
     "output_type": "error",
     "traceback": [
      "\u001b[1;31m---------------------------------------------------------------------------\u001b[0m",
      "\u001b[1;31mKeyboardInterrupt\u001b[0m                         Traceback (most recent call last)",
      "\u001b[1;32m~\\AppData\\Local\\Temp/ipykernel_45144/1357675415.py\u001b[0m in \u001b[0;36m<module>\u001b[1;34m\u001b[0m\n\u001b[0;32m     86\u001b[0m     \u001b[1;32mreturn\u001b[0m \u001b[1;34m\"The game is finished, {winner} wins!\"\u001b[0m\u001b[1;33m.\u001b[0m\u001b[0mformat\u001b[0m\u001b[1;33m(\u001b[0m\u001b[0mwinner\u001b[0m \u001b[1;33m=\u001b[0m \u001b[0mwinner\u001b[0m\u001b[1;33m)\u001b[0m\u001b[1;33m\u001b[0m\u001b[1;33m\u001b[0m\u001b[0m\n\u001b[0;32m     87\u001b[0m \u001b[1;33m\u001b[0m\u001b[0m\n\u001b[1;32m---> 88\u001b[1;33m \u001b[0mprint\u001b[0m\u001b[1;33m(\u001b[0m\u001b[0mplay_complete_game\u001b[0m\u001b[1;33m(\u001b[0m\u001b[0moptions\u001b[0m\u001b[1;33m)\u001b[0m\u001b[1;33m)\u001b[0m\u001b[1;33m\u001b[0m\u001b[1;33m\u001b[0m\u001b[0m\n\u001b[0m",
      "\u001b[1;32m~\\AppData\\Local\\Temp/ipykernel_45144/1357675415.py\u001b[0m in \u001b[0;36mplay_complete_game\u001b[1;34m(options)\u001b[0m\n\u001b[0;32m     71\u001b[0m     \u001b[1;32mwhile\u001b[0m \u001b[0mnumber_games\u001b[0m \u001b[1;33m<\u001b[0m \u001b[0mmax_number_games_game\u001b[0m\u001b[1;33m:\u001b[0m\u001b[1;33m\u001b[0m\u001b[1;33m\u001b[0m\u001b[0m\n\u001b[0;32m     72\u001b[0m         \u001b[0mnumber_games\u001b[0m \u001b[1;33m+=\u001b[0m \u001b[1;36m1\u001b[0m\u001b[1;33m\u001b[0m\u001b[1;33m\u001b[0m\u001b[0m\n\u001b[1;32m---> 73\u001b[1;33m         \u001b[0mstart_combat\u001b[0m \u001b[1;33m=\u001b[0m \u001b[0mcombat\u001b[0m\u001b[1;33m(\u001b[0m\u001b[0moptions\u001b[0m\u001b[1;33m)\u001b[0m\u001b[1;33m\u001b[0m\u001b[1;33m\u001b[0m\u001b[0m\n\u001b[0m\u001b[0;32m     74\u001b[0m         \u001b[0mresults_list\u001b[0m\u001b[1;33m.\u001b[0m\u001b[0mappend\u001b[0m\u001b[1;33m(\u001b[0m\u001b[0mstart_combat\u001b[0m\u001b[1;33m[\u001b[0m\u001b[1;36m0\u001b[0m\u001b[1;33m]\u001b[0m\u001b[1;33m)\u001b[0m\u001b[1;33m\u001b[0m\u001b[1;33m\u001b[0m\u001b[0m\n\u001b[0;32m     75\u001b[0m         \u001b[0mprint\u001b[0m \u001b[1;33m(\u001b[0m\u001b[1;34m\"Game nº {number_games}: M:{choice_machine} - H:{choice_human}. Accumulated results: {acumulated_results}\"\u001b[0m\u001b[1;33m.\u001b[0m\u001b[0mformat\u001b[0m\u001b[1;33m(\u001b[0m\u001b[0mnumber_games\u001b[0m \u001b[1;33m=\u001b[0m \u001b[0mnumber_games\u001b[0m\u001b[1;33m,\u001b[0m \u001b[0mchoice_machine\u001b[0m \u001b[1;33m=\u001b[0m \u001b[0mstart_combat\u001b[0m\u001b[1;33m[\u001b[0m\u001b[1;36m1\u001b[0m\u001b[1;33m]\u001b[0m\u001b[1;33m,\u001b[0m \u001b[0mchoice_human\u001b[0m \u001b[1;33m=\u001b[0m \u001b[0mstart_combat\u001b[0m\u001b[1;33m[\u001b[0m\u001b[1;36m2\u001b[0m\u001b[1;33m]\u001b[0m\u001b[1;33m,\u001b[0m \u001b[0macumulated_results\u001b[0m \u001b[1;33m=\u001b[0m \u001b[0mresults_list\u001b[0m\u001b[1;33m)\u001b[0m\u001b[1;33m)\u001b[0m\u001b[1;33m\u001b[0m\u001b[1;33m\u001b[0m\u001b[0m\n",
      "\u001b[1;32m~\\AppData\\Local\\Temp/ipykernel_45144/1357675415.py\u001b[0m in \u001b[0;36mcombat\u001b[1;34m(options)\u001b[0m\n\u001b[0;32m     21\u001b[0m \u001b[1;32mdef\u001b[0m \u001b[0mcombat\u001b[0m\u001b[1;33m(\u001b[0m\u001b[0moptions\u001b[0m\u001b[1;33m)\u001b[0m\u001b[1;33m:\u001b[0m\u001b[1;33m\u001b[0m\u001b[1;33m\u001b[0m\u001b[0m\n\u001b[0;32m     22\u001b[0m     \u001b[0mmachine_choice\u001b[0m \u001b[1;33m=\u001b[0m \u001b[0mplay_game\u001b[0m\u001b[1;33m(\u001b[0m\u001b[0moptions\u001b[0m\u001b[1;33m)\u001b[0m\u001b[1;33m\u001b[0m\u001b[1;33m\u001b[0m\u001b[0m\n\u001b[1;32m---> 23\u001b[1;33m     \u001b[0mhuman_choice\u001b[0m \u001b[1;33m=\u001b[0m \u001b[0mask_for_choice\u001b[0m\u001b[1;33m(\u001b[0m\u001b[1;33m)\u001b[0m\u001b[1;33m\u001b[0m\u001b[1;33m\u001b[0m\u001b[0m\n\u001b[0m\u001b[0;32m     24\u001b[0m     \u001b[0mresult\u001b[0m \u001b[1;33m=\u001b[0m \u001b[1;34m\"tie\"\u001b[0m\u001b[1;33m\u001b[0m\u001b[1;33m\u001b[0m\u001b[0m\n\u001b[0;32m     25\u001b[0m     \u001b[1;32mif\u001b[0m \u001b[0mmachine_choice\u001b[0m \u001b[1;33m==\u001b[0m \u001b[0mhuman_choice\u001b[0m\u001b[1;33m:\u001b[0m\u001b[1;33m\u001b[0m\u001b[1;33m\u001b[0m\u001b[0m\n",
      "\u001b[1;32m~\\AppData\\Local\\Temp/ipykernel_45144/1357675415.py\u001b[0m in \u001b[0;36mask_for_choice\u001b[1;34m()\u001b[0m\n\u001b[0;32m     15\u001b[0m     \u001b[1;32mwhile\u001b[0m \u001b[0mchoice\u001b[0m \u001b[1;33m==\u001b[0m \u001b[1;34m\"\"\u001b[0m\u001b[1;33m:\u001b[0m\u001b[1;33m\u001b[0m\u001b[1;33m\u001b[0m\u001b[0m\n\u001b[0;32m     16\u001b[0m         \u001b[0mprint\u001b[0m \u001b[1;33m(\u001b[0m\u001b[1;34m\"Your turn:\"\u001b[0m\u001b[1;33m)\u001b[0m\u001b[1;33m\u001b[0m\u001b[1;33m\u001b[0m\u001b[0m\n\u001b[1;32m---> 17\u001b[1;33m         \u001b[0ma\u001b[0m \u001b[1;33m=\u001b[0m \u001b[0minput\u001b[0m\u001b[1;33m(\u001b[0m\u001b[1;33m)\u001b[0m\u001b[1;33m\u001b[0m\u001b[1;33m\u001b[0m\u001b[0m\n\u001b[0m\u001b[0;32m     18\u001b[0m         \u001b[1;32mif\u001b[0m \u001b[0ma\u001b[0m \u001b[1;32min\u001b[0m \u001b[0moptions\u001b[0m\u001b[1;33m:\u001b[0m\u001b[1;33m\u001b[0m\u001b[1;33m\u001b[0m\u001b[0m\n\u001b[0;32m     19\u001b[0m             \u001b[0mchoice\u001b[0m \u001b[1;33m=\u001b[0m \u001b[0ma\u001b[0m\u001b[1;33m\u001b[0m\u001b[1;33m\u001b[0m\u001b[0m\n",
      "\u001b[1;32m~\\anaconda3\\lib\\site-packages\\ipykernel\\kernelbase.py\u001b[0m in \u001b[0;36mraw_input\u001b[1;34m(self, prompt)\u001b[0m\n\u001b[0;32m   1004\u001b[0m                 \u001b[1;34m\"raw_input was called, but this frontend does not support input requests.\"\u001b[0m\u001b[1;33m\u001b[0m\u001b[1;33m\u001b[0m\u001b[0m\n\u001b[0;32m   1005\u001b[0m             )\n\u001b[1;32m-> 1006\u001b[1;33m         return self._input_request(\n\u001b[0m\u001b[0;32m   1007\u001b[0m             \u001b[0mstr\u001b[0m\u001b[1;33m(\u001b[0m\u001b[0mprompt\u001b[0m\u001b[1;33m)\u001b[0m\u001b[1;33m,\u001b[0m\u001b[1;33m\u001b[0m\u001b[1;33m\u001b[0m\u001b[0m\n\u001b[0;32m   1008\u001b[0m             \u001b[0mself\u001b[0m\u001b[1;33m.\u001b[0m\u001b[0m_parent_ident\u001b[0m\u001b[1;33m[\u001b[0m\u001b[1;34m\"shell\"\u001b[0m\u001b[1;33m]\u001b[0m\u001b[1;33m,\u001b[0m\u001b[1;33m\u001b[0m\u001b[1;33m\u001b[0m\u001b[0m\n",
      "\u001b[1;32m~\\anaconda3\\lib\\site-packages\\ipykernel\\kernelbase.py\u001b[0m in \u001b[0;36m_input_request\u001b[1;34m(self, prompt, ident, parent, password)\u001b[0m\n\u001b[0;32m   1049\u001b[0m             \u001b[1;32mexcept\u001b[0m \u001b[0mKeyboardInterrupt\u001b[0m\u001b[1;33m:\u001b[0m\u001b[1;33m\u001b[0m\u001b[1;33m\u001b[0m\u001b[0m\n\u001b[0;32m   1050\u001b[0m                 \u001b[1;31m# re-raise KeyboardInterrupt, to truncate traceback\u001b[0m\u001b[1;33m\u001b[0m\u001b[1;33m\u001b[0m\u001b[0m\n\u001b[1;32m-> 1051\u001b[1;33m                 \u001b[1;32mraise\u001b[0m \u001b[0mKeyboardInterrupt\u001b[0m\u001b[1;33m(\u001b[0m\u001b[1;34m\"Interrupted by user\"\u001b[0m\u001b[1;33m)\u001b[0m \u001b[1;32mfrom\u001b[0m \u001b[1;32mNone\u001b[0m\u001b[1;33m\u001b[0m\u001b[1;33m\u001b[0m\u001b[0m\n\u001b[0m\u001b[0;32m   1052\u001b[0m             \u001b[1;32mexcept\u001b[0m \u001b[0mException\u001b[0m\u001b[1;33m:\u001b[0m\u001b[1;33m\u001b[0m\u001b[1;33m\u001b[0m\u001b[0m\n\u001b[0;32m   1053\u001b[0m                 \u001b[0mself\u001b[0m\u001b[1;33m.\u001b[0m\u001b[0mlog\u001b[0m\u001b[1;33m.\u001b[0m\u001b[0mwarning\u001b[0m\u001b[1;33m(\u001b[0m\u001b[1;34m\"Invalid Message:\"\u001b[0m\u001b[1;33m,\u001b[0m \u001b[0mexc_info\u001b[0m\u001b[1;33m=\u001b[0m\u001b[1;32mTrue\u001b[0m\u001b[1;33m)\u001b[0m\u001b[1;33m\u001b[0m\u001b[1;33m\u001b[0m\u001b[0m\n",
      "\u001b[1;31mKeyboardInterrupt\u001b[0m: Interrupted by user"
     ]
    }
   ],
   "source": [
    "import random\n",
    "\n",
    "options = ['stone', 'paper', 'scissors', 'lizard', 'spock']\n",
    "\n",
    "max_games = 3\n",
    "\n",
    "must_win = 2\n",
    "\n",
    "def play_game(lst):\n",
    "    return random.choice(lst)\n",
    "\n",
    "\n",
    "def ask_for_choice():\n",
    "    choice = \"\"\n",
    "    while choice == \"\":\n",
    "        print (\"Your turn:\")\n",
    "        a = input()\n",
    "        if a in options:\n",
    "            choice = a\n",
    "    return choice\n",
    "def combat(options):\n",
    "    machine_choice = play_game(options)\n",
    "    human_choice = ask_for_choice()\n",
    "    result = \"tie\"\n",
    "    if machine_choice == human_choice:\n",
    "        result = \"tie\"\n",
    "    elif machine_choice == 'stone':\n",
    "        if human_choice == 'paper' or human_choice == 'spock':\n",
    "            result = \"human\"\n",
    "        else:\n",
    "            result = \"machine\"\n",
    "    elif machine_choice == 'paper':\n",
    "        if human_choice == 'scissors' or human_choice == 'lizard':\n",
    "            result = \"human\"\n",
    "        else:\n",
    "            result = \"machine\"\n",
    "    elif machine_choice == 'scissors':\n",
    "        if human_choice == 'stone' or human_choice == 'spock':\n",
    "            result = \"human\"\n",
    "        else:\n",
    "            result = \"machine\"\n",
    "    elif machine_choice == 'lizard':\n",
    "        if human_choice == 'stone' or human_choice == \"scissors\":\n",
    "            result = \"human\"\n",
    "        else:\n",
    "            result = \"machine\"\n",
    "    else:\n",
    "        if human_choice == \"lizard\" or human_choice == \"paper\":\n",
    "            result = \"human\"\n",
    "        else:\n",
    "            result = \"machine\"\n",
    "    return [result, machine_choice, human_choice]\n",
    "\n",
    "def ask_max_number_games():\n",
    "    max_number_games = 0\n",
    "    while max_number_games == 0:\n",
    "        print (\"How many games do you want to play:\")\n",
    "        a = input()\n",
    "        try:\n",
    "            max_number_games += int(a)\n",
    "        except ValueError:\n",
    "            pass\n",
    "    return max_number_games\n",
    "\n",
    "def play_complete_game(options):\n",
    "    max_number_games_game = ask_max_number_games()\n",
    "    number_games = 0\n",
    "    results_list = []\n",
    "    wins_human = 0\n",
    "    wins_machine = 0\n",
    "    while number_games < max_number_games_game:\n",
    "        number_games += 1\n",
    "        start_combat = combat(options)\n",
    "        results_list.append(start_combat[0])\n",
    "        print (\"Game nº {number_games}: M:{choice_machine} - H:{choice_human}. Accumulated results: {acumulated_results}\".format(number_games = number_games, choice_machine = start_combat[1], choice_human = start_combat[2], acumulated_results = results_list))\n",
    "        if start_combat[0] == \"machine\":\n",
    "            wins_machine += 1\n",
    "        elif start_combat[0] == \"human\":\n",
    "            wins_human += 1\n",
    "    if wins_human > wins_machine:\n",
    "        winner = \"human\"\n",
    "    elif wins_human == wins_machine:\n",
    "        winner = \"no one\"\n",
    "    else:\n",
    "        winner = \"machine\"\n",
    "    return \"The game is finished, {winner} wins!\".format(winner = winner)\n",
    "\n",
    "print(play_complete_game(options))"
   ]
  },
  {
   "cell_type": "code",
   "execution_count": 106,
   "id": "55e69aca",
   "metadata": {},
   "outputs": [
    {
     "name": "stdout",
     "output_type": "stream",
     "text": [
      "Add the number of rounds you want to play: 4\n",
      "Please insert an odd number5\n"
     ]
    },
    {
     "data": {
      "text/plain": [
       "'5'"
      ]
     },
     "execution_count": 106,
     "metadata": {},
     "output_type": "execute_result"
    }
   ],
   "source": [
    "def n_rounds():\n",
    "    number_round = input('Add the number of rounds you want to play: ' )\n",
    "    if int(number_round) % 2 == 0:\n",
    "        return input('Please insert an odd number')\n",
    "    if type(number_round) != int:\n",
    "        print('ok')\n",
    "    else:\n",
    "        return number_round\n",
    "n_rounds()"
   ]
  },
  {
   "cell_type": "code",
   "execution_count": 104,
   "id": "0b7e75f0",
   "metadata": {},
   "outputs": [
    {
     "name": "stdout",
     "output_type": "stream",
     "text": [
      "Add the number of rounds you want to play: 3\n",
      "ok\n"
     ]
    },
    {
     "data": {
      "text/plain": [
       "'3'"
      ]
     },
     "execution_count": 104,
     "metadata": {},
     "output_type": "execute_result"
    }
   ],
   "source": [
    "def n_rounds():\n",
    "    number_round = (input('Add the number of rounds you want to play: ' ))\n",
    "    while int(number_round) % 2 == 0:\n",
    "        number_round = input('Please insert an odd number')\n",
    "       \n",
    "    else:\n",
    "        if type(number_round) !=int:\n",
    "            print('ok') \n",
    "        return number_round\n",
    "n_rounds()"
   ]
  },
  {
   "cell_type": "code",
   "execution_count": 146,
   "id": "eb358e36",
   "metadata": {},
   "outputs": [],
   "source": [
    "cpu_score = 0\n",
    "player_score=0\n",
    "def game():\n",
    "    global player_score\n",
    "    global cpu_score\n",
    "\n",
    "    player=pl()\n",
    "    computer = comp()\n",
    "    if player == computer:\n",
    "        return (0) #'It is a tie'\n",
    "    elif player == 'rock':\n",
    "        if computer == 'scissors':\n",
    "            player_score= player_score + 1\n",
    "            return (2) #Player wins\n",
    "        else:\n",
    "            cpu_score=cpu_score+1\n",
    "            return (1) #Computer wins\n",
    "    elif player == 'paper':\n",
    "        if computer == 'rock':\n",
    "            player_score= player_score+1\n",
    "            return (2) #Player wins\n",
    "        else:\n",
    "            cpu_score=cpu_score+1\n",
    "            return (1) #Computer wins\n",
    "    elif player == 'scissors':\n",
    "        if computer == 'paper':\n",
    "            player_score= player_score+1\n",
    "            return (2) #Player wins\n",
    "        else:\n",
    "            cpu_score=cpu_score+1\n",
    "            return (1) #Computer wins"
   ]
  },
  {
   "cell_type": "code",
   "execution_count": 150,
   "id": "baf91592",
   "metadata": {},
   "outputs": [
    {
     "name": "stdout",
     "output_type": "stream",
     "text": [
      "Which gesture do you want to show: rock, paper or scissors? paper\n",
      "For computer: rock, paper or scissors? scissors\n"
     ]
    },
    {
     "data": {
      "text/plain": [
       "1"
      ]
     },
     "execution_count": 150,
     "metadata": {},
     "output_type": "execute_result"
    }
   ],
   "source": [
    "game()"
   ]
  },
  {
   "cell_type": "code",
   "execution_count": 151,
   "id": "bf0ec226",
   "metadata": {},
   "outputs": [
    {
     "data": {
      "text/plain": [
       "1"
      ]
     },
     "execution_count": 151,
     "metadata": {},
     "output_type": "execute_result"
    }
   ],
   "source": [
    "cpu_score"
   ]
  },
  {
   "cell_type": "code",
   "execution_count": 152,
   "id": "5bde08bc",
   "metadata": {},
   "outputs": [
    {
     "data": {
      "text/plain": [
       "1"
      ]
     },
     "execution_count": 152,
     "metadata": {},
     "output_type": "execute_result"
    }
   ],
   "source": [
    "player_score"
   ]
  },
  {
   "cell_type": "code",
   "execution_count": null,
   "id": "10f1f9bf",
   "metadata": {},
   "outputs": [],
   "source": []
  }
 ],
 "metadata": {
  "kernelspec": {
   "display_name": "Python 3 (ipykernel)",
   "language": "python",
   "name": "python3"
  },
  "language_info": {
   "codemirror_mode": {
    "name": "ipython",
    "version": 3
   },
   "file_extension": ".py",
   "mimetype": "text/x-python",
   "name": "python",
   "nbconvert_exporter": "python",
   "pygments_lexer": "ipython3",
   "version": "3.9.7"
  }
 },
 "nbformat": 4,
 "nbformat_minor": 5
}
