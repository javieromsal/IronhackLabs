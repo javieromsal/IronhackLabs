{
 "cells": [
  {
   "cell_type": "markdown",
   "id": "d0128eb3",
   "metadata": {},
   "source": [
    "# Rock Papper Scissors game"
   ]
  },
  {
   "cell_type": "code",
   "execution_count": 63,
   "id": "cd69ac7f",
   "metadata": {},
   "outputs": [],
   "source": [
    "import random"
   ]
  },
  {
   "cell_type": "code",
   "execution_count": 64,
   "id": "2d567759",
   "metadata": {},
   "outputs": [
    {
     "name": "stdout",
     "output_type": "stream",
     "text": [
      "Enter a choice(rock, paper, scissors):rock\n"
     ]
    }
   ],
   "source": [
    "# User input\n",
    "user_input= input(\"Enter a choice(rock, paper, scissors):\")"
   ]
  },
  {
   "cell_type": "code",
   "execution_count": 65,
   "id": "7dc4eab8",
   "metadata": {},
   "outputs": [
    {
     "data": {
      "text/plain": [
       "'rock'"
      ]
     },
     "execution_count": 65,
     "metadata": {},
     "output_type": "execute_result"
    }
   ],
   "source": [
    "user_input"
   ]
  },
  {
   "cell_type": "markdown",
   "id": "76829a5d",
   "metadata": {},
   "source": [
    "### Computer Choose"
   ]
  },
  {
   "cell_type": "code",
   "execution_count": 66,
   "id": "7fa030a7",
   "metadata": {},
   "outputs": [],
   "source": [
    "options=[\"rock\",\"paper\",\"scissors\"]\n",
    "computer=random.choice(options)"
   ]
  },
  {
   "cell_type": "code",
   "execution_count": 67,
   "id": "b98a9f4f",
   "metadata": {},
   "outputs": [
    {
     "name": "stdout",
     "output_type": "stream",
     "text": [
      "user: rock, computer: paper\n"
     ]
    }
   ],
   "source": [
    "print(f'user: {user_input}, computer: {computer}')"
   ]
  },
  {
   "cell_type": "code",
   "execution_count": 68,
   "id": "753e3187",
   "metadata": {},
   "outputs": [
    {
     "name": "stdout",
     "output_type": "stream",
     "text": [
      "paper cover rock! You lose :(\n"
     ]
    }
   ],
   "source": [
    "if user_input == computer:\n",
    "    print(f'Tie! Both selected {user_input}')\n",
    "elif user_input == 'rock':\n",
    "    if computer == 'scissors':\n",
    "          print(\"rock beats scissors! User win!\")\n",
    "    else:\n",
    "          print(\"paper cover rock! You lose :(\")\n",
    "elif user_input ==\"paper\":\n",
    "    if computer == 'rock':\n",
    "          print('paper covers rock! You win!')\n",
    "    else:\n",
    "          print('scissors cuts paper! You lose :(')\n",
    "elif user_input == \"scissors\":\n",
    "    if computer =='paper':\n",
    "          print('scissors cuts paper! You win!')\n",
    "    else:\n",
    "        print('rock beats scissors! You lose :(')\n",
    "          \n",
    "          "
   ]
  },
  {
   "cell_type": "code",
   "execution_count": 69,
   "id": "e5bd6dc5",
   "metadata": {},
   "outputs": [
    {
     "name": "stdout",
     "output_type": "stream",
     "text": [
      "Enter a choice(rock, paper, scissors):rock\n",
      "user: rock, computer: rock\n",
      "Tie! Both selected rock\n"
     ]
    }
   ],
   "source": [
    "#All code together\n",
    "user_input= input(\"Enter a choice(rock, paper, scissors):\")\n",
    "options=[\"rock\",\"paper\",\"scissors\"]\n",
    "computer=random.choice(options)\n",
    "\n",
    "print(f'user: {user_input}, computer: {computer}')\n",
    "\n",
    "if user_input == computer:\n",
    "    print(f'Tie! Both selected {user_input}')\n",
    "elif user_input == 'rock':\n",
    "    if computer == 'scissors':\n",
    "          print(\"rock beats scissors! User win!\")\n",
    "    else:\n",
    "          print(\"paper cover rock! You lose :(\")\n",
    "elif user_input ==\"paper\":\n",
    "    if computer == 'rock':\n",
    "          print('paper covers rock! You win!')\n",
    "    else:\n",
    "          print('scissors cuts paper! You lose :(')\n",
    "elif user_input == \"scissors\":\n",
    "    if computer =='paper':\n",
    "          print('scissors cuts paper! You win!')\n",
    "    else:\n",
    "        print('rock beats scissors! You lose :(')"
   ]
  },
  {
   "cell_type": "markdown",
   "id": "4a0dc9fe",
   "metadata": {},
   "source": [
    "### Play more than one round"
   ]
  },
  {
   "cell_type": "code",
   "execution_count": 70,
   "id": "498feb89",
   "metadata": {},
   "outputs": [
    {
     "name": "stdout",
     "output_type": "stream",
     "text": [
      "Enter a choice(rock, paper, scissors):rock\n",
      "user: rock, computer: paper\n",
      "paper cover rock! You lose :(\n",
      "Another round? (y/n):y\n",
      "Enter a choice(rock, paper, scissors):paper\n",
      "user: paper, computer: rock\n",
      "paper covers rock! You win!\n",
      "Another round? (y/n):n\n"
     ]
    }
   ],
   "source": [
    "while True:\n",
    "\n",
    "    user_input= input(\"Enter a choice(rock, paper, scissors):\")\n",
    "    options=[\"rock\",\"paper\",\"scissors\"]\n",
    "    computer=random.choice(options)\n",
    "\n",
    "    print(f'user: {user_input}, computer: {computer}')\n",
    "\n",
    "    if user_input == computer:\n",
    "        print(f'Tie! Both selected {user_input}')\n",
    "    elif user_input == 'rock':\n",
    "        if computer == 'scissors':\n",
    "              print(\"rock beats scissors! User win!\")\n",
    "        else:\n",
    "              print(\"paper cover rock! You lose :(\")\n",
    "    elif user_input ==\"paper\":\n",
    "        if computer == 'rock':\n",
    "              print('paper covers rock! You win!')\n",
    "        else:\n",
    "              print('scissors cuts paper! You lose :(')\n",
    "    elif user_input == \"scissors\":\n",
    "        if computer =='paper':\n",
    "              print('scissors cuts paper! You win!')\n",
    "        else:\n",
    "            print('rock beats scissors! You lose :(')\n",
    "    next_round=input(\"Another round? (y/n):\")\n",
    "    if next_round.lower() != \"y\":\n",
    "        break"
   ]
  },
  {
   "cell_type": "markdown",
   "id": "60f00a80",
   "metadata": {},
   "source": [
    "## Using function"
   ]
  },
  {
   "cell_type": "code",
   "execution_count": 14,
   "id": "c32920bc",
   "metadata": {},
   "outputs": [],
   "source": [
    "# Defining a dictionary with which item loses to another\n",
    "\n",
    "loses_to = {\"rock\":\"scissors\",\"paper\":\"rock\",\"scissors\":\"paper\"}"
   ]
  },
  {
   "cell_type": "code",
   "execution_count": 16,
   "id": "66cc90df",
   "metadata": {},
   "outputs": [
    {
     "data": {
      "text/plain": [
       "'rock'"
      ]
     },
     "execution_count": 16,
     "metadata": {},
     "output_type": "execute_result"
    }
   ],
   "source": [
    "loses_to[\"paper\"]"
   ]
  },
  {
   "cell_type": "code",
   "execution_count": 17,
   "id": "2db9f8c3",
   "metadata": {},
   "outputs": [],
   "source": [
    "def play(player1,player2):\n",
    "    if player2==loses_to[player1]:\n",
    "        return f'{player1} beats {player2}! player1 wins'\n",
    "    if player1==loses_to[player2]:\n",
    "        return f'{player2} beats {player1}! player2 wins'\n",
    "    if player1==player2:\n",
    "        return \"It's a tie!\""
   ]
  },
  {
   "cell_type": "code",
   "execution_count": 19,
   "id": "aa557d3e",
   "metadata": {},
   "outputs": [
    {
     "data": {
      "text/plain": [
       "'paper beats rock! player2 wins'"
      ]
     },
     "execution_count": 19,
     "metadata": {},
     "output_type": "execute_result"
    }
   ],
   "source": [
    "play(\"rock\",\"paper\")"
   ]
  },
  {
   "cell_type": "code",
   "execution_count": 28,
   "id": "5486681a",
   "metadata": {},
   "outputs": [
    {
     "name": "stdout",
     "output_type": "stream",
     "text": [
      "Enter a choice for player 1 (rock, paper, scissors):rock\n",
      "Enter a choice for player 2 (rock, paper, scissors):rock\n"
     ]
    }
   ],
   "source": [
    "player1 = input(\"Enter a choice for player 1 (rock, paper, scissors):\")\n",
    "player2 = input(\"Enter a choice for player 2 (rock, paper, scissors):\")\n"
   ]
  },
  {
   "cell_type": "code",
   "execution_count": 29,
   "id": "c33108b4",
   "metadata": {},
   "outputs": [
    {
     "data": {
      "text/plain": [
       "\"It's a tie!\""
      ]
     },
     "execution_count": 29,
     "metadata": {},
     "output_type": "execute_result"
    }
   ],
   "source": [
    "play(player1,player2)"
   ]
  },
  {
   "cell_type": "markdown",
   "id": "04c8f4ea",
   "metadata": {},
   "source": [
    "### Improved function"
   ]
  },
  {
   "cell_type": "code",
   "execution_count": 27,
   "id": "ddf49739",
   "metadata": {},
   "outputs": [],
   "source": [
    "#Remove the final 'if' block \n",
    "\n",
    "def play2(player1,player2):\n",
    "    if player2==loses_to[player1]:\n",
    "        return f'{player1} beats {player2}! player1 wins'\n",
    "    if player1==loses_to[player2]:\n",
    "        return f'{player2} beats {player1}! player2 wins'\n",
    "    return \"It's a tie!\""
   ]
  },
  {
   "cell_type": "code",
   "execution_count": 30,
   "id": "4f2e2d00",
   "metadata": {},
   "outputs": [
    {
     "data": {
      "text/plain": [
       "\"It's a tie!\""
      ]
     },
     "execution_count": 30,
     "metadata": {},
     "output_type": "execute_result"
    }
   ],
   "source": [
    "play2(player1,player2)"
   ]
  },
  {
   "cell_type": "markdown",
   "id": "77f03b09",
   "metadata": {},
   "source": [
    "## Function #2"
   ]
  },
  {
   "cell_type": "code",
   "execution_count": 1,
   "id": "a83bc4b2",
   "metadata": {},
   "outputs": [
    {
     "name": "stdout",
     "output_type": "stream",
     "text": [
      "0 0\n",
      "Rounds to play: 3\n",
      "Please input your choice of rock, paper or scissors by entering the correspondin string.rock\n",
      "CPU\n",
      "Rounds to play: 2\n",
      "Please input your choice of rock, paper or scissors by entering the correspondin string.rock\n",
      "CPU\n",
      "Rounds to play: 1\n",
      "Please input your choice of rock, paper or scissors by entering the correspondin string.rock\n",
      "TIE\n",
      "TIE - repeat!\n",
      "Rounds to play: 1\n",
      "Please input your choice of rock, paper or scissors by entering the correspondin string.rock\n",
      "CPU\n",
      "Rounds to play: 0\n",
      "Please input your choice of rock, paper or scissors by entering the correspondin string.rock\n",
      "TIE\n",
      "TIE - repeat!\n",
      "Rounds to play: 0\n",
      "Please input your choice of rock, paper or scissors by entering the correspondin string.rock\n",
      "USER\n",
      "-1\n",
      "2.0\n",
      "USER wins the battle!\n"
     ]
    },
    {
     "data": {
      "text/plain": [
       "'USER'"
      ]
     },
     "execution_count": 1,
     "metadata": {},
     "output_type": "execute_result"
    }
   ],
   "source": [
    "rounds_to_win=3\n",
    "n_rounds = 3\n",
    "gestures = ['rock', 'paper', 'scissors']\n",
    "import random\n",
    "def compare(gestures):\n",
    "    done = False\n",
    "    while not done:\n",
    "        choice_user = input(\"Please input your choice of rock, paper or scissors by entering the correspondin string.\")\n",
    "        if choice_user in gestures:\n",
    "            done = True\n",
    "        else:\n",
    "            print(\"Incorrect input.\")\n",
    "            done = False\n",
    "    choice_cpu = random.choice(gestures)\n",
    "    if choice_cpu == choice_user:\n",
    "        #print(\"It's a TIE!\")\n",
    "        return \"TIE\"\n",
    "    elif choice_cpu == \"rock\" and choice_user == \"scissors\":\n",
    "        #print(\"Computer wins!\")\n",
    "        return \"CPU\"\n",
    "    elif choice_cpu == \"paper\" and choice_user == \"rock\":\n",
    "        #print(\"Computer wins!\")\n",
    "        return \"CPU\"\n",
    "    elif choice_cpu == \"scissors\" and choice_user == \"paper\":\n",
    "        #print(\"Computer wins!\")\n",
    "        return \"CPU\"\n",
    "    else:\n",
    "        #print(\"User wins!\")\n",
    "        return \"USER\"\n",
    "cpu_score = 0\n",
    "player_score = 0\n",
    "def rps_game(total_rounds_to_play, cpu_score, player_score):\n",
    "    #global cpu_score = 0\n",
    "    #global player_score = 0\n",
    "    #winner = \"\"\n",
    "    while total_rounds_to_play >= 0:\n",
    "        print(\"Rounds to play:\" ,total_rounds_to_play)\n",
    "        round_winner = compare(gestures)\n",
    "        print(round_winner)\n",
    "        if round_winner == \"USER\":\n",
    "            player_score += 1\n",
    "            total_rounds_to_play -= 1\n",
    "            print(total_rounds_to_play)\n",
    "            print(player_score)\n",
    "        elif round_winner == \"CPU\":\n",
    "            cpu_score += 1\n",
    "            total_rounds_to_play -= 1\n",
    "        else:\n",
    "            player_score += 0.5\n",
    "            cpu_score += 0.5\n",
    "            print(\"TIE - repeat!\")\n",
    "    if player_score >= rounds_to_win/2:\n",
    "        winner = \"USER\"\n",
    "        print(f\"{winner} wins the battle!\")\n",
    "    elif cpu_score >= rounds_to_win/2:\n",
    "        winner = \"CPU\"\n",
    "    return winner\n",
    "    print(f\"{winner} wins the battle!\")\n",
    "print(cpu_score, player_score)\n",
    "rps_game(n_rounds, cpu_score, player_score)"
   ]
  },
  {
   "cell_type": "code",
   "execution_count": 2,
   "id": "2ff55722",
   "metadata": {},
   "outputs": [
    {
     "ename": "SyntaxError",
     "evalue": "invalid syntax (Temp/ipykernel_70392/323432427.py, line 2)",
     "output_type": "error",
     "traceback": [
      "\u001b[1;36m  File \u001b[1;32m\"C:\\Users\\javie\\AppData\\Local\\Temp/ipykernel_70392/323432427.py\"\u001b[1;36m, line \u001b[1;32m2\u001b[0m\n\u001b[1;33m    return [\"win\" if x> 0]\u001b[0m\n\u001b[1;37m                         ^\u001b[0m\n\u001b[1;31mSyntaxError\u001b[0m\u001b[1;31m:\u001b[0m invalid syntax\n"
     ]
    }
   ],
   "source": [
    "def play():\n",
    "    return [\"win\" if x> 0]"
   ]
  },
  {
   "cell_type": "code",
   "execution_count": 71,
   "id": "2dabd616",
   "metadata": {},
   "outputs": [],
   "source": [
    "def player_choice():\n",
    "    gestures=[\"rock\",\"paper\",\"scissors\"]\n",
    "    \"\"\"ask player for input to play the game\"\"\"\n",
    "    x = input(\"Enter your gesture: \")\n",
    "    while x not in gestures:\n",
    "        print(\"You can only choose rock, paper or scissors.\")\n",
    "        x = input(\"Enter your gesture: \")\n",
    "    else:\n",
    "        return x"
   ]
  },
  {
   "cell_type": "code",
   "execution_count": 72,
   "id": "b2c47156",
   "metadata": {},
   "outputs": [
    {
     "name": "stdout",
     "output_type": "stream",
     "text": [
      "Enter your gesture: h\\\n",
      "You can only choose rock, paper or scissors.\n",
      "Enter your gesture: g\n",
      "You can only choose rock, paper or scissors.\n",
      "Enter your gesture: g\n",
      "You can only choose rock, paper or scissors.\n",
      "Enter your gesture: rock\n"
     ]
    }
   ],
   "source": [
    "savedchoice=player_choice()"
   ]
  },
  {
   "cell_type": "code",
   "execution_count": 48,
   "id": "3c40565f",
   "metadata": {},
   "outputs": [
    {
     "data": {
      "text/plain": [
       "False"
      ]
     },
     "execution_count": 48,
     "metadata": {},
     "output_type": "execute_result"
    }
   ],
   "source": [
    "player_choice== 'rock'"
   ]
  },
  {
   "cell_type": "code",
   "execution_count": 51,
   "id": "64465271",
   "metadata": {},
   "outputs": [
    {
     "data": {
      "text/plain": [
       "'rock'"
      ]
     },
     "execution_count": 51,
     "metadata": {},
     "output_type": "execute_result"
    }
   ],
   "source": [
    "savedchoice"
   ]
  },
  {
   "cell_type": "code",
   "execution_count": null,
   "id": "39b62b37",
   "metadata": {},
   "outputs": [],
   "source": []
  }
 ],
 "metadata": {
  "kernelspec": {
   "display_name": "Python 3 (ipykernel)",
   "language": "python",
   "name": "python3"
  },
  "language_info": {
   "codemirror_mode": {
    "name": "ipython",
    "version": 3
   },
   "file_extension": ".py",
   "mimetype": "text/x-python",
   "name": "python",
   "nbconvert_exporter": "python",
   "pygments_lexer": "ipython3",
   "version": "3.9.7"
  }
 },
 "nbformat": 4,
 "nbformat_minor": 5
}
