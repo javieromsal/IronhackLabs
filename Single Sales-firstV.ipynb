{
 "cells": [
  {
   "cell_type": "markdown",
   "id": "e34ba4a7",
   "metadata": {},
   "source": [
    "## Convert JSON to CSV"
   ]
  },
  {
   "cell_type": "code",
   "execution_count": 251,
   "id": "e353253f",
   "metadata": {},
   "outputs": [],
   "source": [
    "import json\n",
    "import csv\n",
    "import pandas as pd"
   ]
  },
  {
   "cell_type": "code",
   "execution_count": 252,
   "id": "31054bd4",
   "metadata": {},
   "outputs": [],
   "source": [
    "import warnings\n",
    "warnings.filterwarnings(\"ignore\")"
   ]
  },
  {
   "cell_type": "code",
   "execution_count": 253,
   "id": "43da0eb2",
   "metadata": {},
   "outputs": [],
   "source": [
    "file=open('Claudia_profile_3.json') #Open json file"
   ]
  },
  {
   "cell_type": "code",
   "execution_count": 254,
   "id": "c33f7563",
   "metadata": {},
   "outputs": [],
   "source": [
    "data= json.load(file)"
   ]
  },
  {
   "cell_type": "code",
   "execution_count": 255,
   "id": "bccb39e7",
   "metadata": {},
   "outputs": [
    {
     "data": {
      "text/plain": [
       "dict"
      ]
     },
     "execution_count": 255,
     "metadata": {},
     "output_type": "execute_result"
    }
   ],
   "source": [
    "type(data[0])"
   ]
  },
  {
   "cell_type": "code",
   "execution_count": 256,
   "id": "0af9f18c",
   "metadata": {},
   "outputs": [
    {
     "data": {
      "text/plain": [
       "[{'general': {'imgUrl': 'https://media.licdn.com/dms/image/C4E03AQErX4cx0ygI6w/profile-displayphoto-shrink_800_800/0/1641921305737?e=1684972800&v=beta&t=ao3TdnXigFpgURg_2Ikw31tgVrEdJS0gEjS4vR_hgIo',\n",
       "   'fullName': 'Claudia Moron',\n",
       "   'headline': 'Head of eCommerce at Love Stories',\n",
       "   'location': 'Amsterdam, North Holland, Netherlands',\n",
       "   'profileUrl': 'https://www.linkedin.com/in/claudia-moron-32684191/',\n",
       "   'connections': '500+',\n",
       "   'connectionsCount': 1027,\n",
       "   'connectionDegree': '3rd',\n",
       "   'description': 'Management professional with 10+ years of experience in digital commerce. Deeply passionate to create meaningful digital experiences at the crossroad of creativity, technology and customer-centricity. Experienced in leading change, handling complex digital projects with international stakeholders and building high-performance multi-level teams.',\n",
       "   'subscribers': '1069',\n",
       "   'firstName': 'Claudia',\n",
       "   'lastName': 'Moron',\n",
       "   'userId': '327548046',\n",
       "   'backgroundUrl': 'https://media.licdn.com/dms/image/D4E16AQGgZlsZz9flzA/profile-displaybackgroundimage-shrink_350_1400/0/1673441740765?e=1684972800&v=beta&t=QhRvKVzIl73_G9LsG21hIqo8FQsJm8TG5TO26waTKYs',\n",
       "   'vmid': 'ACoAABOF_I4BaZwoyGnZwE_2lsdbAPG11XsFEoI',\n",
       "   'linkedinSalesNavigatorUrl': 'https://www.linkedin.com/sales/people/ACoAABOF_I4BaZwoyGnZwE_2lsdbAPG11XsFEoI,name',\n",
       "   'mutualConnectionsUrl': 'https://www.linkedin.com/search/results/people/?facetNetwork=%5B%22F%22%5D&facetConnectionOf=%5B%22ACoAABOF_I4BaZwoyGnZwE_2lsdbAPG11XsFEoI%22%5D&origin=MEMBER_PROFILE_CANNED_SEARCH&RESULT_TYPE=PEOPLE',\n",
       "   'connectionsUrl': 'https://www.linkedin.com/search/results/people/?facetConnectionOf=%5B%22ACoAABOF_I4BaZwoyGnZwE_2lsdbAPG11XsFEoI%22%5D&facetNetwork=%5B%22F%22%2C%22S%22%5D&origin=MEMBER_PROFILE_CANNED_SEARCH',\n",
       "   'company': 'Love Stories',\n",
       "   'school': 'London College of Fashion, University of the Arts London'},\n",
       "  'jobs': [{'companyUrl': 'https://www.linkedin.com/company/5095549/',\n",
       "    'companyName': 'Love Stories',\n",
       "    'logoUrl': 'https://media.licdn.com/dms/image/C4E0BAQH_z1xe9o_Z7w/company-logo_400_400/0/1524039923988?e=1687392000&v=beta&t=NtcbUGCSJBZ9wSRwGFFjmROO_dwFhOaY2CviH6yUdE8',\n",
       "    'jobTitle': 'Head of eCommerce',\n",
       "    'dateRange': 'Apr 2021 - Present Â· 2 yrs',\n",
       "    'description': \"End responsible for Love Stories' global eCommerce business, including P&L. Leading a multidisciplinary team and reporting directly to the board.\",\n",
       "    'location': 'Amsterdam, North Holland, Netherlands'},\n",
       "   {'companyUrl': 'https://www.linkedin.com/company/8274/',\n",
       "    'companyName': 'New Balance',\n",
       "    'logoUrl': 'https://media.licdn.com/dms/image/C4E0BAQFKAVM4PGSUgw/company-logo_400_400/0/1542121705133?e=1687392000&v=beta&t=mj3Umo9RyPk0i1qw4oOoequCKgy5CxlCZYT04z9QuNg',\n",
       "    'jobTitle': 'eCommerce Site Manager EMEA',\n",
       "    'dateRange': 'Oct 2018 - Mar 2021 Â· 2 yrs 6 mos',\n",
       "    'description': 'End responsible for the eCommerce operations, digital experience and strategic roadmap for New Balanceâ€™s 21 EMEA eCommerce sites. Reporting to the General Manager eCommerce and leading a team of 9 FTEs.\\n\\nAchievements:\\n- Successfully delivered a transition project for the business to move away from the external eCommerce operations vendor and successfully in-housed all eCommerce site operations. Project was delivered while maintaining fully operational in daily business and meeting targets.\\n- Co-responsibility for the opening of the Amsterdam-based EMEA DTC office, recruited and built a team of 9 FTEs in the areas of platform management, digital merchandising, content development, onsite optimization and technical support.\\n-Delivery and end-responsibility of a 3-year technical technical roadmap enabling future business expansion plans and commercial growth capabilities for the EMEA DTC business.\\n',\n",
       "    'location': 'Amsterdam, North Holland, Netherlands'},\n",
       "   {'companyUrl': 'https://www.linkedin.com/company/14140/',\n",
       "    'companyName': 'Under Armour',\n",
       "    'logoUrl': 'https://media.licdn.com/dms/image/C560BAQH7DvDneq6Elw/company-logo_400_400/0/1567007199546?e=1687392000&v=beta&t=B-rmk2pQVh8VtxIZxO--aanSskxZAmjeopNL0fhmqDw',\n",
       "    'jobTitle': 'Content & User Experience Manager, EMEA eCommerce',\n",
       "    'dateRange': 'Jul 2017 - Sep 2018 Â· 1 yr 3 mos',\n",
       "    'description': 'End responsible for the digital consumer journey of Under Armourâ€˜s European eCommerce sites. Reporting directly to the Head of eCommerce and leading a team of 5 FTEs\\n\\nAchievements:\\n- Redefined and optimized a team of 5 direct reports in the fields of digital content merchandising, campaign planning, onsite localisation, creative design and SEO.\\n- Defined and built a content and user experience strategy that improves digital merchandise campaign execution and ensures the successful delivery of Under Armourâ€™s onsite optimisation roadmap.\\n- Led the development of a strategic 3-year plan for the European eCommerce business in order to balance brand and DTC commerce objectives while further developing digital as a center of excellence for the company.',\n",
       "    'location': 'Amsterdam, North Holland, Netherlands'},\n",
       "   {'companyUrl': 'https://www.linkedin.com/company/53978/',\n",
       "    'companyName': 'C&A',\n",
       "    'logoUrl': 'https://media.licdn.com/dms/image/C4E0BAQF5XT08UG7Z2A/company-logo_400_400/0/1656657371422?e=1687392000&v=beta&t=UCvQxiOw3syCNhYNnYEgNIw5ZEIpg_ZReYql960rk7A',\n",
       "    'jobTitle': 'Product Manager eCommerce',\n",
       "    'dateRange': 'Jan 2014 - Jun 2017 Â· 3 yrs 6 mos',\n",
       "    'description': 'Co-responsible for the strategic and operational development of C&Aâ€™s European online shopsâ€™ customer experience. Reporting to the Unit Leader Customer User Experience. \\n\\nAchievements:\\n- Led the creative and technical strategy and implementation of C&Aâ€™s European eCommerce platform update in July 2016.\\n- Headed the development and delivery of a board-focused eCommerce future vision project, including a completely new user experience and visual design guideline that served as the foundation for the companyâ€™s recent major website relaunch project.\\n- Defined and delivered a data-driven customer experience operation focused on improving key KPIâ€™s of C&Aâ€™s European online shops.\\n- Delivered a content transition project of insourcing major content tasks including a CMS training and development in order to empower internal teams and reduce IT costs.\\n- Defined and delivered the operational approach and guidelines on translating C&Aâ€™s new customer proposition and brand identity across C&Aâ€™s European eCommerce operation and organization.\\n',\n",
       "    'location': 'DÃ¼sseldorf, North Rhine-Westphalia'},\n",
       "   {'companyUrl': 'https://www.linkedin.com/company/12719459/',\n",
       "    'companyName': 'JADES GmbH',\n",
       "    'jobTitle': 'Online Marketing Manager',\n",
       "    'dateRange': 'May 2010 - Dec 2013 Â· 3 yrs 8 mos',\n",
       "    'description': 'End responsible for the strategy and delivery of all marketing communications. Reporting to the eCommerce Director.\\n\\nAchievements:\\n- Redefined and implemented a new strategy and measurement approach for performance marketing (SEA, SEO, Affiliate) leading to increased conversion rate and return on investment across all channels.\\n- Steered the creative process and development of a new brand identity leading to the delivery of a full website redesign.',\n",
       "    'location': 'DÃ¼sseldorf, North Rhine-Westphalia'}],\n",
       "  'schools': [{'schoolUrl': 'https://www.linkedin.com/company/14685/',\n",
       "    'schoolName': 'London College of Fashion, University of the Arts London',\n",
       "    'logoUrl': 'https://media.licdn.com/dms/image/C4E0BAQHzv7FNIj5Uxw/company-logo_400_400/0/1675251196608?e=1687392000&v=beta&t=7sb3BhJ5iTXPTZeX58nNFXLsrTJ5qzgS7UqkIYG_Aeg',\n",
       "    'degree': 'Master of Arts (M.A.), Strategic Fashion Marketing',\n",
       "    'dateRange': '2009 - 2010',\n",
       "    'description': 'Focused on marketing and management issues in the fashion industry, with attention paid to: Fashion Business Strategy, Marketing Communications, International Marketing and Retail Strategies, Brand Marketing and Research.\\n\\nMaster Thesis: Corporate Social Responsibility in Marketing Communications â€“ A Customer-\\nCentric Perspective'},\n",
       "   {'schoolUrl': 'https://www.linkedin.com/company/13121/',\n",
       "    'schoolName': 'University of Hertfordshire',\n",
       "    'logoUrl': 'https://media.licdn.com/dms/image/C4E0BAQHeEkDNjV11Ug/company-logo_400_400/0/1677664005176?e=1687392000&v=beta&t=J7kR-WNoooIEv6-hUXcxzEs52nY2rRZOGIm7Dtw9Z6o',\n",
       "    'degree': 'Business Administration',\n",
       "    'dateRange': '2007 - 2008'},\n",
       "   {'schoolUrl': 'https://www.linkedin.com/company/141797/',\n",
       "    'schoolName': 'CBS International Business School',\n",
       "    'logoUrl': 'https://media.licdn.com/dms/image/C4D0BAQGDzZHHddSlFQ/company-logo_400_400/0/1580644583147?e=1687392000&v=beta&t=HWzJLC4UfNNSrN87az0YoVWmzxBpBBfnH2Yq_Kc-JX4',\n",
       "    'degree': 'Bachelor of Arts (B.A.), International Business',\n",
       "    'dateRange': '2005 - 2008'}],\n",
       "  'details': {'linkedinProfile': 'https://www.linkedin.com/in/claudia-moron-32684191',\n",
       "   'companyWebsite': 'http://www.lovestoriesintimates.com'},\n",
       "  'skills': [{'name': 'E-Commerce', 'endorsements': 15},\n",
       "   {'name': 'Online-Marketing', 'endorsements': 9},\n",
       "   {'name': 'Unternehmensstrategie', 'endorsements': 5},\n",
       "   {'name': 'E-commerce', 'endorsements': 4},\n",
       "   {'name': 'Digitales Marketing', 'endorsements': 2},\n",
       "   {'name': 'Einzelhandel', 'endorsements': 2},\n",
       "   {'name': 'Marketingstrategie', 'endorsements': 3},\n",
       "   {'name': 'Mode', 'endorsements': 5},\n",
       "   {'name': 'Onlinewerbung', 'endorsements': 2},\n",
       "   {'name': 'Marketingkommunikation', 'endorsements': 4},\n",
       "   {'name': 'Social Media Marketing', 'endorsements': 2},\n",
       "   {'name': 'Marketing', 'endorsements': 4},\n",
       "   {'name': 'Internationales Marketing', 'endorsements': 2},\n",
       "   {'name': 'Social Media', 'endorsements': 2},\n",
       "   {'name': 'Marketing Strategy', 'endorsements': 2},\n",
       "   {'name': 'Produktmanagement', 'endorsements': 3}],\n",
       "  'allSkills': 'E-Commerce, Online-Marketing, Unternehmensstrategie, E-commerce, Digitales Marketing, Einzelhandel, Marketingstrategie, Mode, Onlinewerbung, Marketingkommunikation, Social Media Marketing, Marketing, Internationales Marketing, Social Media, Marketing Strategy, Produktmanagement',\n",
       "  'interests': {'influencers': [{'url': 'https://www.linkedin.com/in/brenebrown',\n",
       "     'name': 'BrenÃ© Brown',\n",
       "     'count': 4050568},\n",
       "    {'url': 'https://www.linkedin.com/in/simonsinek',\n",
       "     'name': 'Simon Sinek',\n",
       "     'count': 6712555},\n",
       "    {'url': 'https://www.linkedin.com/in/tina-mueller',\n",
       "     'name': 'Tina Mueller',\n",
       "     'count': 227736}],\n",
       "   'companies': [{'url': 'https://www.linkedin.com/company/13121/',\n",
       "     'name': 'University of Hertfordshire',\n",
       "     'count': 171342},\n",
       "    {'url': 'https://www.linkedin.com/company/14684/',\n",
       "     'name': 'University of the Arts London',\n",
       "     'count': 202948},\n",
       "    {'url': 'https://www.linkedin.com/company/14685/',\n",
       "     'name': 'London College of Fashion, University of the Arts London',\n",
       "     'count': 83787},\n",
       "    {'url': 'https://www.linkedin.com/company/53978/',\n",
       "     'name': 'C&A',\n",
       "     'count': 336829},\n",
       "    {'url': 'https://www.linkedin.com/company/141797/',\n",
       "     'name': 'CBS International Business School',\n",
       "     'count': 13064},\n",
       "    {'url': 'https://www.linkedin.com/company/348309/',\n",
       "     'name': 'Emerce',\n",
       "     'count': 21614},\n",
       "    {'url': 'https://www.linkedin.com/company/825768/',\n",
       "     'name': 'Voyado',\n",
       "     'count': 6096},\n",
       "    {'url': 'https://www.linkedin.com/company/5095549/',\n",
       "     'name': 'Love Stories',\n",
       "     'count': 6896},\n",
       "    {'url': 'https://www.linkedin.com/company/6875213/',\n",
       "     'name': 'Datavision Deutschland GmbH',\n",
       "     'count': 1652},\n",
       "    {'url': 'https://www.linkedin.com/company/10776307/',\n",
       "     'name': 'Ask Phill',\n",
       "     'count': 3607},\n",
       "    {'url': 'https://www.linkedin.com/company/11808400/',\n",
       "     'name': 'Brandsom',\n",
       "     'count': 1041},\n",
       "    {'url': 'https://www.linkedin.com/company/18151323/',\n",
       "     'name': 'TEDxAmsterdamWomen',\n",
       "     'count': 5155},\n",
       "    {'url': 'https://www.linkedin.com/company/47264653/',\n",
       "     'name': 'Merlion Digital Commerce',\n",
       "     'count': 172},\n",
       "    {'url': 'https://www.linkedin.com/company/88909904/',\n",
       "     'name': 'SOULMATE Counseling',\n",
       "     'count': 71}],\n",
       "   'schools': [{'url': 'https://www.linkedin.com/school/141797/',\n",
       "     'name': 'CBS International Business School',\n",
       "     'count': 13064},\n",
       "    {'url': 'https://www.linkedin.com/school/13121/',\n",
       "     'name': 'University of Hertfordshire',\n",
       "     'count': 171342},\n",
       "    {'url': 'https://www.linkedin.com/school/14685/',\n",
       "     'name': 'London College of Fashion, University of the Arts London',\n",
       "     'count': 83787},\n",
       "    {'url': 'https://www.linkedin.com/school/14684/',\n",
       "     'name': 'University of the Arts London',\n",
       "     'count': 202948}]},\n",
       "  'accomplishments': {'languages': ['Deutsch: Native or bilingual proficiency',\n",
       "    'Englisch: Full professional proficiency',\n",
       "    'FranzÃ¶sisch: Elementary proficiency']},\n",
       "  'dropcontact': {'civility': 'Mrs',\n",
       "   'company': 'Love Stories',\n",
       "   'company_linkedin': 'www.linkedin.com/company/love-stories-',\n",
       "   'first_name': 'Claudia',\n",
       "   'full_name': 'Claudia Moron',\n",
       "   'job': 'Head of Ecommerce',\n",
       "   'last_name': 'Moron',\n",
       "   'linkedin': 'www.linkedin.com/in/claudia-moron-32684191',\n",
       "   'phone': '+33 1 89 19 59 88',\n",
       "   'website': 'www.lovestoriesintimates.com'},\n",
       "  'query': 'https://www.linkedin.com/in/claudia-moron-32684191/',\n",
       "  'timestamp': '2023-03-21T18:20:39.950Z'}]"
      ]
     },
     "execution_count": 256,
     "metadata": {},
     "output_type": "execute_result"
    }
   ],
   "source": [
    "data"
   ]
  },
  {
   "cell_type": "code",
   "execution_count": 259,
   "id": "ee09f824",
   "metadata": {},
   "outputs": [
    {
     "data": {
      "text/plain": [
       "dict"
      ]
     },
     "execution_count": 259,
     "metadata": {},
     "output_type": "execute_result"
    }
   ],
   "source": [
    "type(data[0])"
   ]
  },
  {
   "cell_type": "code",
   "execution_count": 257,
   "id": "7b9170e8",
   "metadata": {
    "scrolled": true
   },
   "outputs": [
    {
     "data": {
      "text/plain": [
       "dict_keys(['general', 'jobs', 'schools', 'details', 'skills', 'allSkills', 'interests', 'accomplishments', 'dropcontact', 'query', 'timestamp'])"
      ]
     },
     "execution_count": 257,
     "metadata": {},
     "output_type": "execute_result"
    }
   ],
   "source": [
    "data[0].keys()"
   ]
  },
  {
   "cell_type": "code",
   "execution_count": 210,
   "id": "8889b875",
   "metadata": {
    "scrolled": true
   },
   "outputs": [
    {
     "data": {
      "text/plain": [
       "[{'companyUrl': 'https://www.linkedin.com/company/5095549/',\n",
       "  'companyName': 'Love Stories',\n",
       "  'logoUrl': 'https://media.licdn.com/dms/image/C4E0BAQH_z1xe9o_Z7w/company-logo_400_400/0/1524039923988?e=1687392000&v=beta&t=NtcbUGCSJBZ9wSRwGFFjmROO_dwFhOaY2CviH6yUdE8',\n",
       "  'jobTitle': 'Head of eCommerce',\n",
       "  'dateRange': 'Apr 2021 - Present Â· 2 yrs',\n",
       "  'description': \"End responsible for Love Stories' global eCommerce business, including P&L. Leading a multidisciplinary team and reporting directly to the board.\",\n",
       "  'location': 'Amsterdam, North Holland, Netherlands'},\n",
       " {'companyUrl': 'https://www.linkedin.com/company/8274/',\n",
       "  'companyName': 'New Balance',\n",
       "  'logoUrl': 'https://media.licdn.com/dms/image/C4E0BAQFKAVM4PGSUgw/company-logo_400_400/0/1542121705133?e=1687392000&v=beta&t=mj3Umo9RyPk0i1qw4oOoequCKgy5CxlCZYT04z9QuNg',\n",
       "  'jobTitle': 'eCommerce Site Manager EMEA',\n",
       "  'dateRange': 'Oct 2018 - Mar 2021 Â· 2 yrs 6 mos',\n",
       "  'description': 'End responsible for the eCommerce operations, digital experience and strategic roadmap for New Balanceâ€™s 21 EMEA eCommerce sites. Reporting to the General Manager eCommerce and leading a team of 9 FTEs.\\n\\nAchievements:\\n- Successfully delivered a transition project for the business to move away from the external eCommerce operations vendor and successfully in-housed all eCommerce site operations. Project was delivered while maintaining fully operational in daily business and meeting targets.\\n- Co-responsibility for the opening of the Amsterdam-based EMEA DTC office, recruited and built a team of 9 FTEs in the areas of platform management, digital merchandising, content development, onsite optimization and technical support.\\n-Delivery and end-responsibility of a 3-year technical technical roadmap enabling future business expansion plans and commercial growth capabilities for the EMEA DTC business.\\n',\n",
       "  'location': 'Amsterdam, North Holland, Netherlands'},\n",
       " {'companyUrl': 'https://www.linkedin.com/company/14140/',\n",
       "  'companyName': 'Under Armour',\n",
       "  'logoUrl': 'https://media.licdn.com/dms/image/C560BAQH7DvDneq6Elw/company-logo_400_400/0/1567007199546?e=1687392000&v=beta&t=B-rmk2pQVh8VtxIZxO--aanSskxZAmjeopNL0fhmqDw',\n",
       "  'jobTitle': 'Content & User Experience Manager, EMEA eCommerce',\n",
       "  'dateRange': 'Jul 2017 - Sep 2018 Â· 1 yr 3 mos',\n",
       "  'description': 'End responsible for the digital consumer journey of Under Armourâ€˜s European eCommerce sites. Reporting directly to the Head of eCommerce and leading a team of 5 FTEs\\n\\nAchievements:\\n- Redefined and optimized a team of 5 direct reports in the fields of digital content merchandising, campaign planning, onsite localisation, creative design and SEO.\\n- Defined and built a content and user experience strategy that improves digital merchandise campaign execution and ensures the successful delivery of Under Armourâ€™s onsite optimisation roadmap.\\n- Led the development of a strategic 3-year plan for the European eCommerce business in order to balance brand and DTC commerce objectives while further developing digital as a center of excellence for the company.',\n",
       "  'location': 'Amsterdam, North Holland, Netherlands'}]"
      ]
     },
     "execution_count": 210,
     "metadata": {},
     "output_type": "execute_result"
    }
   ],
   "source": [
    "data[0]['jobs'][:3]"
   ]
  },
  {
   "cell_type": "code",
   "execution_count": 231,
   "id": "193c0362",
   "metadata": {
    "scrolled": true
   },
   "outputs": [
    {
     "data": {
      "text/plain": [
       "list"
      ]
     },
     "execution_count": 231,
     "metadata": {},
     "output_type": "execute_result"
    }
   ],
   "source": [
    "type(data[0]['accomplishments']['languages'])"
   ]
  },
  {
   "cell_type": "code",
   "execution_count": 71,
   "id": "7b7c5d5a",
   "metadata": {},
   "outputs": [
    {
     "data": {
      "text/plain": [
       "['Deutsch: Native or bilingual proficiency',\n",
       " 'Englisch: Full professional proficiency',\n",
       " 'FranzÃ¶sisch: Elementary proficiency']"
      ]
     },
     "execution_count": 71,
     "metadata": {},
     "output_type": "execute_result"
    }
   ],
   "source": [
    "data[0]['accomplishments']['languages']"
   ]
  },
  {
   "cell_type": "markdown",
   "id": "19a4ff27",
   "metadata": {},
   "source": [
    "## 'general' dataframe"
   ]
  },
  {
   "cell_type": "code",
   "execution_count": 72,
   "id": "6f0d4312",
   "metadata": {
    "scrolled": true
   },
   "outputs": [
    {
     "data": {
      "text/plain": [
       "{'imgUrl': 'https://media.licdn.com/dms/image/C4E03AQErX4cx0ygI6w/profile-displayphoto-shrink_800_800/0/1641921305737?e=1684972800&v=beta&t=ao3TdnXigFpgURg_2Ikw31tgVrEdJS0gEjS4vR_hgIo',\n",
       " 'fullName': 'Claudia Moron',\n",
       " 'headline': 'Head of eCommerce at Love Stories',\n",
       " 'location': 'Amsterdam, North Holland, Netherlands',\n",
       " 'profileUrl': 'https://www.linkedin.com/in/claudia-moron-32684191/',\n",
       " 'connections': '500+',\n",
       " 'connectionsCount': 1027,\n",
       " 'connectionDegree': '3rd',\n",
       " 'description': 'Management professional with 10+ years of experience in digital commerce. Deeply passionate to create meaningful digital experiences at the crossroad of creativity, technology and customer-centricity. Experienced in leading change, handling complex digital projects with international stakeholders and building high-performance multi-level teams.',\n",
       " 'subscribers': '1069',\n",
       " 'firstName': 'Claudia',\n",
       " 'lastName': 'Moron',\n",
       " 'userId': '327548046',\n",
       " 'backgroundUrl': 'https://media.licdn.com/dms/image/D4E16AQGgZlsZz9flzA/profile-displaybackgroundimage-shrink_350_1400/0/1673441740765?e=1684972800&v=beta&t=QhRvKVzIl73_G9LsG21hIqo8FQsJm8TG5TO26waTKYs',\n",
       " 'vmid': 'ACoAABOF_I4BaZwoyGnZwE_2lsdbAPG11XsFEoI',\n",
       " 'linkedinSalesNavigatorUrl': 'https://www.linkedin.com/sales/people/ACoAABOF_I4BaZwoyGnZwE_2lsdbAPG11XsFEoI,name',\n",
       " 'mutualConnectionsUrl': 'https://www.linkedin.com/search/results/people/?facetNetwork=%5B%22F%22%5D&facetConnectionOf=%5B%22ACoAABOF_I4BaZwoyGnZwE_2lsdbAPG11XsFEoI%22%5D&origin=MEMBER_PROFILE_CANNED_SEARCH&RESULT_TYPE=PEOPLE',\n",
       " 'connectionsUrl': 'https://www.linkedin.com/search/results/people/?facetConnectionOf=%5B%22ACoAABOF_I4BaZwoyGnZwE_2lsdbAPG11XsFEoI%22%5D&facetNetwork=%5B%22F%22%2C%22S%22%5D&origin=MEMBER_PROFILE_CANNED_SEARCH',\n",
       " 'company': 'Love Stories',\n",
       " 'school': 'London College of Fashion, University of the Arts London'}"
      ]
     },
     "execution_count": 72,
     "metadata": {},
     "output_type": "execute_result"
    }
   ],
   "source": [
    "general_dic = data[0]['general']\n",
    "general_dic"
   ]
  },
  {
   "cell_type": "code",
   "execution_count": 73,
   "id": "6752f525",
   "metadata": {},
   "outputs": [
    {
     "data": {
      "text/html": [
       "<div>\n",
       "<style scoped>\n",
       "    .dataframe tbody tr th:only-of-type {\n",
       "        vertical-align: middle;\n",
       "    }\n",
       "\n",
       "    .dataframe tbody tr th {\n",
       "        vertical-align: top;\n",
       "    }\n",
       "\n",
       "    .dataframe thead th {\n",
       "        text-align: right;\n",
       "    }\n",
       "</style>\n",
       "<table border=\"1\" class=\"dataframe\">\n",
       "  <thead>\n",
       "    <tr style=\"text-align: right;\">\n",
       "      <th></th>\n",
       "      <th>imgUrl</th>\n",
       "      <th>fullName</th>\n",
       "      <th>headline</th>\n",
       "      <th>location</th>\n",
       "      <th>profileUrl</th>\n",
       "      <th>connections</th>\n",
       "      <th>connectionsCount</th>\n",
       "      <th>connectionDegree</th>\n",
       "      <th>description</th>\n",
       "      <th>subscribers</th>\n",
       "      <th>firstName</th>\n",
       "      <th>lastName</th>\n",
       "      <th>userId</th>\n",
       "      <th>backgroundUrl</th>\n",
       "      <th>vmid</th>\n",
       "      <th>linkedinSalesNavigatorUrl</th>\n",
       "      <th>mutualConnectionsUrl</th>\n",
       "      <th>connectionsUrl</th>\n",
       "      <th>company</th>\n",
       "      <th>school</th>\n",
       "    </tr>\n",
       "  </thead>\n",
       "  <tbody>\n",
       "    <tr>\n",
       "      <th>0</th>\n",
       "      <td>https://media.licdn.com/dms/image/C4E03AQErX4c...</td>\n",
       "      <td>Claudia Moron</td>\n",
       "      <td>Head of eCommerce at Love Stories</td>\n",
       "      <td>Amsterdam, North Holland, Netherlands</td>\n",
       "      <td>https://www.linkedin.com/in/claudia-moron-3268...</td>\n",
       "      <td>500+</td>\n",
       "      <td>1027</td>\n",
       "      <td>3rd</td>\n",
       "      <td>Management professional with 10+ years of expe...</td>\n",
       "      <td>1069</td>\n",
       "      <td>Claudia</td>\n",
       "      <td>Moron</td>\n",
       "      <td>327548046</td>\n",
       "      <td>https://media.licdn.com/dms/image/D4E16AQGgZls...</td>\n",
       "      <td>ACoAABOF_I4BaZwoyGnZwE_2lsdbAPG11XsFEoI</td>\n",
       "      <td>https://www.linkedin.com/sales/people/ACoAABOF...</td>\n",
       "      <td>https://www.linkedin.com/search/results/people...</td>\n",
       "      <td>https://www.linkedin.com/search/results/people...</td>\n",
       "      <td>Love Stories</td>\n",
       "      <td>London College of Fashion, University of the A...</td>\n",
       "    </tr>\n",
       "  </tbody>\n",
       "</table>\n",
       "</div>"
      ],
      "text/plain": [
       "                                              imgUrl       fullName  \\\n",
       "0  https://media.licdn.com/dms/image/C4E03AQErX4c...  Claudia Moron   \n",
       "\n",
       "                            headline                               location  \\\n",
       "0  Head of eCommerce at Love Stories  Amsterdam, North Holland, Netherlands   \n",
       "\n",
       "                                          profileUrl connections  \\\n",
       "0  https://www.linkedin.com/in/claudia-moron-3268...        500+   \n",
       "\n",
       "   connectionsCount connectionDegree  \\\n",
       "0              1027              3rd   \n",
       "\n",
       "                                         description subscribers firstName  \\\n",
       "0  Management professional with 10+ years of expe...        1069   Claudia   \n",
       "\n",
       "  lastName     userId                                      backgroundUrl  \\\n",
       "0    Moron  327548046  https://media.licdn.com/dms/image/D4E16AQGgZls...   \n",
       "\n",
       "                                      vmid  \\\n",
       "0  ACoAABOF_I4BaZwoyGnZwE_2lsdbAPG11XsFEoI   \n",
       "\n",
       "                           linkedinSalesNavigatorUrl  \\\n",
       "0  https://www.linkedin.com/sales/people/ACoAABOF...   \n",
       "\n",
       "                                mutualConnectionsUrl  \\\n",
       "0  https://www.linkedin.com/search/results/people...   \n",
       "\n",
       "                                      connectionsUrl       company  \\\n",
       "0  https://www.linkedin.com/search/results/people...  Love Stories   \n",
       "\n",
       "                                              school  \n",
       "0  London College of Fashion, University of the A...  "
      ]
     },
     "execution_count": 73,
     "metadata": {},
     "output_type": "execute_result"
    }
   ],
   "source": [
    "general_df = pd.DataFrame.from_dict([general_dic], orient='columns')\n",
    "general_df"
   ]
  },
  {
   "cell_type": "code",
   "execution_count": 260,
   "id": "815bd0bb",
   "metadata": {},
   "outputs": [],
   "source": [
    "general_col = ['mutualConnectionsText','connectionDegree','connectionsCount','imgUrl','fullName','headline','location','description','birthday']"
   ]
  },
  {
   "cell_type": "code",
   "execution_count": 261,
   "id": "cdddc480",
   "metadata": {
    "scrolled": true
   },
   "outputs": [
    {
     "data": {
      "text/plain": [
       "['mutualConnectionsText',\n",
       " 'connectionDegree',\n",
       " 'connectionsCount',\n",
       " 'imgUrl',\n",
       " 'fullName',\n",
       " 'headline',\n",
       " 'location',\n",
       " 'description',\n",
       " 'birthday']"
      ]
     },
     "execution_count": 261,
     "metadata": {},
     "output_type": "execute_result"
    }
   ],
   "source": [
    "general_col"
   ]
  },
  {
   "cell_type": "code",
   "execution_count": 271,
   "id": "4163a15a",
   "metadata": {},
   "outputs": [
    {
     "data": {
      "text/html": [
       "<div>\n",
       "<style scoped>\n",
       "    .dataframe tbody tr th:only-of-type {\n",
       "        vertical-align: middle;\n",
       "    }\n",
       "\n",
       "    .dataframe tbody tr th {\n",
       "        vertical-align: top;\n",
       "    }\n",
       "\n",
       "    .dataframe thead th {\n",
       "        text-align: right;\n",
       "    }\n",
       "</style>\n",
       "<table border=\"1\" class=\"dataframe\">\n",
       "  <thead>\n",
       "    <tr style=\"text-align: right;\">\n",
       "      <th></th>\n",
       "      <th>description</th>\n",
       "      <th>headline</th>\n",
       "      <th>location</th>\n",
       "      <th>connectionsCount</th>\n",
       "      <th>connectionDegree</th>\n",
       "      <th>imgUrl</th>\n",
       "      <th>fullName</th>\n",
       "    </tr>\n",
       "  </thead>\n",
       "  <tbody>\n",
       "    <tr>\n",
       "      <th>0</th>\n",
       "      <td>Management professional with 10+ years of expe...</td>\n",
       "      <td>Head of eCommerce at Love Stories</td>\n",
       "      <td>Amsterdam, North Holland, Netherlands</td>\n",
       "      <td>1027</td>\n",
       "      <td>3rd</td>\n",
       "      <td>https://media.licdn.com/dms/image/C4E03AQErX4c...</td>\n",
       "      <td>Claudia Moron</td>\n",
       "    </tr>\n",
       "  </tbody>\n",
       "</table>\n",
       "</div>"
      ],
      "text/plain": [
       "                                         description  \\\n",
       "0  Management professional with 10+ years of expe...   \n",
       "\n",
       "                            headline                               location  \\\n",
       "0  Head of eCommerce at Love Stories  Amsterdam, North Holland, Netherlands   \n",
       "\n",
       "   connectionsCount connectionDegree  \\\n",
       "0              1027              3rd   \n",
       "\n",
       "                                              imgUrl       fullName  \n",
       "0  https://media.licdn.com/dms/image/C4E03AQErX4c...  Claudia Moron  "
      ]
     },
     "execution_count": 271,
     "metadata": {},
     "output_type": "execute_result"
    }
   ],
   "source": [
    "# List generator with common columns\n",
    "col_list = list(set(general_df.columns) & set(general_col))\n",
    "general_dataframe = general_df[col_list]\n",
    "general_dataframe"
   ]
  },
  {
   "cell_type": "code",
   "execution_count": 77,
   "id": "2460f1f3",
   "metadata": {
    "scrolled": true
   },
   "outputs": [
    {
     "data": {
      "text/html": [
       "<div>\n",
       "<style scoped>\n",
       "    .dataframe tbody tr th:only-of-type {\n",
       "        vertical-align: middle;\n",
       "    }\n",
       "\n",
       "    .dataframe tbody tr th {\n",
       "        vertical-align: top;\n",
       "    }\n",
       "\n",
       "    .dataframe thead th {\n",
       "        text-align: right;\n",
       "    }\n",
       "</style>\n",
       "<table border=\"1\" class=\"dataframe\">\n",
       "  <thead>\n",
       "    <tr style=\"text-align: right;\">\n",
       "      <th></th>\n",
       "      <th>0</th>\n",
       "    </tr>\n",
       "  </thead>\n",
       "  <tbody>\n",
       "    <tr>\n",
       "      <th>description</th>\n",
       "      <td>Management professional with 10+ years of expe...</td>\n",
       "    </tr>\n",
       "    <tr>\n",
       "      <th>headline</th>\n",
       "      <td>Head of eCommerce at Love Stories</td>\n",
       "    </tr>\n",
       "    <tr>\n",
       "      <th>location</th>\n",
       "      <td>Amsterdam, North Holland, Netherlands</td>\n",
       "    </tr>\n",
       "    <tr>\n",
       "      <th>connectionsCount</th>\n",
       "      <td>1027</td>\n",
       "    </tr>\n",
       "    <tr>\n",
       "      <th>connectionDegree</th>\n",
       "      <td>3rd</td>\n",
       "    </tr>\n",
       "    <tr>\n",
       "      <th>imgUrl</th>\n",
       "      <td>https://media.licdn.com/dms/image/C4E03AQErX4c...</td>\n",
       "    </tr>\n",
       "    <tr>\n",
       "      <th>fullName</th>\n",
       "      <td>Claudia Moron</td>\n",
       "    </tr>\n",
       "  </tbody>\n",
       "</table>\n",
       "</div>"
      ],
      "text/plain": [
       "                                                                  0\n",
       "description       Management professional with 10+ years of expe...\n",
       "headline                          Head of eCommerce at Love Stories\n",
       "location                      Amsterdam, North Holland, Netherlands\n",
       "connectionsCount                                               1027\n",
       "connectionDegree                                                3rd\n",
       "imgUrl            https://media.licdn.com/dms/image/C4E03AQErX4c...\n",
       "fullName                                              Claudia Moron"
      ]
     },
     "execution_count": 77,
     "metadata": {},
     "output_type": "execute_result"
    }
   ],
   "source": [
    "general_dataframe.T"
   ]
  },
  {
   "cell_type": "markdown",
   "id": "dbfee7de",
   "metadata": {},
   "source": [
    "## 'details' dataframe"
   ]
  },
  {
   "cell_type": "code",
   "execution_count": 78,
   "id": "713eb868",
   "metadata": {},
   "outputs": [
    {
     "data": {
      "text/plain": [
       "{'linkedinProfile': 'https://www.linkedin.com/in/claudia-moron-32684191',\n",
       " 'companyWebsite': 'http://www.lovestoriesintimates.com'}"
      ]
     },
     "execution_count": 78,
     "metadata": {},
     "output_type": "execute_result"
    }
   ],
   "source": [
    "details_dic = data[0]['details']\n",
    "details_dic"
   ]
  },
  {
   "cell_type": "code",
   "execution_count": 79,
   "id": "5b9ad4af",
   "metadata": {},
   "outputs": [
    {
     "data": {
      "text/html": [
       "<div>\n",
       "<style scoped>\n",
       "    .dataframe tbody tr th:only-of-type {\n",
       "        vertical-align: middle;\n",
       "    }\n",
       "\n",
       "    .dataframe tbody tr th {\n",
       "        vertical-align: top;\n",
       "    }\n",
       "\n",
       "    .dataframe thead th {\n",
       "        text-align: right;\n",
       "    }\n",
       "</style>\n",
       "<table border=\"1\" class=\"dataframe\">\n",
       "  <thead>\n",
       "    <tr style=\"text-align: right;\">\n",
       "      <th></th>\n",
       "      <th>linkedinProfile</th>\n",
       "      <th>companyWebsite</th>\n",
       "    </tr>\n",
       "  </thead>\n",
       "  <tbody>\n",
       "    <tr>\n",
       "      <th>0</th>\n",
       "      <td>https://www.linkedin.com/in/claudia-moron-3268...</td>\n",
       "      <td>http://www.lovestoriesintimates.com</td>\n",
       "    </tr>\n",
       "  </tbody>\n",
       "</table>\n",
       "</div>"
      ],
      "text/plain": [
       "                                     linkedinProfile  \\\n",
       "0  https://www.linkedin.com/in/claudia-moron-3268...   \n",
       "\n",
       "                        companyWebsite  \n",
       "0  http://www.lovestoriesintimates.com  "
      ]
     },
     "execution_count": 79,
     "metadata": {},
     "output_type": "execute_result"
    }
   ],
   "source": [
    "details_df = pd.DataFrame.from_dict([details_dic], orient='columns')\n",
    "details_df"
   ]
  },
  {
   "cell_type": "code",
   "execution_count": 80,
   "id": "c16eecc8",
   "metadata": {},
   "outputs": [
    {
     "data": {
      "text/plain": [
       "['birthday']"
      ]
     },
     "execution_count": 80,
     "metadata": {},
     "output_type": "execute_result"
    }
   ],
   "source": [
    "#columns needed from 'details df'\n",
    "details_col = ['birthday']\n",
    "details_col"
   ]
  },
  {
   "cell_type": "code",
   "execution_count": 263,
   "id": "8c55dde6",
   "metadata": {},
   "outputs": [
    {
     "data": {
      "text/html": [
       "<div>\n",
       "<style scoped>\n",
       "    .dataframe tbody tr th:only-of-type {\n",
       "        vertical-align: middle;\n",
       "    }\n",
       "\n",
       "    .dataframe tbody tr th {\n",
       "        vertical-align: top;\n",
       "    }\n",
       "\n",
       "    .dataframe thead th {\n",
       "        text-align: right;\n",
       "    }\n",
       "</style>\n",
       "<table border=\"1\" class=\"dataframe\">\n",
       "  <thead>\n",
       "    <tr style=\"text-align: right;\">\n",
       "      <th></th>\n",
       "    </tr>\n",
       "  </thead>\n",
       "  <tbody>\n",
       "    <tr>\n",
       "      <th>0</th>\n",
       "    </tr>\n",
       "  </tbody>\n",
       "</table>\n",
       "</div>"
      ],
      "text/plain": [
       "Empty DataFrame\n",
       "Columns: []\n",
       "Index: [0]"
      ]
     },
     "execution_count": 263,
     "metadata": {},
     "output_type": "execute_result"
    }
   ],
   "source": [
    "#common list of columns needed vs columns on df\n",
    "details_list = list(set(details_df.columns) & set(details_col))\n",
    "details_dataframe = details_df[details_list]\n",
    "details_dataframe"
   ]
  },
  {
   "cell_type": "markdown",
   "id": "40133244",
   "metadata": {},
   "source": [
    "## 'jobs' dataframe"
   ]
  },
  {
   "cell_type": "code",
   "execution_count": 166,
   "id": "bd4009a6",
   "metadata": {},
   "outputs": [
    {
     "data": {
      "text/plain": [
       "[{'companyUrl': 'https://www.linkedin.com/company/5095549/',\n",
       "  'companyName': 'Love Stories',\n",
       "  'logoUrl': 'https://media.licdn.com/dms/image/C4E0BAQH_z1xe9o_Z7w/company-logo_400_400/0/1524039923988?e=1687392000&v=beta&t=NtcbUGCSJBZ9wSRwGFFjmROO_dwFhOaY2CviH6yUdE8',\n",
       "  'jobTitle': 'Head of eCommerce',\n",
       "  'dateRange': 'Apr 2021 - Present Â· 2 yrs',\n",
       "  'description': \"End responsible for Love Stories' global eCommerce business, including P&L. Leading a multidisciplinary team and reporting directly to the board.\",\n",
       "  'location': 'Amsterdam, North Holland, Netherlands'},\n",
       " {'companyUrl': 'https://www.linkedin.com/company/8274/',\n",
       "  'companyName': 'New Balance',\n",
       "  'logoUrl': 'https://media.licdn.com/dms/image/C4E0BAQFKAVM4PGSUgw/company-logo_400_400/0/1542121705133?e=1687392000&v=beta&t=mj3Umo9RyPk0i1qw4oOoequCKgy5CxlCZYT04z9QuNg',\n",
       "  'jobTitle': 'eCommerce Site Manager EMEA',\n",
       "  'dateRange': 'Oct 2018 - Mar 2021 Â· 2 yrs 6 mos',\n",
       "  'description': 'End responsible for the eCommerce operations, digital experience and strategic roadmap for New Balanceâ€™s 21 EMEA eCommerce sites. Reporting to the General Manager eCommerce and leading a team of 9 FTEs.\\n\\nAchievements:\\n- Successfully delivered a transition project for the business to move away from the external eCommerce operations vendor and successfully in-housed all eCommerce site operations. Project was delivered while maintaining fully operational in daily business and meeting targets.\\n- Co-responsibility for the opening of the Amsterdam-based EMEA DTC office, recruited and built a team of 9 FTEs in the areas of platform management, digital merchandising, content development, onsite optimization and technical support.\\n-Delivery and end-responsibility of a 3-year technical technical roadmap enabling future business expansion plans and commercial growth capabilities for the EMEA DTC business.\\n',\n",
       "  'location': 'Amsterdam, North Holland, Netherlands'},\n",
       " {'companyUrl': 'https://www.linkedin.com/company/14140/',\n",
       "  'companyName': 'Under Armour',\n",
       "  'logoUrl': 'https://media.licdn.com/dms/image/C560BAQH7DvDneq6Elw/company-logo_400_400/0/1567007199546?e=1687392000&v=beta&t=B-rmk2pQVh8VtxIZxO--aanSskxZAmjeopNL0fhmqDw',\n",
       "  'jobTitle': 'Content & User Experience Manager, EMEA eCommerce',\n",
       "  'dateRange': 'Jul 2017 - Sep 2018 Â· 1 yr 3 mos',\n",
       "  'description': 'End responsible for the digital consumer journey of Under Armourâ€˜s European eCommerce sites. Reporting directly to the Head of eCommerce and leading a team of 5 FTEs\\n\\nAchievements:\\n- Redefined and optimized a team of 5 direct reports in the fields of digital content merchandising, campaign planning, onsite localisation, creative design and SEO.\\n- Defined and built a content and user experience strategy that improves digital merchandise campaign execution and ensures the successful delivery of Under Armourâ€™s onsite optimisation roadmap.\\n- Led the development of a strategic 3-year plan for the European eCommerce business in order to balance brand and DTC commerce objectives while further developing digital as a center of excellence for the company.',\n",
       "  'location': 'Amsterdam, North Holland, Netherlands'},\n",
       " {'companyUrl': 'https://www.linkedin.com/company/53978/',\n",
       "  'companyName': 'C&A',\n",
       "  'logoUrl': 'https://media.licdn.com/dms/image/C4E0BAQF5XT08UG7Z2A/company-logo_400_400/0/1656657371422?e=1687392000&v=beta&t=UCvQxiOw3syCNhYNnYEgNIw5ZEIpg_ZReYql960rk7A',\n",
       "  'jobTitle': 'Product Manager eCommerce',\n",
       "  'dateRange': 'Jan 2014 - Jun 2017 Â· 3 yrs 6 mos',\n",
       "  'description': 'Co-responsible for the strategic and operational development of C&Aâ€™s European online shopsâ€™ customer experience. Reporting to the Unit Leader Customer User Experience. \\n\\nAchievements:\\n- Led the creative and technical strategy and implementation of C&Aâ€™s European eCommerce platform update in July 2016.\\n- Headed the development and delivery of a board-focused eCommerce future vision project, including a completely new user experience and visual design guideline that served as the foundation for the companyâ€™s recent major website relaunch project.\\n- Defined and delivered a data-driven customer experience operation focused on improving key KPIâ€™s of C&Aâ€™s European online shops.\\n- Delivered a content transition project of insourcing major content tasks including a CMS training and development in order to empower internal teams and reduce IT costs.\\n- Defined and delivered the operational approach and guidelines on translating C&Aâ€™s new customer proposition and brand identity across C&Aâ€™s European eCommerce operation and organization.\\n',\n",
       "  'location': 'DÃ¼sseldorf, North Rhine-Westphalia'},\n",
       " {'companyUrl': 'https://www.linkedin.com/company/12719459/',\n",
       "  'companyName': 'JADES GmbH',\n",
       "  'jobTitle': 'Online Marketing Manager',\n",
       "  'dateRange': 'May 2010 - Dec 2013 Â· 3 yrs 8 mos',\n",
       "  'description': 'End responsible for the strategy and delivery of all marketing communications. Reporting to the eCommerce Director.\\n\\nAchievements:\\n- Redefined and implemented a new strategy and measurement approach for performance marketing (SEA, SEO, Affiliate) leading to increased conversion rate and return on investment across all channels.\\n- Steered the creative process and development of a new brand identity leading to the delivery of a full website redesign.',\n",
       "  'location': 'DÃ¼sseldorf, North Rhine-Westphalia'}]"
      ]
     },
     "execution_count": 166,
     "metadata": {},
     "output_type": "execute_result"
    }
   ],
   "source": [
    "jobs = data[0]['jobs']\n",
    "jobs"
   ]
  },
  {
   "cell_type": "code",
   "execution_count": 167,
   "id": "57f99230",
   "metadata": {},
   "outputs": [
    {
     "data": {
      "text/plain": [
       "5"
      ]
     },
     "execution_count": 167,
     "metadata": {},
     "output_type": "execute_result"
    }
   ],
   "source": [
    "len(jobs)"
   ]
  },
  {
   "cell_type": "code",
   "execution_count": 269,
   "id": "68ee0b85",
   "metadata": {},
   "outputs": [
    {
     "data": {
      "text/plain": [
       "[{'companyUrl': 'https://www.linkedin.com/company/5095549/',\n",
       "  'companyName': 'Love Stories',\n",
       "  'logoUrl': 'https://media.licdn.com/dms/image/C4E0BAQH_z1xe9o_Z7w/company-logo_400_400/0/1524039923988?e=1687392000&v=beta&t=NtcbUGCSJBZ9wSRwGFFjmROO_dwFhOaY2CviH6yUdE8',\n",
       "  'jobTitle': 'Head of eCommerce',\n",
       "  'dateRange': 'Apr 2021 - Present Â· 2 yrs',\n",
       "  'description': \"End responsible for Love Stories' global eCommerce business, including P&L. Leading a multidisciplinary team and reporting directly to the board.\",\n",
       "  'location': 'Amsterdam, North Holland, Netherlands'},\n",
       " {'companyUrl': 'https://www.linkedin.com/company/8274/',\n",
       "  'companyName': 'New Balance',\n",
       "  'logoUrl': 'https://media.licdn.com/dms/image/C4E0BAQFKAVM4PGSUgw/company-logo_400_400/0/1542121705133?e=1687392000&v=beta&t=mj3Umo9RyPk0i1qw4oOoequCKgy5CxlCZYT04z9QuNg',\n",
       "  'jobTitle': 'eCommerce Site Manager EMEA',\n",
       "  'dateRange': 'Oct 2018 - Mar 2021 Â· 2 yrs 6 mos',\n",
       "  'description': 'End responsible for the eCommerce operations, digital experience and strategic roadmap for New Balanceâ€™s 21 EMEA eCommerce sites. Reporting to the General Manager eCommerce and leading a team of 9 FTEs.\\n\\nAchievements:\\n- Successfully delivered a transition project for the business to move away from the external eCommerce operations vendor and successfully in-housed all eCommerce site operations. Project was delivered while maintaining fully operational in daily business and meeting targets.\\n- Co-responsibility for the opening of the Amsterdam-based EMEA DTC office, recruited and built a team of 9 FTEs in the areas of platform management, digital merchandising, content development, onsite optimization and technical support.\\n-Delivery and end-responsibility of a 3-year technical technical roadmap enabling future business expansion plans and commercial growth capabilities for the EMEA DTC business.\\n',\n",
       "  'location': 'Amsterdam, North Holland, Netherlands'},\n",
       " {'companyUrl': 'https://www.linkedin.com/company/14140/',\n",
       "  'companyName': 'Under Armour',\n",
       "  'logoUrl': 'https://media.licdn.com/dms/image/C560BAQH7DvDneq6Elw/company-logo_400_400/0/1567007199546?e=1687392000&v=beta&t=B-rmk2pQVh8VtxIZxO--aanSskxZAmjeopNL0fhmqDw',\n",
       "  'jobTitle': 'Content & User Experience Manager, EMEA eCommerce',\n",
       "  'dateRange': 'Jul 2017 - Sep 2018 Â· 1 yr 3 mos',\n",
       "  'description': 'End responsible for the digital consumer journey of Under Armourâ€˜s European eCommerce sites. Reporting directly to the Head of eCommerce and leading a team of 5 FTEs\\n\\nAchievements:\\n- Redefined and optimized a team of 5 direct reports in the fields of digital content merchandising, campaign planning, onsite localisation, creative design and SEO.\\n- Defined and built a content and user experience strategy that improves digital merchandise campaign execution and ensures the successful delivery of Under Armourâ€™s onsite optimisation roadmap.\\n- Led the development of a strategic 3-year plan for the European eCommerce business in order to balance brand and DTC commerce objectives while further developing digital as a center of excellence for the company.',\n",
       "  'location': 'Amsterdam, North Holland, Netherlands'}]"
      ]
     },
     "execution_count": 269,
     "metadata": {},
     "output_type": "execute_result"
    }
   ],
   "source": [
    "# Genereta a list only with \n",
    "l = (i for i in jobs)\n",
    "\n",
    "last_3jobs= list(l)[:3] # shows only 3 jobs \n",
    "last_3jobs"
   ]
  },
  {
   "cell_type": "code",
   "execution_count": 272,
   "id": "57068766",
   "metadata": {},
   "outputs": [],
   "source": [
    "#list with only needed columns\n",
    "jobs_col = ['jobTitle','companyName','dateRange','location']"
   ]
  },
  {
   "cell_type": "code",
   "execution_count": 273,
   "id": "0cacfce7",
   "metadata": {},
   "outputs": [],
   "source": [
    "# generate a df of each jib expierence\n",
    "jobs_1 = pd.DataFrame.from_dict([last_3jobs[0]], orient='columns')\n",
    "jobs_2 = pd.DataFrame.from_dict([last_3jobs[1]], orient='columns')\n",
    "jobs_3 = pd.DataFrame.from_dict([last_3jobs[2]], orient='columns')"
   ]
  },
  {
   "cell_type": "code",
   "execution_count": 274,
   "id": "555d29be",
   "metadata": {},
   "outputs": [],
   "source": [
    "# function to generate common list for each df\n",
    "def list_function(df,list_col):\n",
    "\n",
    "    common_list = list(set(df.columns) & set(list_col))\n",
    "    dataframe = df[common_list]\n",
    "    return dataframe"
   ]
  },
  {
   "cell_type": "code",
   "execution_count": 275,
   "id": "4d7934b1",
   "metadata": {},
   "outputs": [],
   "source": [
    "df_job1 = list_function(jobs_1,jobs_col)\n",
    "df_job2 = list_function(jobs_2,jobs_col)\n",
    "df_job3 = list_function(jobs_3,jobs_col)"
   ]
  },
  {
   "cell_type": "code",
   "execution_count": 276,
   "id": "71911bb9",
   "metadata": {},
   "outputs": [],
   "source": [
    "# to rename columns\n",
    "df_job1.rename(\\\n",
    "               {'jobTitle':'Experience 1 title','companyName':'Experience 1 company',\\\n",
    "                'dateRange':'Experience 1 tenuere','location':'Experience 1 location'}, axis=1,inplace=True)\n",
    "df_job2.rename(\\\n",
    "               {'jobTitle':'Experience 2 title','companyName':'Experience 2 company',\\\n",
    "                'dateRange':'Experience 2 tenuere','location':'Experience 2 location'}, axis=1,inplace=True)\n",
    "df_job3.rename(\\\n",
    "               {'jobTitle':'Experience 3 title','companyName':'Experience 3 company',\\\n",
    "                'dateRange':'Experience 3 tenuere','location':'Experience 3 location'}, axis=1,inplace=True)\n"
   ]
  },
  {
   "cell_type": "code",
   "execution_count": 277,
   "id": "6dbbf481",
   "metadata": {},
   "outputs": [],
   "source": [
    "# reorgineze columns order\n",
    "df_job1 = df_job1.reindex(columns=['Experience 1 title','Experience 1 company','Experience 1 tenuere','Experience 1 location'])\n",
    "df_job2 = df_job2.reindex(columns=['Experience 2 title','Experience 2 company','Experience 2 tenuere','Experience 2 location'])\n",
    "df_job3 = df_job3.reindex(columns=['Experience 3 title','Experience 3 company','Experience 3 tenuere','Experience 3 location'])"
   ]
  },
  {
   "cell_type": "code",
   "execution_count": 278,
   "id": "d37db12d",
   "metadata": {
    "scrolled": true
   },
   "outputs": [
    {
     "data": {
      "text/html": [
       "<div>\n",
       "<style scoped>\n",
       "    .dataframe tbody tr th:only-of-type {\n",
       "        vertical-align: middle;\n",
       "    }\n",
       "\n",
       "    .dataframe tbody tr th {\n",
       "        vertical-align: top;\n",
       "    }\n",
       "\n",
       "    .dataframe thead th {\n",
       "        text-align: right;\n",
       "    }\n",
       "</style>\n",
       "<table border=\"1\" class=\"dataframe\">\n",
       "  <thead>\n",
       "    <tr style=\"text-align: right;\">\n",
       "      <th></th>\n",
       "      <th>Experience 1 title</th>\n",
       "      <th>Experience 1 company</th>\n",
       "      <th>Experience 1 tenuere</th>\n",
       "      <th>Experience 1 location</th>\n",
       "      <th>Experience 2 title</th>\n",
       "      <th>Experience 2 company</th>\n",
       "      <th>Experience 2 tenuere</th>\n",
       "      <th>Experience 2 location</th>\n",
       "      <th>Experience 3 title</th>\n",
       "      <th>Experience 3 company</th>\n",
       "      <th>Experience 3 tenuere</th>\n",
       "      <th>Experience 3 location</th>\n",
       "    </tr>\n",
       "  </thead>\n",
       "  <tbody>\n",
       "    <tr>\n",
       "      <th>0</th>\n",
       "      <td>Head of eCommerce</td>\n",
       "      <td>Love Stories</td>\n",
       "      <td>Apr 2021 - Present Â· 2 yrs</td>\n",
       "      <td>Amsterdam, North Holland, Netherlands</td>\n",
       "      <td>eCommerce Site Manager EMEA</td>\n",
       "      <td>New Balance</td>\n",
       "      <td>Oct 2018 - Mar 2021 Â· 2 yrs 6 mos</td>\n",
       "      <td>Amsterdam, North Holland, Netherlands</td>\n",
       "      <td>Content &amp; User Experience Manager, EMEA eCommerce</td>\n",
       "      <td>Under Armour</td>\n",
       "      <td>Jul 2017 - Sep 2018 Â· 1 yr 3 mos</td>\n",
       "      <td>Amsterdam, North Holland, Netherlands</td>\n",
       "    </tr>\n",
       "  </tbody>\n",
       "</table>\n",
       "</div>"
      ],
      "text/plain": [
       "  Experience 1 title Experience 1 company         Experience 1 tenuere  \\\n",
       "0  Head of eCommerce         Love Stories  Apr 2021 - Present Â· 2 yrs   \n",
       "\n",
       "                   Experience 1 location           Experience 2 title  \\\n",
       "0  Amsterdam, North Holland, Netherlands  eCommerce Site Manager EMEA   \n",
       "\n",
       "  Experience 2 company                Experience 2 tenuere  \\\n",
       "0          New Balance  Oct 2018 - Mar 2021 Â· 2 yrs 6 mos   \n",
       "\n",
       "                   Experience 2 location  \\\n",
       "0  Amsterdam, North Holland, Netherlands   \n",
       "\n",
       "                                  Experience 3 title Experience 3 company  \\\n",
       "0  Content & User Experience Manager, EMEA eCommerce         Under Armour   \n",
       "\n",
       "                Experience 3 tenuere                  Experience 3 location  \n",
       "0  Jul 2017 - Sep 2018 Â· 1 yr 3 mos  Amsterdam, North Holland, Netherlands  "
      ]
     },
     "execution_count": 278,
     "metadata": {},
     "output_type": "execute_result"
    }
   ],
   "source": [
    "# coincatenate 3 jobs in to 1 df\n",
    "jobs_df= pd.concat([df_job1,df_job2,df_job3],axis=1)\n",
    "jobs_df"
   ]
  },
  {
   "cell_type": "markdown",
   "id": "089240c8",
   "metadata": {},
   "source": [
    "## 'school' dataframe"
   ]
  },
  {
   "cell_type": "code",
   "execution_count": 178,
   "id": "a5e6eae3",
   "metadata": {},
   "outputs": [
    {
     "data": {
      "text/plain": [
       "[{'schoolUrl': 'https://www.linkedin.com/company/14685/',\n",
       "  'schoolName': 'London College of Fashion, University of the Arts London',\n",
       "  'logoUrl': 'https://media.licdn.com/dms/image/C4E0BAQHzv7FNIj5Uxw/company-logo_400_400/0/1675251196608?e=1687392000&v=beta&t=7sb3BhJ5iTXPTZeX58nNFXLsrTJ5qzgS7UqkIYG_Aeg',\n",
       "  'degree': 'Master of Arts (M.A.), Strategic Fashion Marketing',\n",
       "  'dateRange': '2009 - 2010',\n",
       "  'description': 'Focused on marketing and management issues in the fashion industry, with attention paid to: Fashion Business Strategy, Marketing Communications, International Marketing and Retail Strategies, Brand Marketing and Research.\\n\\nMaster Thesis: Corporate Social Responsibility in Marketing Communications â€“ A Customer-\\nCentric Perspective'},\n",
       " {'schoolUrl': 'https://www.linkedin.com/company/13121/',\n",
       "  'schoolName': 'University of Hertfordshire',\n",
       "  'logoUrl': 'https://media.licdn.com/dms/image/C4E0BAQHeEkDNjV11Ug/company-logo_400_400/0/1677664005176?e=1687392000&v=beta&t=J7kR-WNoooIEv6-hUXcxzEs52nY2rRZOGIm7Dtw9Z6o',\n",
       "  'degree': 'Business Administration',\n",
       "  'dateRange': '2007 - 2008'},\n",
       " {'schoolUrl': 'https://www.linkedin.com/company/141797/',\n",
       "  'schoolName': 'CBS International Business School',\n",
       "  'logoUrl': 'https://media.licdn.com/dms/image/C4D0BAQGDzZHHddSlFQ/company-logo_400_400/0/1580644583147?e=1687392000&v=beta&t=HWzJLC4UfNNSrN87az0YoVWmzxBpBBfnH2Yq_Kc-JX4',\n",
       "  'degree': 'Bachelor of Arts (B.A.), International Business',\n",
       "  'dateRange': '2005 - 2008'}]"
      ]
     },
     "execution_count": 178,
     "metadata": {},
     "output_type": "execute_result"
    }
   ],
   "source": [
    "schools= data[0]['schools']\n",
    "schools"
   ]
  },
  {
   "cell_type": "code",
   "execution_count": 180,
   "id": "45c90f8f",
   "metadata": {},
   "outputs": [],
   "source": [
    "ls = (i for i in schools)\n",
    "\n",
    "last_3schools= list(ls)[:3]"
   ]
  },
  {
   "cell_type": "code",
   "execution_count": 279,
   "id": "0332ff76",
   "metadata": {},
   "outputs": [],
   "source": [
    "#columns needed\n",
    "school_col = ['schoolName','degree','dateRange']"
   ]
  },
  {
   "cell_type": "code",
   "execution_count": 280,
   "id": "a2af81e9",
   "metadata": {},
   "outputs": [],
   "source": [
    "# columns needed vs all cloumns\n",
    "school_1 = pd.DataFrame.from_dict([last_3schools[0]], orient='columns')\n",
    "school_2 = pd.DataFrame.from_dict([last_3schools[1]], orient='columns')\n",
    "school_3 = pd.DataFrame.from_dict([last_3schools[2]], orient='columns')"
   ]
  },
  {
   "cell_type": "code",
   "execution_count": 188,
   "id": "eedbe89a",
   "metadata": {},
   "outputs": [],
   "source": [
    "df_school1 = list_function(school_1,school_col)\n",
    "df_school2 = list_function(school_2,school_col)\n",
    "df_school3 = list_function(school_3,school_col)"
   ]
  },
  {
   "cell_type": "code",
   "execution_count": 189,
   "id": "7adfcd55",
   "metadata": {},
   "outputs": [],
   "source": [
    "df_school1.rename(\\\n",
    "               {'schoolName':'Education 1 name','degree':'Education 1 title',\\\n",
    "                'dateRange':'Education 1 tenuere'}, axis=1,inplace=True)\n",
    "df_school2.rename(\\\n",
    "               {'schoolName':'Education 2 name','degree':'Education 2 title',\\\n",
    "                'dateRange':'Education 2 tenuere'}, axis=1,inplace=True)\n",
    "df_school3.rename(\\\n",
    "               {'schoolName':'Education 3 name','degree':'Education 3 title',\\\n",
    "                'dateRange':'Education 3 tenuere'}, axis=1,inplace=True)\n"
   ]
  },
  {
   "cell_type": "code",
   "execution_count": 190,
   "id": "5742b4c6",
   "metadata": {},
   "outputs": [],
   "source": [
    "df_school1 = df_school1.reindex(columns=['Education 1 name','Education 1 title','Education 1 tenuere'])\n",
    "df_school2 = df_school2.reindex(columns=['Education 2 name','Education 2 title','Education 2 tenuere'])\n",
    "df_school3 = df_school3.reindex(columns=['Education 3 name','Education 3 title','Education 3 tenuere'])"
   ]
  },
  {
   "cell_type": "code",
   "execution_count": 191,
   "id": "cb1cdd15",
   "metadata": {},
   "outputs": [
    {
     "data": {
      "text/html": [
       "<div>\n",
       "<style scoped>\n",
       "    .dataframe tbody tr th:only-of-type {\n",
       "        vertical-align: middle;\n",
       "    }\n",
       "\n",
       "    .dataframe tbody tr th {\n",
       "        vertical-align: top;\n",
       "    }\n",
       "\n",
       "    .dataframe thead th {\n",
       "        text-align: right;\n",
       "    }\n",
       "</style>\n",
       "<table border=\"1\" class=\"dataframe\">\n",
       "  <thead>\n",
       "    <tr style=\"text-align: right;\">\n",
       "      <th></th>\n",
       "      <th>Education 1 name</th>\n",
       "      <th>Education 1 title</th>\n",
       "      <th>Education 1 tenuere</th>\n",
       "      <th>Education 2 name</th>\n",
       "      <th>Education 2 title</th>\n",
       "      <th>Education 2 tenuere</th>\n",
       "      <th>Education 3 name</th>\n",
       "      <th>Education 3 title</th>\n",
       "      <th>Education 3 tenuere</th>\n",
       "    </tr>\n",
       "  </thead>\n",
       "  <tbody>\n",
       "    <tr>\n",
       "      <th>0</th>\n",
       "      <td>London College of Fashion, University of the A...</td>\n",
       "      <td>Master of Arts (M.A.), Strategic Fashion Marke...</td>\n",
       "      <td>2009 - 2010</td>\n",
       "      <td>University of Hertfordshire</td>\n",
       "      <td>Business Administration</td>\n",
       "      <td>2007 - 2008</td>\n",
       "      <td>CBS International Business School</td>\n",
       "      <td>Bachelor of Arts (B.A.), International Business</td>\n",
       "      <td>2005 - 2008</td>\n",
       "    </tr>\n",
       "  </tbody>\n",
       "</table>\n",
       "</div>"
      ],
      "text/plain": [
       "                                    Education 1 name  \\\n",
       "0  London College of Fashion, University of the A...   \n",
       "\n",
       "                                   Education 1 title Education 1 tenuere  \\\n",
       "0  Master of Arts (M.A.), Strategic Fashion Marke...         2009 - 2010   \n",
       "\n",
       "              Education 2 name        Education 2 title Education 2 tenuere  \\\n",
       "0  University of Hertfordshire  Business Administration         2007 - 2008   \n",
       "\n",
       "                    Education 3 name  \\\n",
       "0  CBS International Business School   \n",
       "\n",
       "                                 Education 3 title Education 3 tenuere  \n",
       "0  Bachelor of Arts (B.A.), International Business         2005 - 2008  "
      ]
     },
     "execution_count": 191,
     "metadata": {},
     "output_type": "execute_result"
    }
   ],
   "source": [
    "schools_df= pd.concat([df_school1,df_school2,df_school3],axis=1)\n",
    "schools_df"
   ]
  },
  {
   "cell_type": "markdown",
   "id": "79d4b116",
   "metadata": {},
   "source": [
    "## 'language' dataframe"
   ]
  },
  {
   "cell_type": "code",
   "execution_count": 218,
   "id": "6f57904c",
   "metadata": {},
   "outputs": [
    {
     "data": {
      "text/plain": [
       "['Deutsch: Native or bilingual proficiency',\n",
       " 'Englisch: Full professional proficiency',\n",
       " 'FranzÃ¶sisch: Elementary proficiency']"
      ]
     },
     "execution_count": 218,
     "metadata": {},
     "output_type": "execute_result"
    }
   ],
   "source": [
    "languages= data[0]['accomplishments']['languages']\n",
    "languages"
   ]
  },
  {
   "cell_type": "code",
   "execution_count": 223,
   "id": "3c4174b7",
   "metadata": {},
   "outputs": [
    {
     "data": {
      "text/plain": [
       "['Deutsch: Native or bilingual proficiency',\n",
       " 'Englisch: Full professional proficiency',\n",
       " 'FranzÃ¶sisch: Elementary proficiency']"
      ]
     },
     "execution_count": 223,
     "metadata": {},
     "output_type": "execute_result"
    }
   ],
   "source": [
    "ll = (i for i in languages)\n",
    "\n",
    "lang_5= list(ll)[:5]\n",
    "lang_5"
   ]
  },
  {
   "cell_type": "code",
   "execution_count": 310,
   "id": "0724d9ac",
   "metadata": {},
   "outputs": [],
   "source": [
    "language_list = [i.split(':') for i in lang_5]"
   ]
  },
  {
   "cell_type": "code",
   "execution_count": 311,
   "id": "6ff370e2",
   "metadata": {
    "scrolled": true
   },
   "outputs": [
    {
     "data": {
      "text/plain": [
       "[['Deutsch', ' Native or bilingual proficiency'],\n",
       " ['Englisch', ' Full professional proficiency'],\n",
       " ['FranzÃ¶sisch', ' Elementary proficiency']]"
      ]
     },
     "execution_count": 311,
     "metadata": {},
     "output_type": "execute_result"
    }
   ],
   "source": [
    "language_list"
   ]
  },
  {
   "cell_type": "code",
   "execution_count": null,
   "id": "6c3fae92",
   "metadata": {},
   "outputs": [],
   "source": []
  },
  {
   "cell_type": "code",
   "execution_count": null,
   "id": "3820edae",
   "metadata": {},
   "outputs": [],
   "source": []
  },
  {
   "cell_type": "code",
   "execution_count": 312,
   "id": "3c346496",
   "metadata": {},
   "outputs": [],
   "source": [
    "#columns needed\n",
    "lang_col = ['Language 1','Language 1 proficiency','Language 2','Language 2 proficiency','Language 3','Language 3 proficiency'\\\n",
    "           'Language 4','Language 4 proficiency','Language 5','Language 5 proficiency']"
   ]
  },
  {
   "cell_type": "code",
   "execution_count": 305,
   "id": "779fa7bf",
   "metadata": {},
   "outputs": [],
   "source": [
    "lang_dataframe = pd.DataFrame(t2)"
   ]
  },
  {
   "cell_type": "code",
   "execution_count": 308,
   "id": "c783d172",
   "metadata": {},
   "outputs": [
    {
     "data": {
      "text/html": [
       "<div>\n",
       "<style scoped>\n",
       "    .dataframe tbody tr th:only-of-type {\n",
       "        vertical-align: middle;\n",
       "    }\n",
       "\n",
       "    .dataframe tbody tr th {\n",
       "        vertical-align: top;\n",
       "    }\n",
       "\n",
       "    .dataframe thead th {\n",
       "        text-align: right;\n",
       "    }\n",
       "</style>\n",
       "<table border=\"1\" class=\"dataframe\">\n",
       "  <thead>\n",
       "    <tr style=\"text-align: right;\">\n",
       "      <th></th>\n",
       "      <th>0</th>\n",
       "      <th>1</th>\n",
       "    </tr>\n",
       "  </thead>\n",
       "  <tbody>\n",
       "    <tr>\n",
       "      <th>0</th>\n",
       "      <td>Deutsch</td>\n",
       "      <td>Native or bilingual proficiency</td>\n",
       "    </tr>\n",
       "    <tr>\n",
       "      <th>1</th>\n",
       "      <td>Englisch</td>\n",
       "      <td>Full professional proficiency</td>\n",
       "    </tr>\n",
       "    <tr>\n",
       "      <th>2</th>\n",
       "      <td>FranzÃ¶sisch</td>\n",
       "      <td>Elementary proficiency</td>\n",
       "    </tr>\n",
       "  </tbody>\n",
       "</table>\n",
       "</div>"
      ],
      "text/plain": [
       "              0                                 1\n",
       "0       Deutsch   Native or bilingual proficiency\n",
       "1      Englisch     Full professional proficiency\n",
       "2  FranzÃ¶sisch            Elementary proficiency"
      ]
     },
     "execution_count": 308,
     "metadata": {},
     "output_type": "execute_result"
    }
   ],
   "source": [
    "lang_dataframe"
   ]
  },
  {
   "cell_type": "code",
   "execution_count": null,
   "id": "6a845568",
   "metadata": {},
   "outputs": [],
   "source": []
  },
  {
   "cell_type": "code",
   "execution_count": null,
   "id": "92dd91e7",
   "metadata": {},
   "outputs": [],
   "source": []
  },
  {
   "cell_type": "markdown",
   "id": "938bd002",
   "metadata": {},
   "source": [
    "# Final dataframe"
   ]
  },
  {
   "cell_type": "code",
   "execution_count": 237,
   "id": "43d63d51",
   "metadata": {},
   "outputs": [
    {
     "data": {
      "text/html": [
       "<div>\n",
       "<style scoped>\n",
       "    .dataframe tbody tr th:only-of-type {\n",
       "        vertical-align: middle;\n",
       "    }\n",
       "\n",
       "    .dataframe tbody tr th {\n",
       "        vertical-align: top;\n",
       "    }\n",
       "\n",
       "    .dataframe thead th {\n",
       "        text-align: right;\n",
       "    }\n",
       "</style>\n",
       "<table border=\"1\" class=\"dataframe\">\n",
       "  <thead>\n",
       "    <tr style=\"text-align: right;\">\n",
       "      <th></th>\n",
       "      <th>description</th>\n",
       "      <th>headline</th>\n",
       "      <th>location</th>\n",
       "      <th>connectionsCount</th>\n",
       "      <th>connectionDegree</th>\n",
       "      <th>imgUrl</th>\n",
       "      <th>fullName</th>\n",
       "      <th>Experience 1 title</th>\n",
       "      <th>Experience 1 company</th>\n",
       "      <th>Experience 1 tenuere</th>\n",
       "      <th>...</th>\n",
       "      <th>Experience 3 location</th>\n",
       "      <th>Education 1 name</th>\n",
       "      <th>Education 1 title</th>\n",
       "      <th>Education 1 tenuere</th>\n",
       "      <th>Education 2 name</th>\n",
       "      <th>Education 2 title</th>\n",
       "      <th>Education 2 tenuere</th>\n",
       "      <th>Education 3 name</th>\n",
       "      <th>Education 3 title</th>\n",
       "      <th>Education 3 tenuere</th>\n",
       "    </tr>\n",
       "  </thead>\n",
       "  <tbody>\n",
       "    <tr>\n",
       "      <th>0</th>\n",
       "      <td>Management professional with 10+ years of expe...</td>\n",
       "      <td>Head of eCommerce at Love Stories</td>\n",
       "      <td>Amsterdam, North Holland, Netherlands</td>\n",
       "      <td>1027</td>\n",
       "      <td>3rd</td>\n",
       "      <td>https://media.licdn.com/dms/image/C4E03AQErX4c...</td>\n",
       "      <td>Claudia Moron</td>\n",
       "      <td>Head of eCommerce</td>\n",
       "      <td>Love Stories</td>\n",
       "      <td>Apr 2021 - Present Â· 2 yrs</td>\n",
       "      <td>...</td>\n",
       "      <td>Amsterdam, North Holland, Netherlands</td>\n",
       "      <td>London College of Fashion, University of the A...</td>\n",
       "      <td>Master of Arts (M.A.), Strategic Fashion Marke...</td>\n",
       "      <td>2009 - 2010</td>\n",
       "      <td>University of Hertfordshire</td>\n",
       "      <td>Business Administration</td>\n",
       "      <td>2007 - 2008</td>\n",
       "      <td>CBS International Business School</td>\n",
       "      <td>Bachelor of Arts (B.A.), International Business</td>\n",
       "      <td>2005 - 2008</td>\n",
       "    </tr>\n",
       "  </tbody>\n",
       "</table>\n",
       "<p>1 rows × 28 columns</p>\n",
       "</div>"
      ],
      "text/plain": [
       "                                         description  \\\n",
       "0  Management professional with 10+ years of expe...   \n",
       "\n",
       "                            headline                               location  \\\n",
       "0  Head of eCommerce at Love Stories  Amsterdam, North Holland, Netherlands   \n",
       "\n",
       "   connectionsCount connectionDegree  \\\n",
       "0              1027              3rd   \n",
       "\n",
       "                                              imgUrl       fullName  \\\n",
       "0  https://media.licdn.com/dms/image/C4E03AQErX4c...  Claudia Moron   \n",
       "\n",
       "  Experience 1 title Experience 1 company         Experience 1 tenuere  ...  \\\n",
       "0  Head of eCommerce         Love Stories  Apr 2021 - Present Â· 2 yrs  ...   \n",
       "\n",
       "                   Experience 3 location  \\\n",
       "0  Amsterdam, North Holland, Netherlands   \n",
       "\n",
       "                                    Education 1 name  \\\n",
       "0  London College of Fashion, University of the A...   \n",
       "\n",
       "                                   Education 1 title Education 1 tenuere  \\\n",
       "0  Master of Arts (M.A.), Strategic Fashion Marke...         2009 - 2010   \n",
       "\n",
       "              Education 2 name        Education 2 title Education 2 tenuere  \\\n",
       "0  University of Hertfordshire  Business Administration         2007 - 2008   \n",
       "\n",
       "                    Education 3 name  \\\n",
       "0  CBS International Business School   \n",
       "\n",
       "                                 Education 3 title Education 3 tenuere  \n",
       "0  Bachelor of Arts (B.A.), International Business         2005 - 2008  \n",
       "\n",
       "[1 rows x 28 columns]"
      ]
     },
     "execution_count": 237,
     "metadata": {},
     "output_type": "execute_result"
    }
   ],
   "source": [
    "claudia_df= pd.concat([general_dataframe,details_dataframe,jobs_df,schools_df],axis=1)\n",
    "claudia_df"
   ]
  },
  {
   "cell_type": "code",
   "execution_count": 247,
   "id": "0fdd990c",
   "metadata": {},
   "outputs": [],
   "source": [
    "claudia_scraper = claudia_df.T"
   ]
  },
  {
   "cell_type": "code",
   "execution_count": 248,
   "id": "1ac655aa",
   "metadata": {},
   "outputs": [],
   "source": [
    "claudia_scraper.reset_index(inplace=True)"
   ]
  },
  {
   "cell_type": "code",
   "execution_count": 249,
   "id": "ac600a19",
   "metadata": {
    "scrolled": true
   },
   "outputs": [
    {
     "data": {
      "text/html": [
       "<div>\n",
       "<style scoped>\n",
       "    .dataframe tbody tr th:only-of-type {\n",
       "        vertical-align: middle;\n",
       "    }\n",
       "\n",
       "    .dataframe tbody tr th {\n",
       "        vertical-align: top;\n",
       "    }\n",
       "\n",
       "    .dataframe thead th {\n",
       "        text-align: right;\n",
       "    }\n",
       "</style>\n",
       "<table border=\"1\" class=\"dataframe\">\n",
       "  <thead>\n",
       "    <tr style=\"text-align: right;\">\n",
       "      <th></th>\n",
       "      <th>index</th>\n",
       "      <th>0</th>\n",
       "    </tr>\n",
       "  </thead>\n",
       "  <tbody>\n",
       "    <tr>\n",
       "      <th>0</th>\n",
       "      <td>description</td>\n",
       "      <td>Management professional with 10+ years of expe...</td>\n",
       "    </tr>\n",
       "    <tr>\n",
       "      <th>1</th>\n",
       "      <td>headline</td>\n",
       "      <td>Head of eCommerce at Love Stories</td>\n",
       "    </tr>\n",
       "    <tr>\n",
       "      <th>2</th>\n",
       "      <td>location</td>\n",
       "      <td>Amsterdam, North Holland, Netherlands</td>\n",
       "    </tr>\n",
       "    <tr>\n",
       "      <th>3</th>\n",
       "      <td>connectionsCount</td>\n",
       "      <td>1027</td>\n",
       "    </tr>\n",
       "    <tr>\n",
       "      <th>4</th>\n",
       "      <td>connectionDegree</td>\n",
       "      <td>3rd</td>\n",
       "    </tr>\n",
       "    <tr>\n",
       "      <th>5</th>\n",
       "      <td>imgUrl</td>\n",
       "      <td>https://media.licdn.com/dms/image/C4E03AQErX4c...</td>\n",
       "    </tr>\n",
       "    <tr>\n",
       "      <th>6</th>\n",
       "      <td>fullName</td>\n",
       "      <td>Claudia Moron</td>\n",
       "    </tr>\n",
       "    <tr>\n",
       "      <th>7</th>\n",
       "      <td>Experience 1 title</td>\n",
       "      <td>Head of eCommerce</td>\n",
       "    </tr>\n",
       "    <tr>\n",
       "      <th>8</th>\n",
       "      <td>Experience 1 company</td>\n",
       "      <td>Love Stories</td>\n",
       "    </tr>\n",
       "    <tr>\n",
       "      <th>9</th>\n",
       "      <td>Experience 1 tenuere</td>\n",
       "      <td>Apr 2021 - Present Â· 2 yrs</td>\n",
       "    </tr>\n",
       "    <tr>\n",
       "      <th>10</th>\n",
       "      <td>Experience 1 location</td>\n",
       "      <td>Amsterdam, North Holland, Netherlands</td>\n",
       "    </tr>\n",
       "    <tr>\n",
       "      <th>11</th>\n",
       "      <td>Experience 2 title</td>\n",
       "      <td>eCommerce Site Manager EMEA</td>\n",
       "    </tr>\n",
       "    <tr>\n",
       "      <th>12</th>\n",
       "      <td>Experience 2 company</td>\n",
       "      <td>New Balance</td>\n",
       "    </tr>\n",
       "    <tr>\n",
       "      <th>13</th>\n",
       "      <td>Experience 2 tenuere</td>\n",
       "      <td>Oct 2018 - Mar 2021 Â· 2 yrs 6 mos</td>\n",
       "    </tr>\n",
       "    <tr>\n",
       "      <th>14</th>\n",
       "      <td>Experience 2 location</td>\n",
       "      <td>Amsterdam, North Holland, Netherlands</td>\n",
       "    </tr>\n",
       "    <tr>\n",
       "      <th>15</th>\n",
       "      <td>Experience 3 title</td>\n",
       "      <td>Content &amp; User Experience Manager, EMEA eCommerce</td>\n",
       "    </tr>\n",
       "    <tr>\n",
       "      <th>16</th>\n",
       "      <td>Experience 3 company</td>\n",
       "      <td>Under Armour</td>\n",
       "    </tr>\n",
       "    <tr>\n",
       "      <th>17</th>\n",
       "      <td>Experience 3 tenuere</td>\n",
       "      <td>Jul 2017 - Sep 2018 Â· 1 yr 3 mos</td>\n",
       "    </tr>\n",
       "    <tr>\n",
       "      <th>18</th>\n",
       "      <td>Experience 3 location</td>\n",
       "      <td>Amsterdam, North Holland, Netherlands</td>\n",
       "    </tr>\n",
       "    <tr>\n",
       "      <th>19</th>\n",
       "      <td>Education 1 name</td>\n",
       "      <td>London College of Fashion, University of the A...</td>\n",
       "    </tr>\n",
       "    <tr>\n",
       "      <th>20</th>\n",
       "      <td>Education 1 title</td>\n",
       "      <td>Master of Arts (M.A.), Strategic Fashion Marke...</td>\n",
       "    </tr>\n",
       "    <tr>\n",
       "      <th>21</th>\n",
       "      <td>Education 1 tenuere</td>\n",
       "      <td>2009 - 2010</td>\n",
       "    </tr>\n",
       "    <tr>\n",
       "      <th>22</th>\n",
       "      <td>Education 2 name</td>\n",
       "      <td>University of Hertfordshire</td>\n",
       "    </tr>\n",
       "    <tr>\n",
       "      <th>23</th>\n",
       "      <td>Education 2 title</td>\n",
       "      <td>Business Administration</td>\n",
       "    </tr>\n",
       "    <tr>\n",
       "      <th>24</th>\n",
       "      <td>Education 2 tenuere</td>\n",
       "      <td>2007 - 2008</td>\n",
       "    </tr>\n",
       "    <tr>\n",
       "      <th>25</th>\n",
       "      <td>Education 3 name</td>\n",
       "      <td>CBS International Business School</td>\n",
       "    </tr>\n",
       "    <tr>\n",
       "      <th>26</th>\n",
       "      <td>Education 3 title</td>\n",
       "      <td>Bachelor of Arts (B.A.), International Business</td>\n",
       "    </tr>\n",
       "    <tr>\n",
       "      <th>27</th>\n",
       "      <td>Education 3 tenuere</td>\n",
       "      <td>2005 - 2008</td>\n",
       "    </tr>\n",
       "  </tbody>\n",
       "</table>\n",
       "</div>"
      ],
      "text/plain": [
       "                    index                                                  0\n",
       "0             description  Management professional with 10+ years of expe...\n",
       "1                headline                  Head of eCommerce at Love Stories\n",
       "2                location              Amsterdam, North Holland, Netherlands\n",
       "3        connectionsCount                                               1027\n",
       "4        connectionDegree                                                3rd\n",
       "5                  imgUrl  https://media.licdn.com/dms/image/C4E03AQErX4c...\n",
       "6                fullName                                      Claudia Moron\n",
       "7      Experience 1 title                                  Head of eCommerce\n",
       "8    Experience 1 company                                       Love Stories\n",
       "9    Experience 1 tenuere                        Apr 2021 - Present Â· 2 yrs\n",
       "10  Experience 1 location              Amsterdam, North Holland, Netherlands\n",
       "11     Experience 2 title                        eCommerce Site Manager EMEA\n",
       "12   Experience 2 company                                        New Balance\n",
       "13   Experience 2 tenuere                 Oct 2018 - Mar 2021 Â· 2 yrs 6 mos\n",
       "14  Experience 2 location              Amsterdam, North Holland, Netherlands\n",
       "15     Experience 3 title  Content & User Experience Manager, EMEA eCommerce\n",
       "16   Experience 3 company                                       Under Armour\n",
       "17   Experience 3 tenuere                  Jul 2017 - Sep 2018 Â· 1 yr 3 mos\n",
       "18  Experience 3 location              Amsterdam, North Holland, Netherlands\n",
       "19       Education 1 name  London College of Fashion, University of the A...\n",
       "20      Education 1 title  Master of Arts (M.A.), Strategic Fashion Marke...\n",
       "21    Education 1 tenuere                                        2009 - 2010\n",
       "22       Education 2 name                        University of Hertfordshire\n",
       "23      Education 2 title                            Business Administration\n",
       "24    Education 2 tenuere                                        2007 - 2008\n",
       "25       Education 3 name                  CBS International Business School\n",
       "26      Education 3 title    Bachelor of Arts (B.A.), International Business\n",
       "27    Education 3 tenuere                                        2005 - 2008"
      ]
     },
     "execution_count": 249,
     "metadata": {},
     "output_type": "execute_result"
    }
   ],
   "source": [
    "claudia_scraper"
   ]
  },
  {
   "cell_type": "code",
   "execution_count": 250,
   "id": "66277eda",
   "metadata": {},
   "outputs": [],
   "source": [
    "#claudia_scraper.to_csv (r'C:\\Users\\javie\\OneDrive\\Documents\\Claudia_scraper.csv', index = None, header=True)"
   ]
  },
  {
   "cell_type": "code",
   "execution_count": null,
   "id": "7ac78a0d",
   "metadata": {},
   "outputs": [],
   "source": []
  },
  {
   "cell_type": "code",
   "execution_count": 134,
   "id": "c8a23c63",
   "metadata": {},
   "outputs": [],
   "source": [
    "general_df.reset_index(inplace=True)\n"
   ]
  },
  {
   "cell_type": "code",
   "execution_count": 135,
   "id": "881aaf1f",
   "metadata": {},
   "outputs": [
    {
     "data": {
      "text/html": [
       "<div>\n",
       "<style scoped>\n",
       "    .dataframe tbody tr th:only-of-type {\n",
       "        vertical-align: middle;\n",
       "    }\n",
       "\n",
       "    .dataframe tbody tr th {\n",
       "        vertical-align: top;\n",
       "    }\n",
       "\n",
       "    .dataframe thead th {\n",
       "        text-align: right;\n",
       "    }\n",
       "</style>\n",
       "<table border=\"1\" class=\"dataframe\">\n",
       "  <thead>\n",
       "    <tr style=\"text-align: right;\">\n",
       "      <th></th>\n",
       "      <th>index</th>\n",
       "      <th>0</th>\n",
       "    </tr>\n",
       "  </thead>\n",
       "  <tbody>\n",
       "    <tr>\n",
       "      <th>0</th>\n",
       "      <td>imgUrl</td>\n",
       "      <td>https://media.licdn.com/dms/image/C4E03AQErX4c...</td>\n",
       "    </tr>\n",
       "    <tr>\n",
       "      <th>1</th>\n",
       "      <td>fullName</td>\n",
       "      <td>Claudia Moron</td>\n",
       "    </tr>\n",
       "    <tr>\n",
       "      <th>2</th>\n",
       "      <td>headline</td>\n",
       "      <td>Head of eCommerce at Love Stories</td>\n",
       "    </tr>\n",
       "    <tr>\n",
       "      <th>3</th>\n",
       "      <td>location</td>\n",
       "      <td>Amsterdam, North Holland, Netherlands</td>\n",
       "    </tr>\n",
       "    <tr>\n",
       "      <th>4</th>\n",
       "      <td>profileUrl</td>\n",
       "      <td>https://www.linkedin.com/in/claudia-moron-3268...</td>\n",
       "    </tr>\n",
       "    <tr>\n",
       "      <th>5</th>\n",
       "      <td>connections</td>\n",
       "      <td>500+</td>\n",
       "    </tr>\n",
       "    <tr>\n",
       "      <th>6</th>\n",
       "      <td>connectionsCount</td>\n",
       "      <td>1027</td>\n",
       "    </tr>\n",
       "    <tr>\n",
       "      <th>7</th>\n",
       "      <td>connectionDegree</td>\n",
       "      <td>3rd</td>\n",
       "    </tr>\n",
       "    <tr>\n",
       "      <th>8</th>\n",
       "      <td>description</td>\n",
       "      <td>Management professional with 10+ years of expe...</td>\n",
       "    </tr>\n",
       "    <tr>\n",
       "      <th>9</th>\n",
       "      <td>subscribers</td>\n",
       "      <td>1069</td>\n",
       "    </tr>\n",
       "    <tr>\n",
       "      <th>10</th>\n",
       "      <td>firstName</td>\n",
       "      <td>Claudia</td>\n",
       "    </tr>\n",
       "    <tr>\n",
       "      <th>11</th>\n",
       "      <td>lastName</td>\n",
       "      <td>Moron</td>\n",
       "    </tr>\n",
       "    <tr>\n",
       "      <th>12</th>\n",
       "      <td>userId</td>\n",
       "      <td>327548046</td>\n",
       "    </tr>\n",
       "    <tr>\n",
       "      <th>13</th>\n",
       "      <td>backgroundUrl</td>\n",
       "      <td>https://media.licdn.com/dms/image/D4E16AQGgZls...</td>\n",
       "    </tr>\n",
       "    <tr>\n",
       "      <th>14</th>\n",
       "      <td>vmid</td>\n",
       "      <td>ACoAABOF_I4BaZwoyGnZwE_2lsdbAPG11XsFEoI</td>\n",
       "    </tr>\n",
       "    <tr>\n",
       "      <th>15</th>\n",
       "      <td>linkedinSalesNavigatorUrl</td>\n",
       "      <td>https://www.linkedin.com/sales/people/ACoAABOF...</td>\n",
       "    </tr>\n",
       "    <tr>\n",
       "      <th>16</th>\n",
       "      <td>mutualConnectionsUrl</td>\n",
       "      <td>https://www.linkedin.com/search/results/people...</td>\n",
       "    </tr>\n",
       "    <tr>\n",
       "      <th>17</th>\n",
       "      <td>connectionsUrl</td>\n",
       "      <td>https://www.linkedin.com/search/results/people...</td>\n",
       "    </tr>\n",
       "    <tr>\n",
       "      <th>18</th>\n",
       "      <td>company</td>\n",
       "      <td>Love Stories</td>\n",
       "    </tr>\n",
       "    <tr>\n",
       "      <th>19</th>\n",
       "      <td>school</td>\n",
       "      <td>London College of Fashion, University of the A...</td>\n",
       "    </tr>\n",
       "  </tbody>\n",
       "</table>\n",
       "</div>"
      ],
      "text/plain": [
       "                        index  \\\n",
       "0                      imgUrl   \n",
       "1                    fullName   \n",
       "2                    headline   \n",
       "3                    location   \n",
       "4                  profileUrl   \n",
       "5                 connections   \n",
       "6            connectionsCount   \n",
       "7            connectionDegree   \n",
       "8                 description   \n",
       "9                 subscribers   \n",
       "10                  firstName   \n",
       "11                   lastName   \n",
       "12                     userId   \n",
       "13              backgroundUrl   \n",
       "14                       vmid   \n",
       "15  linkedinSalesNavigatorUrl   \n",
       "16       mutualConnectionsUrl   \n",
       "17             connectionsUrl   \n",
       "18                    company   \n",
       "19                     school   \n",
       "\n",
       "                                                    0  \n",
       "0   https://media.licdn.com/dms/image/C4E03AQErX4c...  \n",
       "1                                       Claudia Moron  \n",
       "2                   Head of eCommerce at Love Stories  \n",
       "3               Amsterdam, North Holland, Netherlands  \n",
       "4   https://www.linkedin.com/in/claudia-moron-3268...  \n",
       "5                                                500+  \n",
       "6                                                1027  \n",
       "7                                                 3rd  \n",
       "8   Management professional with 10+ years of expe...  \n",
       "9                                                1069  \n",
       "10                                            Claudia  \n",
       "11                                              Moron  \n",
       "12                                          327548046  \n",
       "13  https://media.licdn.com/dms/image/D4E16AQGgZls...  \n",
       "14            ACoAABOF_I4BaZwoyGnZwE_2lsdbAPG11XsFEoI  \n",
       "15  https://www.linkedin.com/sales/people/ACoAABOF...  \n",
       "16  https://www.linkedin.com/search/results/people...  \n",
       "17  https://www.linkedin.com/search/results/people...  \n",
       "18                                       Love Stories  \n",
       "19  London College of Fashion, University of the A...  "
      ]
     },
     "execution_count": 135,
     "metadata": {},
     "output_type": "execute_result"
    }
   ],
   "source": [
    "general_df"
   ]
  },
  {
   "cell_type": "code",
   "execution_count": 70,
   "id": "b76539cb",
   "metadata": {},
   "outputs": [],
   "source": [
    "normalized = pd.json_normalize(data)"
   ]
  },
  {
   "cell_type": "code",
   "execution_count": 71,
   "id": "0fcbfd00",
   "metadata": {},
   "outputs": [
    {
     "data": {
      "text/html": [
       "<div>\n",
       "<style scoped>\n",
       "    .dataframe tbody tr th:only-of-type {\n",
       "        vertical-align: middle;\n",
       "    }\n",
       "\n",
       "    .dataframe tbody tr th {\n",
       "        vertical-align: top;\n",
       "    }\n",
       "\n",
       "    .dataframe thead th {\n",
       "        text-align: right;\n",
       "    }\n",
       "</style>\n",
       "<table border=\"1\" class=\"dataframe\">\n",
       "  <thead>\n",
       "    <tr style=\"text-align: right;\">\n",
       "      <th></th>\n",
       "      <th>jobs</th>\n",
       "      <th>schools</th>\n",
       "      <th>skills</th>\n",
       "      <th>allSkills</th>\n",
       "      <th>query</th>\n",
       "      <th>timestamp</th>\n",
       "      <th>general.imgUrl</th>\n",
       "      <th>general.fullName</th>\n",
       "      <th>general.headline</th>\n",
       "      <th>general.location</th>\n",
       "      <th>...</th>\n",
       "      <th>dropcontact.email</th>\n",
       "      <th>dropcontact.qualification</th>\n",
       "      <th>dropcontact.civility</th>\n",
       "      <th>dropcontact.company</th>\n",
       "      <th>dropcontact.first_name</th>\n",
       "      <th>dropcontact.full_name</th>\n",
       "      <th>dropcontact.job</th>\n",
       "      <th>dropcontact.last_name</th>\n",
       "      <th>dropcontact.linkedin</th>\n",
       "      <th>dropcontact.website</th>\n",
       "    </tr>\n",
       "  </thead>\n",
       "  <tbody>\n",
       "    <tr>\n",
       "      <th>0</th>\n",
       "      <td>[{'companyUrl': 'https://www.linkedin.com/comp...</td>\n",
       "      <td>[{'schoolUrl': 'https://www.linkedin.com/compa...</td>\n",
       "      <td>[{'name': 'Microsoft Office', 'endorsements': ...</td>\n",
       "      <td>Microsoft Office, Social Media, Microsoft Exce...</td>\n",
       "      <td>https://www.linkedin.com/in/tthiele/</td>\n",
       "      <td>2023-03-08T19:19:47.364Z</td>\n",
       "      <td>https://media.licdn.com/dms/image/D4E03AQFEtqa...</td>\n",
       "      <td>Tim Thiele</td>\n",
       "      <td>...stealth mode</td>\n",
       "      <td>Amsterdam, North Holland, Netherlands</td>\n",
       "      <td>...</td>\n",
       "      <td>tim@lushmotion.com</td>\n",
       "      <td>nominative@pro</td>\n",
       "      <td>Mr</td>\n",
       "      <td>Lush Motion</td>\n",
       "      <td>Tim</td>\n",
       "      <td>Tim Thiele</td>\n",
       "      <td>Co-Founder</td>\n",
       "      <td>Thiele</td>\n",
       "      <td>www.linkedin.com/in/tim-thiele-07798443</td>\n",
       "      <td>www.lushmotion.com</td>\n",
       "    </tr>\n",
       "  </tbody>\n",
       "</table>\n",
       "<p>1 rows × 45 columns</p>\n",
       "</div>"
      ],
      "text/plain": [
       "                                                jobs  \\\n",
       "0  [{'companyUrl': 'https://www.linkedin.com/comp...   \n",
       "\n",
       "                                             schools  \\\n",
       "0  [{'schoolUrl': 'https://www.linkedin.com/compa...   \n",
       "\n",
       "                                              skills  \\\n",
       "0  [{'name': 'Microsoft Office', 'endorsements': ...   \n",
       "\n",
       "                                           allSkills  \\\n",
       "0  Microsoft Office, Social Media, Microsoft Exce...   \n",
       "\n",
       "                                  query                 timestamp  \\\n",
       "0  https://www.linkedin.com/in/tthiele/  2023-03-08T19:19:47.364Z   \n",
       "\n",
       "                                      general.imgUrl general.fullName  \\\n",
       "0  https://media.licdn.com/dms/image/D4E03AQFEtqa...       Tim Thiele   \n",
       "\n",
       "  general.headline                       general.location  ...  \\\n",
       "0  ...stealth mode  Amsterdam, North Holland, Netherlands  ...   \n",
       "\n",
       "    dropcontact.email dropcontact.qualification  dropcontact.civility  \\\n",
       "0  tim@lushmotion.com            nominative@pro                    Mr   \n",
       "\n",
       "  dropcontact.company dropcontact.first_name dropcontact.full_name  \\\n",
       "0         Lush Motion                    Tim            Tim Thiele   \n",
       "\n",
       "  dropcontact.job dropcontact.last_name  \\\n",
       "0      Co-Founder                Thiele   \n",
       "\n",
       "                      dropcontact.linkedin dropcontact.website  \n",
       "0  www.linkedin.com/in/tim-thiele-07798443  www.lushmotion.com  \n",
       "\n",
       "[1 rows x 45 columns]"
      ]
     },
     "execution_count": 71,
     "metadata": {},
     "output_type": "execute_result"
    }
   ],
   "source": [
    "normalized"
   ]
  },
  {
   "cell_type": "code",
   "execution_count": 16,
   "id": "80a0abea",
   "metadata": {},
   "outputs": [],
   "source": [
    "dataframe = pd.DataFrame.from_dict(pd.json_normalize(data), orient='columns')"
   ]
  },
  {
   "cell_type": "code",
   "execution_count": 17,
   "id": "490b9086",
   "metadata": {
    "scrolled": false
   },
   "outputs": [
    {
     "data": {
      "text/html": [
       "<div>\n",
       "<style scoped>\n",
       "    .dataframe tbody tr th:only-of-type {\n",
       "        vertical-align: middle;\n",
       "    }\n",
       "\n",
       "    .dataframe tbody tr th {\n",
       "        vertical-align: top;\n",
       "    }\n",
       "\n",
       "    .dataframe thead th {\n",
       "        text-align: right;\n",
       "    }\n",
       "</style>\n",
       "<table border=\"1\" class=\"dataframe\">\n",
       "  <thead>\n",
       "    <tr style=\"text-align: right;\">\n",
       "      <th></th>\n",
       "      <th>skills</th>\n",
       "      <th>allSkills</th>\n",
       "      <th>jobs</th>\n",
       "      <th>schools</th>\n",
       "      <th>query</th>\n",
       "      <th>timestamp</th>\n",
       "      <th>general.imgUrl</th>\n",
       "      <th>general.fullName</th>\n",
       "      <th>general.headline</th>\n",
       "      <th>general.location</th>\n",
       "      <th>...</th>\n",
       "      <th>dropcontact.civility</th>\n",
       "      <th>dropcontact.company</th>\n",
       "      <th>dropcontact.company_linkedin</th>\n",
       "      <th>dropcontact.first_name</th>\n",
       "      <th>dropcontact.full_name</th>\n",
       "      <th>dropcontact.job</th>\n",
       "      <th>dropcontact.last_name</th>\n",
       "      <th>dropcontact.linkedin</th>\n",
       "      <th>dropcontact.phone</th>\n",
       "      <th>dropcontact.website</th>\n",
       "    </tr>\n",
       "  </thead>\n",
       "  <tbody>\n",
       "    <tr>\n",
       "      <th>0</th>\n",
       "      <td>[{'name': 'E-Commerce', 'endorsements': 15}, {...</td>\n",
       "      <td>E-Commerce, Online-Marketing, Unternehmensstra...</td>\n",
       "      <td>[{'companyUrl': 'https://www.linkedin.com/comp...</td>\n",
       "      <td>[{'schoolUrl': 'https://www.linkedin.com/compa...</td>\n",
       "      <td>https://www.linkedin.com/in/claudia-moron-3268...</td>\n",
       "      <td>2023-03-21T16:58:40.844Z</td>\n",
       "      <td>https://media.licdn.com/dms/image/C4E03AQErX4c...</td>\n",
       "      <td>Claudia Moron</td>\n",
       "      <td>Head of eCommerce at Love Stories</td>\n",
       "      <td>Amsterdam, North Holland, Netherlands</td>\n",
       "      <td>...</td>\n",
       "      <td>Mrs</td>\n",
       "      <td>Love Stories</td>\n",
       "      <td>www.linkedin.com/company/love-stories-</td>\n",
       "      <td>Claudia</td>\n",
       "      <td>Claudia Moron</td>\n",
       "      <td>Head of Ecommerce</td>\n",
       "      <td>Moron</td>\n",
       "      <td>www.linkedin.com/in/claudia-moron-32684191</td>\n",
       "      <td>+33 1 89 19 59 88</td>\n",
       "      <td>www.lovestoriesintimates.com</td>\n",
       "    </tr>\n",
       "  </tbody>\n",
       "</table>\n",
       "<p>1 rows × 42 columns</p>\n",
       "</div>"
      ],
      "text/plain": [
       "                                              skills  \\\n",
       "0  [{'name': 'E-Commerce', 'endorsements': 15}, {...   \n",
       "\n",
       "                                           allSkills  \\\n",
       "0  E-Commerce, Online-Marketing, Unternehmensstra...   \n",
       "\n",
       "                                                jobs  \\\n",
       "0  [{'companyUrl': 'https://www.linkedin.com/comp...   \n",
       "\n",
       "                                             schools  \\\n",
       "0  [{'schoolUrl': 'https://www.linkedin.com/compa...   \n",
       "\n",
       "                                               query  \\\n",
       "0  https://www.linkedin.com/in/claudia-moron-3268...   \n",
       "\n",
       "                  timestamp  \\\n",
       "0  2023-03-21T16:58:40.844Z   \n",
       "\n",
       "                                      general.imgUrl general.fullName  \\\n",
       "0  https://media.licdn.com/dms/image/C4E03AQErX4c...    Claudia Moron   \n",
       "\n",
       "                    general.headline                       general.location  \\\n",
       "0  Head of eCommerce at Love Stories  Amsterdam, North Holland, Netherlands   \n",
       "\n",
       "   ... dropcontact.civility dropcontact.company  \\\n",
       "0  ...                  Mrs        Love Stories   \n",
       "\n",
       "             dropcontact.company_linkedin dropcontact.first_name  \\\n",
       "0  www.linkedin.com/company/love-stories-                Claudia   \n",
       "\n",
       "  dropcontact.full_name    dropcontact.job dropcontact.last_name  \\\n",
       "0         Claudia Moron  Head of Ecommerce                 Moron   \n",
       "\n",
       "                         dropcontact.linkedin  dropcontact.phone  \\\n",
       "0  www.linkedin.com/in/claudia-moron-32684191  +33 1 89 19 59 88   \n",
       "\n",
       "            dropcontact.website  \n",
       "0  www.lovestoriesintimates.com  \n",
       "\n",
       "[1 rows x 42 columns]"
      ]
     },
     "execution_count": 17,
     "metadata": {},
     "output_type": "execute_result"
    }
   ],
   "source": [
    "dataframe"
   ]
  },
  {
   "cell_type": "code",
   "execution_count": 19,
   "id": "89b34b49",
   "metadata": {},
   "outputs": [
    {
     "data": {
      "text/plain": [
       "Index(['skills', 'allSkills', 'jobs', 'schools', 'query', 'timestamp',\n",
       "       'general.imgUrl', 'general.fullName', 'general.headline',\n",
       "       'general.location', 'general.profileUrl', 'general.connections',\n",
       "       'general.connectionsCount', 'general.connectionDegree',\n",
       "       'general.description', 'general.subscribers', 'general.firstName',\n",
       "       'general.lastName', 'general.userId', 'general.backgroundUrl',\n",
       "       'general.vmid', 'general.linkedinSalesNavigatorUrl',\n",
       "       'general.mutualConnectionsUrl', 'general.connectionsUrl',\n",
       "       'details.linkedinProfile', 'details.companyWebsite',\n",
       "       'interests.influencers', 'interests.companies', 'interests.schools',\n",
       "       'accomplishments.languages', 'recommendations.receivedRecommendations',\n",
       "       'recommendations.givenRecommendations', 'dropcontact.civility',\n",
       "       'dropcontact.company', 'dropcontact.company_linkedin',\n",
       "       'dropcontact.first_name', 'dropcontact.full_name', 'dropcontact.job',\n",
       "       'dropcontact.last_name', 'dropcontact.linkedin', 'dropcontact.phone',\n",
       "       'dropcontact.website'],\n",
       "      dtype='object')"
      ]
     },
     "execution_count": 19,
     "metadata": {},
     "output_type": "execute_result"
    }
   ],
   "source": [
    "dataframe.columns"
   ]
  },
  {
   "cell_type": "code",
   "execution_count": 9,
   "id": "2625a89e",
   "metadata": {},
   "outputs": [
    {
     "data": {
      "text/html": [
       "<div>\n",
       "<style scoped>\n",
       "    .dataframe tbody tr th:only-of-type {\n",
       "        vertical-align: middle;\n",
       "    }\n",
       "\n",
       "    .dataframe tbody tr th {\n",
       "        vertical-align: top;\n",
       "    }\n",
       "\n",
       "    .dataframe thead th {\n",
       "        text-align: right;\n",
       "    }\n",
       "</style>\n",
       "<table border=\"1\" class=\"dataframe\">\n",
       "  <thead>\n",
       "    <tr style=\"text-align: right;\">\n",
       "      <th></th>\n",
       "      <th>general</th>\n",
       "      <th>jobs</th>\n",
       "      <th>schools</th>\n",
       "      <th>details</th>\n",
       "      <th>skills</th>\n",
       "      <th>allSkills</th>\n",
       "      <th>interests</th>\n",
       "      <th>accomplishments</th>\n",
       "      <th>recommendations</th>\n",
       "      <th>dropcontact</th>\n",
       "      <th>query</th>\n",
       "      <th>timestamp</th>\n",
       "    </tr>\n",
       "  </thead>\n",
       "  <tbody>\n",
       "    <tr>\n",
       "      <th>0</th>\n",
       "      <td>{'imgUrl': 'https://media.licdn.com/dms/image/...</td>\n",
       "      <td>[{'companyUrl': 'https://www.linkedin.com/comp...</td>\n",
       "      <td>[{'schoolUrl': 'https://www.linkedin.com/compa...</td>\n",
       "      <td>{'linkedinProfile': 'https://www.linkedin.com/...</td>\n",
       "      <td>[{'name': 'Python (Programming Language)', 'en...</td>\n",
       "      <td>Python (Programming Language), Data Analysis, ...</td>\n",
       "      <td>{'influencers': [{'url': 'https://www.linkedin...</td>\n",
       "      <td>{'courses': ['Business to business management'...</td>\n",
       "      <td>{'receivedRecommendations': [], 'givenRecommen...</td>\n",
       "      <td>{'email': 'javier.salinas@ironhack.com', 'qual...</td>\n",
       "      <td>https://www.linkedin.com/in/javieromsal/</td>\n",
       "      <td>2023-03-09T12:41:21.767Z</td>\n",
       "    </tr>\n",
       "  </tbody>\n",
       "</table>\n",
       "</div>"
      ],
      "text/plain": [
       "                                             general  \\\n",
       "0  {'imgUrl': 'https://media.licdn.com/dms/image/...   \n",
       "\n",
       "                                                jobs  \\\n",
       "0  [{'companyUrl': 'https://www.linkedin.com/comp...   \n",
       "\n",
       "                                             schools  \\\n",
       "0  [{'schoolUrl': 'https://www.linkedin.com/compa...   \n",
       "\n",
       "                                             details  \\\n",
       "0  {'linkedinProfile': 'https://www.linkedin.com/...   \n",
       "\n",
       "                                              skills  \\\n",
       "0  [{'name': 'Python (Programming Language)', 'en...   \n",
       "\n",
       "                                           allSkills  \\\n",
       "0  Python (Programming Language), Data Analysis, ...   \n",
       "\n",
       "                                           interests  \\\n",
       "0  {'influencers': [{'url': 'https://www.linkedin...   \n",
       "\n",
       "                                     accomplishments  \\\n",
       "0  {'courses': ['Business to business management'...   \n",
       "\n",
       "                                     recommendations  \\\n",
       "0  {'receivedRecommendations': [], 'givenRecommen...   \n",
       "\n",
       "                                         dropcontact  \\\n",
       "0  {'email': 'javier.salinas@ironhack.com', 'qual...   \n",
       "\n",
       "                                      query                 timestamp  \n",
       "0  https://www.linkedin.com/in/javieromsal/  2023-03-09T12:41:21.767Z  "
      ]
     },
     "execution_count": 9,
     "metadata": {},
     "output_type": "execute_result"
    }
   ],
   "source": [
    "df=pd.DataFrame(data)\n",
    "df"
   ]
  },
  {
   "cell_type": "code",
   "execution_count": 10,
   "id": "00f5c8d7",
   "metadata": {},
   "outputs": [
    {
     "data": {
      "text/html": [
       "<div>\n",
       "<style scoped>\n",
       "    .dataframe tbody tr th:only-of-type {\n",
       "        vertical-align: middle;\n",
       "    }\n",
       "\n",
       "    .dataframe tbody tr th {\n",
       "        vertical-align: top;\n",
       "    }\n",
       "\n",
       "    .dataframe thead th {\n",
       "        text-align: right;\n",
       "    }\n",
       "</style>\n",
       "<table border=\"1\" class=\"dataframe\">\n",
       "  <thead>\n",
       "    <tr style=\"text-align: right;\">\n",
       "      <th></th>\n",
       "      <th>0</th>\n",
       "    </tr>\n",
       "  </thead>\n",
       "  <tbody>\n",
       "    <tr>\n",
       "      <th>general</th>\n",
       "      <td>{'imgUrl': 'https://media.licdn.com/dms/image/...</td>\n",
       "    </tr>\n",
       "    <tr>\n",
       "      <th>jobs</th>\n",
       "      <td>[{'companyUrl': 'https://www.linkedin.com/comp...</td>\n",
       "    </tr>\n",
       "    <tr>\n",
       "      <th>schools</th>\n",
       "      <td>[{'schoolUrl': 'https://www.linkedin.com/compa...</td>\n",
       "    </tr>\n",
       "    <tr>\n",
       "      <th>details</th>\n",
       "      <td>{'linkedinProfile': 'https://www.linkedin.com/...</td>\n",
       "    </tr>\n",
       "    <tr>\n",
       "      <th>skills</th>\n",
       "      <td>[{'name': 'Python (Programming Language)', 'en...</td>\n",
       "    </tr>\n",
       "    <tr>\n",
       "      <th>allSkills</th>\n",
       "      <td>Python (Programming Language), Data Analysis, ...</td>\n",
       "    </tr>\n",
       "    <tr>\n",
       "      <th>interests</th>\n",
       "      <td>{'influencers': [{'url': 'https://www.linkedin...</td>\n",
       "    </tr>\n",
       "    <tr>\n",
       "      <th>accomplishments</th>\n",
       "      <td>{'courses': ['Business to business management'...</td>\n",
       "    </tr>\n",
       "    <tr>\n",
       "      <th>recommendations</th>\n",
       "      <td>{'receivedRecommendations': [], 'givenRecommen...</td>\n",
       "    </tr>\n",
       "    <tr>\n",
       "      <th>dropcontact</th>\n",
       "      <td>{'email': 'javier.salinas@ironhack.com', 'qual...</td>\n",
       "    </tr>\n",
       "    <tr>\n",
       "      <th>query</th>\n",
       "      <td>https://www.linkedin.com/in/javieromsal/</td>\n",
       "    </tr>\n",
       "    <tr>\n",
       "      <th>timestamp</th>\n",
       "      <td>2023-03-09T12:41:21.767Z</td>\n",
       "    </tr>\n",
       "  </tbody>\n",
       "</table>\n",
       "</div>"
      ],
      "text/plain": [
       "                                                                 0\n",
       "general          {'imgUrl': 'https://media.licdn.com/dms/image/...\n",
       "jobs             [{'companyUrl': 'https://www.linkedin.com/comp...\n",
       "schools          [{'schoolUrl': 'https://www.linkedin.com/compa...\n",
       "details          {'linkedinProfile': 'https://www.linkedin.com/...\n",
       "skills           [{'name': 'Python (Programming Language)', 'en...\n",
       "allSkills        Python (Programming Language), Data Analysis, ...\n",
       "interests        {'influencers': [{'url': 'https://www.linkedin...\n",
       "accomplishments  {'courses': ['Business to business management'...\n",
       "recommendations  {'receivedRecommendations': [], 'givenRecommen...\n",
       "dropcontact      {'email': 'javier.salinas@ironhack.com', 'qual...\n",
       "query                     https://www.linkedin.com/in/javieromsal/\n",
       "timestamp                                 2023-03-09T12:41:21.767Z"
      ]
     },
     "execution_count": 10,
     "metadata": {},
     "output_type": "execute_result"
    }
   ],
   "source": [
    "df.T"
   ]
  },
  {
   "cell_type": "markdown",
   "id": "63bacac0",
   "metadata": {},
   "source": [
    "# Activity from json"
   ]
  },
  {
   "cell_type": "code",
   "execution_count": 11,
   "id": "c2309158",
   "metadata": {},
   "outputs": [],
   "source": [
    "file_activity= open('JavierActivity.json', encoding=\"utf8\") "
   ]
  },
  {
   "cell_type": "code",
   "execution_count": 12,
   "id": "d66b6190",
   "metadata": {},
   "outputs": [],
   "source": [
    "activity= json.load(file_activity)"
   ]
  },
  {
   "cell_type": "code",
   "execution_count": 13,
   "id": "a478cd0a",
   "metadata": {},
   "outputs": [
    {
     "data": {
      "text/plain": [
       "[{'postUrl': 'https://www.linkedin.com/feed/update/urn:li:activity:7020872460434558976',\n",
       "  'action': 'Post',\n",
       "  'imgUrl': 'https://media.licdn.com/dms/image/C4E22AQE31vj2ky1VHw/feedshare-shrink_800/0/1673906435573?e=1681344000&v=beta&t=G16s0NzaUoHD8E_CfSI3S-mtGyBgEQi7_c2oegv_kwQ',\n",
       "  'type': 'Image',\n",
       "  'postContent': \"I have accepted a new position as a Data Analyst Teaching Assistant for Ironhack Germany.I'm so excited to help teaching Data Analyst and keep this Data journey.Thanks to everyone at Ironhack for this opportunity!#dataanalyst #ironhack #berlin #newjob\",\n",
       "  'likeCount': 61,\n",
       "  'commentCount': 11,\n",
       "  'postDate': '1mo',\n",
       "  'viewCount': '1787',\n",
       "  'profileUrl': 'https://www.linkedin.com/in/javieromsal/',\n",
       "  'timestamp': '2023-03-09T13:17:55.953Z'},\n",
       " {'postUrl': 'https://www.linkedin.com/feed/update/urn:li:activity:7020084929229123584',\n",
       "  'action': 'Post',\n",
       "  'sharedPostUrl': 'https://www.credential.net/ede1f392-5ef6-4565-aab4-987403c361aa',\n",
       "  'type': 'Article',\n",
       "  'imgUrl': 'https://media.licdn.com/dms/image/sync/C4E27AQF3gioGD33M3w/articleshare-shrink_800/0/1677349579037?e=1678975200&v=beta&t=XhVtvHEO_K_8K13vKIKAmD-hK6c59jQj8Um_hBXXQOY',\n",
       "  'postContent': \"I am happy to announce that I have graduated from Ironhack Germany as a Data Analyst 👨\\u200d💻 👨\\u200d🔬 📈 These 9 weeks were very challenging and a great educational experience. But if it weren’t for the drive to achieve success and the hard work of my team buddies none of this would ever be possible!I would like to thank the best teachers Aleksander Boski and Raafat H following with the great TA's Tommaso Ramella, PhD and Peter Z. for their immense efforts and multiple review and feedback sessions!To new beginnings🎯🥂#dataanalyst  #learning #ironhack #berlin\",\n",
       "  'likeCount': 32,\n",
       "  'commentCount': 6,\n",
       "  'postDate': '1mo',\n",
       "  'viewCount': '1460',\n",
       "  'profileUrl': 'https://www.linkedin.com/in/javieromsal/',\n",
       "  'timestamp': '2023-03-09T13:17:55.954Z'},\n",
       " {'postUrl': 'https://www.linkedin.com/feed/update/urn:li:activity:6985600616009981953',\n",
       "  'action': 'Post',\n",
       "  'imgUrl': 'https://media.licdn.com/media/AAYQAQQSAAgAAQAAAAAAABqdcB5EZ18gQPCF4HzBOFBBhw.gif',\n",
       "  'type': 'Celebration',\n",
       "  'postContent': 'I’m happy to share that I’ve started my program at Ironhack!',\n",
       "  'likeCount': 21,\n",
       "  'commentCount': 3,\n",
       "  'postDate': '5mo',\n",
       "  'viewCount': '900',\n",
       "  'profileUrl': 'https://www.linkedin.com/in/javieromsal/',\n",
       "  'timestamp': '2023-03-09T13:17:55.954Z'},\n",
       " {'postUrl': 'https://www.linkedin.com/feed/update/urn:li:activity:6953894153017597952',\n",
       "  'action': 'Post',\n",
       "  'imgUrl': 'https://media.licdn.com/dms/image/C5622AQG4eGGWp3fSKg/feedshare-shrink_800/0/1657937562297?e=1681344000&v=beta&t=B3fUneK0ZCW3VkyzV2pK9CyZfhgO5NfC6OaLugcybLg',\n",
       "  'type': 'Image',\n",
       "  'postContent': '¡Gracias por estos 5 años!Hasta pronto :)#wecreatecharacter',\n",
       "  'likeCount': 68,\n",
       "  'commentCount': 7,\n",
       "  'postDate': '8mo',\n",
       "  'viewCount': '5039',\n",
       "  'profileUrl': 'https://www.linkedin.com/in/javieromsal/',\n",
       "  'timestamp': '2023-03-09T13:17:55.954Z'},\n",
       " {'postUrl': 'https://www.linkedin.com/feed/update/urn:li:activity:6816383075967217664',\n",
       "  'action': 'Post',\n",
       "  'imgUrl': 'https://media.licdn.com/dms/image/C5622AQGI0nsciFtY8Q/feedshare-shrink_800/0/1625152366832?e=1681344000&v=beta&t=7xhIDzCIaAKFGA3m1h_kJ2YTHTghgCScpT7AqTB_yT8',\n",
       "  'type': 'Image',\n",
       "  'postContent': 'DreamPlanDoTecnológico de Monterrey #MIP#OnceTecAlwaysTec',\n",
       "  'likeCount': 53,\n",
       "  'commentCount': 17,\n",
       "  'postDate': '1yr',\n",
       "  'viewCount': '2564',\n",
       "  'profileUrl': 'https://www.linkedin.com/in/javieromsal/',\n",
       "  'timestamp': '2023-03-09T13:17:55.954Z'}]"
      ]
     },
     "execution_count": 13,
     "metadata": {},
     "output_type": "execute_result"
    }
   ],
   "source": [
    "activity"
   ]
  },
  {
   "cell_type": "markdown",
   "id": "204df5ca",
   "metadata": {},
   "source": [
    "# DataFrame from csv"
   ]
  },
  {
   "cell_type": "code",
   "execution_count": 29,
   "id": "20ecab3b",
   "metadata": {},
   "outputs": [],
   "source": [
    "import csv"
   ]
  },
  {
   "cell_type": "code",
   "execution_count": 30,
   "id": "2d2dc2d7",
   "metadata": {},
   "outputs": [],
   "source": [
    "df= pd.read_csv('Javier2.csv')\n"
   ]
  },
  {
   "cell_type": "code",
   "execution_count": 31,
   "id": "a9175d0b",
   "metadata": {
    "scrolled": true
   },
   "outputs": [
    {
     "data": {
      "text/html": [
       "<div>\n",
       "<style scoped>\n",
       "    .dataframe tbody tr th:only-of-type {\n",
       "        vertical-align: middle;\n",
       "    }\n",
       "\n",
       "    .dataframe tbody tr th {\n",
       "        vertical-align: top;\n",
       "    }\n",
       "\n",
       "    .dataframe thead th {\n",
       "        text-align: right;\n",
       "    }\n",
       "</style>\n",
       "<table border=\"1\" class=\"dataframe\">\n",
       "  <thead>\n",
       "    <tr style=\"text-align: right;\">\n",
       "      <th></th>\n",
       "      <th>linkedinProfile</th>\n",
       "      <th>email</th>\n",
       "      <th>description</th>\n",
       "      <th>headline</th>\n",
       "      <th>location</th>\n",
       "      <th>imgUrl</th>\n",
       "      <th>firstName</th>\n",
       "      <th>lastName</th>\n",
       "      <th>fullName</th>\n",
       "      <th>subscribers</th>\n",
       "      <th>...</th>\n",
       "      <th>endorsement3</th>\n",
       "      <th>skill4</th>\n",
       "      <th>endorsement4</th>\n",
       "      <th>skill5</th>\n",
       "      <th>endorsement5</th>\n",
       "      <th>skill6</th>\n",
       "      <th>endorsement6</th>\n",
       "      <th>baseUrl</th>\n",
       "      <th>profileId</th>\n",
       "      <th>timestamp</th>\n",
       "    </tr>\n",
       "  </thead>\n",
       "  <tbody>\n",
       "    <tr>\n",
       "      <th>0</th>\n",
       "      <td>https://www.linkedin.com/in/javieromsal/</td>\n",
       "      <td>javier_omsal@hotmail.com</td>\n",
       "      <td>Through my six years of experience in automoti...</td>\n",
       "      <td>Improvement engineer | Data Analytics | Python...</td>\n",
       "      <td>Berlin, Berlin, Germany</td>\n",
       "      <td>https://media.licdn.com/dms/image/D4E03AQFH5dg...</td>\n",
       "      <td>Javier</td>\n",
       "      <td>Salinas</td>\n",
       "      <td>Javier Salinas</td>\n",
       "      <td>677</td>\n",
       "      <td>...</td>\n",
       "      <td>11</td>\n",
       "      <td>Python</td>\n",
       "      <td>9</td>\n",
       "      <td>Data Visualization</td>\n",
       "      <td>NaN</td>\n",
       "      <td>Tableau</td>\n",
       "      <td>NaN</td>\n",
       "      <td>https://www.linkedin.com/in/javieromsal/</td>\n",
       "      <td>javieromsal</td>\n",
       "      <td>2023-03-09T12:41:21.767Z</td>\n",
       "    </tr>\n",
       "  </tbody>\n",
       "</table>\n",
       "<p>1 rows × 62 columns</p>\n",
       "</div>"
      ],
      "text/plain": [
       "                            linkedinProfile                     email  \\\n",
       "0  https://www.linkedin.com/in/javieromsal/  javier_omsal@hotmail.com   \n",
       "\n",
       "                                         description  \\\n",
       "0  Through my six years of experience in automoti...   \n",
       "\n",
       "                                            headline                 location  \\\n",
       "0  Improvement engineer | Data Analytics | Python...  Berlin, Berlin, Germany   \n",
       "\n",
       "                                              imgUrl firstName lastName  \\\n",
       "0  https://media.licdn.com/dms/image/D4E03AQFH5dg...    Javier  Salinas   \n",
       "\n",
       "         fullName  subscribers  ... endorsement3  skill4  endorsement4  \\\n",
       "0  Javier Salinas          677  ...           11  Python             9   \n",
       "\n",
       "               skill5  endorsement5   skill6 endorsement6  \\\n",
       "0  Data Visualization           NaN  Tableau          NaN   \n",
       "\n",
       "                                    baseUrl    profileId  \\\n",
       "0  https://www.linkedin.com/in/javieromsal/  javieromsal   \n",
       "\n",
       "                  timestamp  \n",
       "0  2023-03-09T12:41:21.767Z  \n",
       "\n",
       "[1 rows x 62 columns]"
      ]
     },
     "execution_count": 31,
     "metadata": {},
     "output_type": "execute_result"
    }
   ],
   "source": [
    "df"
   ]
  },
  {
   "cell_type": "code",
   "execution_count": 33,
   "id": "cad72475",
   "metadata": {},
   "outputs": [
    {
     "data": {
      "text/plain": [
       "Index(['linkedinProfile', 'email', 'description', 'headline', 'location',\n",
       "       'imgUrl', 'firstName', 'lastName', 'fullName', 'subscribers',\n",
       "       'connectionDegree', 'vmid', 'userId', 'linkedinSalesNavigatorUrl',\n",
       "       'connectionsCount', 'connectionsUrl', 'mutualConnectionsUrl',\n",
       "       'mailFromDropcontact', 'mail', 'company', 'companyUrl', 'jobTitle',\n",
       "       'jobDescription', 'jobLocation', 'jobDateRange', 'company2',\n",
       "       'companyUrl2', 'jobTitle2', 'jobDescription2', 'jobLocation2',\n",
       "       'jobDateRange2', 'school', 'schoolUrl', 'schoolDegree',\n",
       "       'schoolDescription', 'schoolDateRange', 'school2', 'schoolUrl2',\n",
       "       'schoolDegree2', 'schoolDescription2', 'schoolDateRange2',\n",
       "       'qualificationFromDropContact', 'civilityFromDropContact',\n",
       "       'phoneNumberFromDropContact', 'websiteFromDropContact',\n",
       "       'companyWebsite', 'allSkills', 'skill1', 'endorsement1', 'skill2',\n",
       "       'endorsement2', 'skill3', 'endorsement3', 'skill4', 'endorsement4',\n",
       "       'skill5', 'endorsement5', 'skill6', 'endorsement6', 'baseUrl',\n",
       "       'profileId', 'timestamp'],\n",
       "      dtype='object')"
      ]
     },
     "execution_count": 33,
     "metadata": {},
     "output_type": "execute_result"
    }
   ],
   "source": [
    "df.columns"
   ]
  },
  {
   "cell_type": "code",
   "execution_count": null,
   "id": "8afd0d9f",
   "metadata": {},
   "outputs": [],
   "source": [
    "columns_needed = ['fullName','birthday','company','jobTitle','jobDateRange','location','mutualConnectionsText','school','schoolDateRange']"
   ]
  },
  {
   "cell_type": "code",
   "execution_count": 36,
   "id": "a6dbf336",
   "metadata": {},
   "outputs": [
    {
     "ename": "KeyError",
     "evalue": "\"['birthday'] not in index\"",
     "output_type": "error",
     "traceback": [
      "\u001b[1;31m---------------------------------------------------------------------------\u001b[0m",
      "\u001b[1;31mKeyError\u001b[0m                                  Traceback (most recent call last)",
      "\u001b[1;32m~\\AppData\\Local\\Temp/ipykernel_36228/3322452054.py\u001b[0m in \u001b[0;36m<module>\u001b[1;34m\u001b[0m\n\u001b[1;32m----> 1\u001b[1;33m \u001b[0mdataframe\u001b[0m \u001b[1;33m=\u001b[0m \u001b[0mdf\u001b[0m\u001b[1;33m[\u001b[0m\u001b[1;33m[\u001b[0m\u001b[1;34m'fullName'\u001b[0m\u001b[1;33m,\u001b[0m\u001b[1;34m'birthday'\u001b[0m\u001b[1;33m]\u001b[0m\u001b[1;33m]\u001b[0m\u001b[1;33m\u001b[0m\u001b[1;33m\u001b[0m\u001b[0m\n\u001b[0m",
      "\u001b[1;32m~\\anaconda3\\lib\\site-packages\\pandas\\core\\frame.py\u001b[0m in \u001b[0;36m__getitem__\u001b[1;34m(self, key)\u001b[0m\n\u001b[0;32m   3462\u001b[0m             \u001b[1;32mif\u001b[0m \u001b[0mis_iterator\u001b[0m\u001b[1;33m(\u001b[0m\u001b[0mkey\u001b[0m\u001b[1;33m)\u001b[0m\u001b[1;33m:\u001b[0m\u001b[1;33m\u001b[0m\u001b[1;33m\u001b[0m\u001b[0m\n\u001b[0;32m   3463\u001b[0m                 \u001b[0mkey\u001b[0m \u001b[1;33m=\u001b[0m \u001b[0mlist\u001b[0m\u001b[1;33m(\u001b[0m\u001b[0mkey\u001b[0m\u001b[1;33m)\u001b[0m\u001b[1;33m\u001b[0m\u001b[1;33m\u001b[0m\u001b[0m\n\u001b[1;32m-> 3464\u001b[1;33m             \u001b[0mindexer\u001b[0m \u001b[1;33m=\u001b[0m \u001b[0mself\u001b[0m\u001b[1;33m.\u001b[0m\u001b[0mloc\u001b[0m\u001b[1;33m.\u001b[0m\u001b[0m_get_listlike_indexer\u001b[0m\u001b[1;33m(\u001b[0m\u001b[0mkey\u001b[0m\u001b[1;33m,\u001b[0m \u001b[0maxis\u001b[0m\u001b[1;33m=\u001b[0m\u001b[1;36m1\u001b[0m\u001b[1;33m)\u001b[0m\u001b[1;33m[\u001b[0m\u001b[1;36m1\u001b[0m\u001b[1;33m]\u001b[0m\u001b[1;33m\u001b[0m\u001b[1;33m\u001b[0m\u001b[0m\n\u001b[0m\u001b[0;32m   3465\u001b[0m \u001b[1;33m\u001b[0m\u001b[0m\n\u001b[0;32m   3466\u001b[0m         \u001b[1;31m# take() does not accept boolean indexers\u001b[0m\u001b[1;33m\u001b[0m\u001b[1;33m\u001b[0m\u001b[0m\n",
      "\u001b[1;32m~\\anaconda3\\lib\\site-packages\\pandas\\core\\indexing.py\u001b[0m in \u001b[0;36m_get_listlike_indexer\u001b[1;34m(self, key, axis)\u001b[0m\n\u001b[0;32m   1312\u001b[0m             \u001b[0mkeyarr\u001b[0m\u001b[1;33m,\u001b[0m \u001b[0mindexer\u001b[0m\u001b[1;33m,\u001b[0m \u001b[0mnew_indexer\u001b[0m \u001b[1;33m=\u001b[0m \u001b[0max\u001b[0m\u001b[1;33m.\u001b[0m\u001b[0m_reindex_non_unique\u001b[0m\u001b[1;33m(\u001b[0m\u001b[0mkeyarr\u001b[0m\u001b[1;33m)\u001b[0m\u001b[1;33m\u001b[0m\u001b[1;33m\u001b[0m\u001b[0m\n\u001b[0;32m   1313\u001b[0m \u001b[1;33m\u001b[0m\u001b[0m\n\u001b[1;32m-> 1314\u001b[1;33m         \u001b[0mself\u001b[0m\u001b[1;33m.\u001b[0m\u001b[0m_validate_read_indexer\u001b[0m\u001b[1;33m(\u001b[0m\u001b[0mkeyarr\u001b[0m\u001b[1;33m,\u001b[0m \u001b[0mindexer\u001b[0m\u001b[1;33m,\u001b[0m \u001b[0maxis\u001b[0m\u001b[1;33m)\u001b[0m\u001b[1;33m\u001b[0m\u001b[1;33m\u001b[0m\u001b[0m\n\u001b[0m\u001b[0;32m   1315\u001b[0m \u001b[1;33m\u001b[0m\u001b[0m\n\u001b[0;32m   1316\u001b[0m         if needs_i8_conversion(ax.dtype) or isinstance(\n",
      "\u001b[1;32m~\\anaconda3\\lib\\site-packages\\pandas\\core\\indexing.py\u001b[0m in \u001b[0;36m_validate_read_indexer\u001b[1;34m(self, key, indexer, axis)\u001b[0m\n\u001b[0;32m   1375\u001b[0m \u001b[1;33m\u001b[0m\u001b[0m\n\u001b[0;32m   1376\u001b[0m             \u001b[0mnot_found\u001b[0m \u001b[1;33m=\u001b[0m \u001b[0mlist\u001b[0m\u001b[1;33m(\u001b[0m\u001b[0mensure_index\u001b[0m\u001b[1;33m(\u001b[0m\u001b[0mkey\u001b[0m\u001b[1;33m)\u001b[0m\u001b[1;33m[\u001b[0m\u001b[0mmissing_mask\u001b[0m\u001b[1;33m.\u001b[0m\u001b[0mnonzero\u001b[0m\u001b[1;33m(\u001b[0m\u001b[1;33m)\u001b[0m\u001b[1;33m[\u001b[0m\u001b[1;36m0\u001b[0m\u001b[1;33m]\u001b[0m\u001b[1;33m]\u001b[0m\u001b[1;33m.\u001b[0m\u001b[0munique\u001b[0m\u001b[1;33m(\u001b[0m\u001b[1;33m)\u001b[0m\u001b[1;33m)\u001b[0m\u001b[1;33m\u001b[0m\u001b[1;33m\u001b[0m\u001b[0m\n\u001b[1;32m-> 1377\u001b[1;33m             \u001b[1;32mraise\u001b[0m \u001b[0mKeyError\u001b[0m\u001b[1;33m(\u001b[0m\u001b[1;34mf\"{not_found} not in index\"\u001b[0m\u001b[1;33m)\u001b[0m\u001b[1;33m\u001b[0m\u001b[1;33m\u001b[0m\u001b[0m\n\u001b[0m\u001b[0;32m   1378\u001b[0m \u001b[1;33m\u001b[0m\u001b[0m\n\u001b[0;32m   1379\u001b[0m \u001b[1;33m\u001b[0m\u001b[0m\n",
      "\u001b[1;31mKeyError\u001b[0m: \"['birthday'] not in index\""
     ]
    }
   ],
   "source": [
    "dataframe = df[['fullName','birthday',]]"
   ]
  },
  {
   "cell_type": "code",
   "execution_count": 34,
   "id": "142b438d",
   "metadata": {},
   "outputs": [
    {
     "data": {
      "text/html": [
       "<div>\n",
       "<style scoped>\n",
       "    .dataframe tbody tr th:only-of-type {\n",
       "        vertical-align: middle;\n",
       "    }\n",
       "\n",
       "    .dataframe tbody tr th {\n",
       "        vertical-align: top;\n",
       "    }\n",
       "\n",
       "    .dataframe thead th {\n",
       "        text-align: right;\n",
       "    }\n",
       "</style>\n",
       "<table border=\"1\" class=\"dataframe\">\n",
       "  <thead>\n",
       "    <tr style=\"text-align: right;\">\n",
       "      <th></th>\n",
       "      <th>linkedinProfile</th>\n",
       "      <th>email</th>\n",
       "      <th>description</th>\n",
       "      <th>headline</th>\n",
       "      <th>location</th>\n",
       "      <th>imgUrl</th>\n",
       "      <th>firstName</th>\n",
       "      <th>lastName</th>\n",
       "      <th>fullName</th>\n",
       "      <th>subscribers</th>\n",
       "      <th>...</th>\n",
       "      <th>endorsement3</th>\n",
       "      <th>skill4</th>\n",
       "      <th>endorsement4</th>\n",
       "      <th>skill5</th>\n",
       "      <th>endorsement5</th>\n",
       "      <th>skill6</th>\n",
       "      <th>endorsement6</th>\n",
       "      <th>baseUrl</th>\n",
       "      <th>profileId</th>\n",
       "      <th>timestamp</th>\n",
       "    </tr>\n",
       "  </thead>\n",
       "  <tbody>\n",
       "    <tr>\n",
       "      <th>0</th>\n",
       "      <td>https://www.linkedin.com/in/safak-safali/</td>\n",
       "      <td>safaksafali@gmail.com</td>\n",
       "      <td>I'm a Berlin-based fullstack web developer, sp...</td>\n",
       "      <td>Web Developer | HTML5 | CSS | Javascript (ES6)...</td>\n",
       "      <td>Berlin, Berlin, Germany</td>\n",
       "      <td>https://media.licdn.com/dms/image/D4E03AQF_6Uq...</td>\n",
       "      <td>Safak</td>\n",
       "      <td>Safali</td>\n",
       "      <td>Safak Safali</td>\n",
       "      <td>84</td>\n",
       "      <td>...</td>\n",
       "      <td>NaN</td>\n",
       "      <td>JavaScript</td>\n",
       "      <td>1</td>\n",
       "      <td>TypeScript</td>\n",
       "      <td>NaN</td>\n",
       "      <td>Node.js</td>\n",
       "      <td>1</td>\n",
       "      <td>https://www.linkedin.com/in/safak-safali/</td>\n",
       "      <td>safak-safali</td>\n",
       "      <td>2023-03-17T15:10:20.194Z</td>\n",
       "    </tr>\n",
       "  </tbody>\n",
       "</table>\n",
       "<p>1 rows × 57 columns</p>\n",
       "</div>"
      ],
      "text/plain": [
       "                             linkedinProfile                  email  \\\n",
       "0  https://www.linkedin.com/in/safak-safali/  safaksafali@gmail.com   \n",
       "\n",
       "                                         description  \\\n",
       "0  I'm a Berlin-based fullstack web developer, sp...   \n",
       "\n",
       "                                            headline                 location  \\\n",
       "0  Web Developer | HTML5 | CSS | Javascript (ES6)...  Berlin, Berlin, Germany   \n",
       "\n",
       "                                              imgUrl firstName lastName  \\\n",
       "0  https://media.licdn.com/dms/image/D4E03AQF_6Uq...     Safak   Safali   \n",
       "\n",
       "       fullName  subscribers  ... endorsement3      skill4  endorsement4  \\\n",
       "0  Safak Safali           84  ...          NaN  JavaScript             1   \n",
       "\n",
       "       skill5  endorsement5   skill6 endorsement6  \\\n",
       "0  TypeScript           NaN  Node.js            1   \n",
       "\n",
       "                                     baseUrl     profileId  \\\n",
       "0  https://www.linkedin.com/in/safak-safali/  safak-safali   \n",
       "\n",
       "                  timestamp  \n",
       "0  2023-03-17T15:10:20.194Z  \n",
       "\n",
       "[1 rows x 57 columns]"
      ]
     },
     "execution_count": 34,
     "metadata": {},
     "output_type": "execute_result"
    }
   ],
   "source": [
    "df_trial= pd.read_csv('Trial1.csv')\n",
    "df_trial"
   ]
  },
  {
   "cell_type": "code",
   "execution_count": 35,
   "id": "3d3bd806",
   "metadata": {},
   "outputs": [
    {
     "data": {
      "text/plain": [
       "Index(['linkedinProfile', 'email', 'description', 'headline', 'location',\n",
       "       'imgUrl', 'firstName', 'lastName', 'fullName', 'subscribers',\n",
       "       'connectionDegree', 'vmid', 'userId', 'linkedinSalesNavigatorUrl',\n",
       "       'connectionsCount', 'connectionsUrl', 'mutualConnectionsUrl',\n",
       "       'mutualConnectionsText', 'mailFromDropcontact', 'mail', 'company',\n",
       "       'companyUrl', 'jobTitle', 'jobDescription', 'jobLocation',\n",
       "       'jobDateRange', 'school', 'schoolUrl', 'schoolDegree',\n",
       "       'schoolDescription', 'schoolDateRange', 'school2', 'schoolUrl2',\n",
       "       'schoolDescription2', 'schoolDateRange2',\n",
       "       'qualificationFromDropContact', 'civilityFromDropContact',\n",
       "       'websiteFromDropContact', 'connectedOn', 'website', 'companyWebsite',\n",
       "       'allSkills', 'skill1', 'endorsement1', 'skill2', 'endorsement2',\n",
       "       'skill3', 'endorsement3', 'skill4', 'endorsement4', 'skill5',\n",
       "       'endorsement5', 'skill6', 'endorsement6', 'baseUrl', 'profileId',\n",
       "       'timestamp'],\n",
       "      dtype='object')"
      ]
     },
     "execution_count": 35,
     "metadata": {},
     "output_type": "execute_result"
    }
   ],
   "source": [
    "df_trial.columns"
   ]
  },
  {
   "cell_type": "code",
   "execution_count": null,
   "id": "7e9bb59a",
   "metadata": {},
   "outputs": [],
   "source": []
  }
 ],
 "metadata": {
  "kernelspec": {
   "display_name": "Python 3 (ipykernel)",
   "language": "python",
   "name": "python3"
  },
  "language_info": {
   "codemirror_mode": {
    "name": "ipython",
    "version": 3
   },
   "file_extension": ".py",
   "mimetype": "text/x-python",
   "name": "python",
   "nbconvert_exporter": "python",
   "pygments_lexer": "ipython3",
   "version": "3.9.7"
  }
 },
 "nbformat": 4,
 "nbformat_minor": 5
}
