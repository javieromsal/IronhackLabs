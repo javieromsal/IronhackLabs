{
 "cells": [
  {
   "cell_type": "code",
   "execution_count": 11,
   "id": "e2323fef",
   "metadata": {},
   "outputs": [],
   "source": [
    "def romanToInt(s):\n",
    "    roman = {\"I\":1,\"V\":5,\"X\":10,\"L\":50,\"C\":100,\"D\":500,\"M\":1000}\n",
    "    total = 0\n",
    "    for i in range(len(s)-1):\n",
    "        if roman[s[i]] < roman[s[i+1]]:\n",
    "            total -= roman[s[i]]\n",
    "        else:\n",
    "            total+= roman[s[i]]\n",
    "    return total + roman[s[-1]]"
   ]
  },
  {
   "cell_type": "code",
   "execution_count": 12,
   "id": "8883a0e2",
   "metadata": {},
   "outputs": [],
   "source": [
    "s = \"MCMXCIV\""
   ]
  },
  {
   "cell_type": "code",
   "execution_count": 13,
   "id": "526953ca",
   "metadata": {},
   "outputs": [
    {
     "data": {
      "text/plain": [
       "1994"
      ]
     },
     "execution_count": 13,
     "metadata": {},
     "output_type": "execute_result"
    }
   ],
   "source": [
    "romanToInt(s)"
   ]
  },
  {
   "cell_type": "code",
   "execution_count": 16,
   "id": "80200ca7",
   "metadata": {},
   "outputs": [],
   "source": [
    "class Solution:\n",
    "    def romanToInt2(self, s: str) -> int:\n",
    "        roman = {\"I\":1,\"V\":5,\"X\":10,\"L\":50,\"C\":100,\"D\":500,\"M\":1000}\n",
    "        total = 0\n",
    "        for i in range(len(s)-1):\n",
    "            if roman[s[i]] < roman[s[i+1]]:\n",
    "                total -= roman[s[i]]\n",
    "            else:\n",
    "                total += roman[s[i]]\n",
    "        return total + roman[s[-1]]"
   ]
  },
  {
   "cell_type": "code",
   "execution_count": 17,
   "id": "86b47785",
   "metadata": {},
   "outputs": [
    {
     "ename": "NameError",
     "evalue": "name 'romanToInt2' is not defined",
     "output_type": "error",
     "traceback": [
      "\u001b[1;31m---------------------------------------------------------------------------\u001b[0m",
      "\u001b[1;31mNameError\u001b[0m                                 Traceback (most recent call last)",
      "\u001b[1;32m~\\AppData\\Local\\Temp/ipykernel_7472/4200132350.py\u001b[0m in \u001b[0;36m<module>\u001b[1;34m\u001b[0m\n\u001b[1;32m----> 1\u001b[1;33m \u001b[0mromanToInt2\u001b[0m\u001b[1;33m(\u001b[0m\u001b[0ms\u001b[0m\u001b[1;33m)\u001b[0m\u001b[1;33m\u001b[0m\u001b[1;33m\u001b[0m\u001b[0m\n\u001b[0m",
      "\u001b[1;31mNameError\u001b[0m: name 'romanToInt2' is not defined"
     ]
    }
   ],
   "source": [
    "romanToInt2(s)"
   ]
  },
  {
   "cell_type": "code",
   "execution_count": 18,
   "id": "b29372c2",
   "metadata": {},
   "outputs": [],
   "source": [
    "solution = Solution()"
   ]
  },
  {
   "cell_type": "code",
   "execution_count": 20,
   "id": "0de74e36",
   "metadata": {},
   "outputs": [
    {
     "data": {
      "text/plain": [
       "1050"
      ]
     },
     "execution_count": 20,
     "metadata": {},
     "output_type": "execute_result"
    }
   ],
   "source": [
    "solution.romanToInt2(\"ML\")"
   ]
  },
  {
   "cell_type": "code",
   "execution_count": 21,
   "id": "763dccbb",
   "metadata": {},
   "outputs": [],
   "source": [
    "class Student:\n",
    "    def __init__(self,name,age,py_score):\n",
    "        self.name = name\n",
    "        self.age = age\n",
    "        self.py_score = py_score\n",
    "        "
   ]
  },
  {
   "cell_type": "code",
   "execution_count": 23,
   "id": "cf5e53df",
   "metadata": {},
   "outputs": [],
   "source": [
    "Javi = Student(\"Javi\",30, 99)"
   ]
  },
  {
   "cell_type": "code",
   "execution_count": 26,
   "id": "7a20210b",
   "metadata": {},
   "outputs": [],
   "source": [
    "Javi.age = 25"
   ]
  },
  {
   "cell_type": "code",
   "execution_count": 27,
   "id": "69b225ed",
   "metadata": {},
   "outputs": [
    {
     "data": {
      "text/plain": [
       "25"
      ]
     },
     "execution_count": 27,
     "metadata": {},
     "output_type": "execute_result"
    }
   ],
   "source": [
    "Javi.age"
   ]
  },
  {
   "cell_type": "code",
   "execution_count": null,
   "id": "4362a3ea",
   "metadata": {},
   "outputs": [],
   "source": [
    "df.shape"
   ]
  },
  {
   "cell_type": "code",
   "execution_count": 24,
   "id": "4bafdc93",
   "metadata": {},
   "outputs": [],
   "source": [
    "from pandas import DataFrame"
   ]
  },
  {
   "cell_type": "code",
   "execution_count": null,
   "id": "27d4468f",
   "metadata": {},
   "outputs": [],
   "source": [
    "df = pd.DataFrame()"
   ]
  },
  {
   "cell_type": "code",
   "execution_count": 28,
   "id": "867a01e6",
   "metadata": {},
   "outputs": [],
   "source": [
    "Aleks = Student(\"Aleks\",29,100)"
   ]
  },
  {
   "cell_type": "markdown",
   "id": "5633a110",
   "metadata": {},
   "source": [
    "## 9. Palindrome Number"
   ]
  },
  {
   "cell_type": "markdown",
   "id": "08a781b4",
   "metadata": {},
   "source": [
    "Given an integer x, return true if x is a palindrime, and false otherwise"
   ]
  },
  {
   "cell_type": "code",
   "execution_count": 48,
   "id": "749a7038",
   "metadata": {},
   "outputs": [
    {
     "name": "stdout",
     "output_type": "stream",
     "text": [
      "Enter an integer to check if its a paliindrome: 34\n"
     ]
    }
   ],
   "source": [
    "x = int(input(\"Enter an integer to check if its a paliindrome: \"))"
   ]
  },
  {
   "cell_type": "code",
   "execution_count": 49,
   "id": "1adda84e",
   "metadata": {},
   "outputs": [
    {
     "data": {
      "text/plain": [
       "34"
      ]
     },
     "execution_count": 49,
     "metadata": {},
     "output_type": "execute_result"
    }
   ],
   "source": [
    "x"
   ]
  },
  {
   "cell_type": "code",
   "execution_count": 50,
   "id": "777958fc",
   "metadata": {},
   "outputs": [
    {
     "data": {
      "text/plain": [
       "int"
      ]
     },
     "execution_count": 50,
     "metadata": {},
     "output_type": "execute_result"
    }
   ],
   "source": [
    "type(x)"
   ]
  },
  {
   "cell_type": "code",
   "execution_count": 64,
   "id": "3201e8ba",
   "metadata": {},
   "outputs": [],
   "source": [
    "x = 12"
   ]
  },
  {
   "cell_type": "code",
   "execution_count": 67,
   "id": "3f4bc530",
   "metadata": {},
   "outputs": [],
   "source": [
    "def isPalindrome(x):\n",
    "    if x < 0 or (x!=0 and x % 10==0):\n",
    "        return False\n",
    "    \n",
    "    half = 0\n",
    "    while x > half:\n",
    "        half = (half*10)+(x%10)\n",
    "        x = x//10\n",
    "    return x == half or x == half//10"
   ]
  },
  {
   "cell_type": "code",
   "execution_count": 72,
   "id": "35b752e8",
   "metadata": {},
   "outputs": [
    {
     "data": {
      "text/plain": [
       "False"
      ]
     },
     "execution_count": 72,
     "metadata": {},
     "output_type": "execute_result"
    }
   ],
   "source": [
    "isPalindrome(6560)"
   ]
  },
  {
   "cell_type": "markdown",
   "id": "91db8d59",
   "metadata": {},
   "source": [
    "## CamelCase"
   ]
  },
  {
   "cell_type": "code",
   "execution_count": 42,
   "id": "5ef6d990",
   "metadata": {},
   "outputs": [],
   "source": [
    "import re"
   ]
  },
  {
   "cell_type": "code",
   "execution_count": 43,
   "id": "bed1608d",
   "metadata": {},
   "outputs": [],
   "source": [
    "def checkcamelcase(str):\n",
    "    pattern = \"^([A-Z][a-z]+)*$\"\n",
    "    if (re.match(pattern,str)):\n",
    "        return (True)\n",
    "    else:\n",
    "        return(False)"
   ]
  },
  {
   "cell_type": "code",
   "execution_count": 47,
   "id": "41e67d01",
   "metadata": {},
   "outputs": [
    {
     "data": {
      "text/plain": [
       "False"
      ]
     },
     "execution_count": 47,
     "metadata": {},
     "output_type": "execute_result"
    }
   ],
   "source": [
    "checkcamelcase(\"solra\")"
   ]
  },
  {
   "cell_type": "code",
   "execution_count": 73,
   "id": "5f1247f8",
   "metadata": {},
   "outputs": [],
   "source": [
    "my_dict = {'ber.23':150,'mex.20':300}"
   ]
  },
  {
   "cell_type": "code",
   "execution_count": 75,
   "id": "955abe2f",
   "metadata": {},
   "outputs": [
    {
     "data": {
      "text/plain": [
       "dict"
      ]
     },
     "execution_count": 75,
     "metadata": {},
     "output_type": "execute_result"
    }
   ],
   "source": [
    "type(my_dict)"
   ]
  },
  {
   "cell_type": "code",
   "execution_count": 79,
   "id": "3e81ed79",
   "metadata": {},
   "outputs": [],
   "source": [
    "keys_list = [key.split('.') for key in my_dict.keys()]"
   ]
  },
  {
   "cell_type": "code",
   "execution_count": 80,
   "id": "72264342",
   "metadata": {},
   "outputs": [
    {
     "data": {
      "text/plain": [
       "[['ber', '23'], ['mex', '20']]"
      ]
     },
     "execution_count": 80,
     "metadata": {},
     "output_type": "execute_result"
    }
   ],
   "source": [
    "keys_list "
   ]
  },
  {
   "cell_type": "code",
   "execution_count": 85,
   "id": "cf25d10b",
   "metadata": {},
   "outputs": [],
   "source": [
    "Cap_list = [key.capitalize() for key in my_dict.keys()]"
   ]
  },
  {
   "cell_type": "code",
   "execution_count": 86,
   "id": "64a8797a",
   "metadata": {},
   "outputs": [
    {
     "data": {
      "text/plain": [
       "['Ber.23', 'Mex.20']"
      ]
     },
     "execution_count": 86,
     "metadata": {},
     "output_type": "execute_result"
    }
   ],
   "source": [
    "Cap_list "
   ]
  },
  {
   "cell_type": "code",
   "execution_count": 98,
   "id": "f0357ef7",
   "metadata": {},
   "outputs": [],
   "source": [
    "k_list = list(my_dict.keys())\n",
    "val_list = list(my_dict.values())"
   ]
  },
  {
   "cell_type": "code",
   "execution_count": 99,
   "id": "93f85553",
   "metadata": {},
   "outputs": [
    {
     "data": {
      "text/plain": [
       "['ber.23', 'mex.20']"
      ]
     },
     "execution_count": 99,
     "metadata": {},
     "output_type": "execute_result"
    }
   ],
   "source": [
    "k_list"
   ]
  },
  {
   "cell_type": "code",
   "execution_count": 100,
   "id": "8d529418",
   "metadata": {},
   "outputs": [
    {
     "data": {
      "text/plain": [
       "[150, 300]"
      ]
     },
     "execution_count": 100,
     "metadata": {},
     "output_type": "execute_result"
    }
   ],
   "source": [
    "val_list"
   ]
  },
  {
   "cell_type": "code",
   "execution_count": 101,
   "id": "331fd996",
   "metadata": {},
   "outputs": [],
   "source": [
    "Kap_list = [k.capitalize() for k in k_list]"
   ]
  },
  {
   "cell_type": "code",
   "execution_count": 102,
   "id": "ec891a21",
   "metadata": {},
   "outputs": [
    {
     "data": {
      "text/plain": [
       "['Ber.23', 'Mex.20']"
      ]
     },
     "execution_count": 102,
     "metadata": {},
     "output_type": "execute_result"
    }
   ],
   "source": [
    "Kap_list"
   ]
  },
  {
   "cell_type": "code",
   "execution_count": 103,
   "id": "c9c02910",
   "metadata": {},
   "outputs": [],
   "source": [
    "spl_list = [k.split('.') for k in k_list]"
   ]
  },
  {
   "cell_type": "code",
   "execution_count": 104,
   "id": "db59ff35",
   "metadata": {},
   "outputs": [
    {
     "data": {
      "text/plain": [
       "[['ber', '23'], ['mex', '20']]"
      ]
     },
     "execution_count": 104,
     "metadata": {},
     "output_type": "execute_result"
    }
   ],
   "source": [
    "spl_list"
   ]
  },
  {
   "cell_type": "code",
   "execution_count": 105,
   "id": "af82206c",
   "metadata": {},
   "outputs": [],
   "source": [
    "so = [[i.capitalize() for sublist in spl_list for i in sublist]]"
   ]
  },
  {
   "cell_type": "code",
   "execution_count": 106,
   "id": "f0276757",
   "metadata": {},
   "outputs": [
    {
     "data": {
      "text/plain": [
       "[['Ber', '23', 'Mex', '20']]"
      ]
     },
     "execution_count": 106,
     "metadata": {},
     "output_type": "execute_result"
    }
   ],
   "source": [
    "so"
   ]
  },
  {
   "cell_type": "code",
   "execution_count": null,
   "id": "c62e4f27",
   "metadata": {},
   "outputs": [],
   "source": []
  }
 ],
 "metadata": {
  "kernelspec": {
   "display_name": "Python 3 (ipykernel)",
   "language": "python",
   "name": "python3"
  },
  "language_info": {
   "codemirror_mode": {
    "name": "ipython",
    "version": 3
   },
   "file_extension": ".py",
   "mimetype": "text/x-python",
   "name": "python",
   "nbconvert_exporter": "python",
   "pygments_lexer": "ipython3",
   "version": "3.9.7"
  }
 },
 "nbformat": 4,
 "nbformat_minor": 5
}
